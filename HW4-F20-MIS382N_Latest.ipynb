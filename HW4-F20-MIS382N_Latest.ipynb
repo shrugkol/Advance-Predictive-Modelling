{
 "cells": [
  {
   "cell_type": "markdown",
   "metadata": {},
   "source": [
    "\n",
    "# <p style=\"text-align: center;\">MIS 382N: ADVANCED PREDICTIVE MODELING - MSBA</p>\n",
    "# <p style=\"text-align: center;\">Assignment 4</p>\n",
    "## <p style=\"text-align: center;\">Total points: 80 </p>\n",
    "## <p style=\"text-align: center;\">Due: November 9, submitted via Canvas by 11:59 pm</p>\n",
    "\n",
    "Your homework should be written in a **Jupyter notebook**. You may work in groups of two if you wish. Your partner needs to be from the same section. Only one student per team needs to submit the assignment on Canvas.  But be sure to include name and UTEID for both students.  Homework groups will be created and managed through Canvas, so please do not arbitrarily change your homework group. If you do change, let the TA know. \n",
    "\n",
    "Also, please make sure your code runs and the graphics (and anything else) are displayed in your notebook before submitting. (%matplotlib inline)\n",
    "\n",
    "### Name(s)\n",
    "1. Jocelyne Walker (EID- jvw359)\n",
    "2. Shruti Kolhatkar (EID-sgk637)"
   ]
  },
  {
   "cell_type": "markdown",
   "metadata": {
    "id": "iPnCWgHS9gZa"
   },
   "source": [
    "# Question 1 (20 pts) - Principal Component Analysis\n",
    "\n",
    "Download dataset from [this link](https://drive.google.com/file/d/1U6FDSQQSUzvw3Ygtgp8I5ea0-dL-orSE/view?usp=sharing).\n"
   ]
  },
  {
   "cell_type": "markdown",
   "metadata": {
    "id": "cVj2mFUkLb10"
   },
   "source": [
    "In this problem we will be applying PCA on the Lending Club loan dataset. A simplified version of the dataset with reduced number of samples. Please use the dataset in the above link. We will use reduced number of features and only two classes as shown below."
   ]
  },
  {
   "cell_type": "code",
   "execution_count": 63,
   "metadata": {
    "colab": {
     "base_uri": "https://localhost:8080/",
     "height": 71
    },
    "id": "1p3-E8GF9e9U",
    "outputId": "6f3b1cdb-d9d0-4c15-8f0d-d58b298f33e1"
   },
   "outputs": [
    {
     "name": "stderr",
     "output_type": "stream",
     "text": [
      "C:\\Users\\jocel\\anaconda3\\lib\\site-packages\\IPython\\core\\interactiveshell.py:3063: DtypeWarning: Columns (123,124,125,128,129,130,133,139,140,141) have mixed types.Specify dtype option on import or set low_memory=False.\n",
      "  interactivity=interactivity, compiler=compiler, result=result)\n"
     ]
    },
    {
     "data": {
      "text/plain": [
       "(226067, 161)"
      ]
     },
     "execution_count": 63,
     "metadata": {},
     "output_type": "execute_result"
    }
   ],
   "source": [
    "import os, sys, re\n",
    "import time\n",
    "import numpy as np\n",
    "import pandas as pd\n",
    "from sklearn.model_selection import train_test_split\n",
    "\n",
    "# Load the csv file and fill Nan/empty values as 0\n",
    "dataset = pd.read_csv('loan.csv')\n",
    "df = dataset.fillna(0)\n",
    "\n",
    "# We will be using only two classes and group them as below\n",
    "def LoanResult(status):\n",
    "    if (status == 'Fully Paid') or (status == 'Current'):\n",
    "        return 1\n",
    "    else:\n",
    "        return 0\n",
    "\n",
    "df['loan_status'] = df['loan_status'].apply(LoanResult)\n",
    "\n",
    "# Set of features which indicate the dimensionality of the data\n",
    "df = df[['loan_amnt', 'funded_amnt', 'funded_amnt_inv', 'term', 'int_rate', 'installment', 'grade', 'sub_grade',\n",
    "             'emp_length', 'home_ownership','annual_inc', 'verification_status', 'loan_status',\n",
    "             'purpose','addr_state', 'dti','open_acc', 'pub_rec', 'revol_bal', 'revol_util', \n",
    "             'initial_list_status', 'recoveries','collection_recovery_fee', 'last_pymnt_d', 'last_pymnt_amnt',\n",
    "             'application_type', 'tot_coll_amt', 'tot_cur_bal', 'avg_cur_bal', 'chargeoff_within_12_mths',\n",
    "             'pub_rec_bankruptcies', 'tax_liens', 'debt_settlement_flag']]\n",
    "\n",
    "#For simplicity, in this question, we select all columns that do not contain integer of float type of data. Then, one hot encoding is performed.\n",
    "df_cat = df.select_dtypes(exclude=['int64', 'float64'])\n",
    "df = pd.get_dummies(df, df_cat.columns.values)\n",
    "\n",
    "df.shape\n",
    "\n",
    "# We select the `loan_status` column as the target column.  "
   ]
  },
  {
   "cell_type": "markdown",
   "metadata": {
    "id": "DBa59pnAp-PH"
   },
   "source": [
    "Use Principal Component Analysis (PCA) to solve this problem.  \n",
    "\n",
    "* **1.1 (1 pt)** Perform the following steps to prepare the dataset:\n",
    "\n",
    "    * Select the 'loan_status' column as the target column and the rest of the columns from the dataframe df as X. \n",
    "\n",
    "    * Split the dataset into train and test set with 25% data in test set and random_state = 42\n",
    "\n",
    "    * Perform [Min-Max Scaling](https://scikit-learn.org/stable/modules/generated/sklearn.preprocessing.MinMaxScaler.html) on the dataset. Remember that when we have training and testing data, we fit preprocessing parameters on training data and apply them to all testing data. You should scale only the features (independent variables), not the target variable y.\n",
    "    \n",
    "    Note: X should have 160 features.\n",
    "    \n",
    "\n",
    "* **1.2 (8 pts)** Use [PCA](https://scikit-learn.org/stable/modules/generated/sklearn.decomposition.PCA.html) and reduce the dimension of X to the following components: 100, 30, 10. For each of the three models, print the percentage(%) of variance captured by each of the compnonets and plot the scree plot the [scree plot]\n",
    "(https://www.kindsonthegenius.com/principal-components-analysispca-in-python-step-by-step/).  (PCA should be fit only on X_train).\n",
    "\n",
    "\n",
    "* **1.3 (5 pts)** Train LogisticRegression(random_state=4,max_iter=10000) with the full dimension X and each of the redued dimension X from PCA in the previous step (100, 30 and 10 dimensions). Print the classification reports for all the models -  this will print the class-wise Precision, Recall and F1 score. More details on classification report can be found [here](https://scikit-learn.org/stable/modules/generated/sklearn.metrics.classification_report.html) (Note: you will be training logistic regression 4 times (160, 100, 30 and 10 dimensional X) and will print 4 classification reports)\n",
    "\n",
    "\n",
    "* **1.4 (4 pts)** [Plot](https://scikit-learn.org/stable/auto_examples/miscellaneous/plot_roc_curve_visualization_api.html#sphx-glr-auto-examples-miscellaneous-plot-roc-curve-visualization-api-py) the ROC curves for all models (trained using dataset containing all dimensions and dataset containing reduced dimensions, total 4 models). ROC curve is used to study the classifier's output. Details on ROC can be found [here](https://scikit-learn.org/stable/auto_examples/model_selection/plot_roc.html).\n",
    "\n",
    "\n",
    "* **1.5 (2 pts)** What do you observe from the ROC curves? "
   ]
  },
  {
   "cell_type": "markdown",
   "metadata": {
    "id": "D6psjvriqhUL"
   },
   "source": [
    "# ANSWER"
   ]
  },
  {
   "cell_type": "markdown",
   "metadata": {},
   "source": [
    "### 1.1"
   ]
  },
  {
   "cell_type": "code",
   "execution_count": 64,
   "metadata": {
    "id": "vr5usZHY-GoZ"
   },
   "outputs": [],
   "source": [
    "from sklearn.preprocessing import MinMaxScaler\n",
    "\n",
    "y = df['loan_status'].values\n",
    "X = df.drop(['loan_status'], axis = 1)\n",
    "\n",
    "X_train, X_test, y_train, y_test = train_test_split(X,y,test_size = 0.25, random_state=42)\n",
    "\n",
    "scaler = MinMaxScaler()\n",
    "\n",
    "X_train = scaler.fit_transform(X_train)\n",
    "X_test = scaler.transform(X_test)"
   ]
  },
  {
   "cell_type": "markdown",
   "metadata": {},
   "source": [
    "### 1.2"
   ]
  },
  {
   "cell_type": "code",
   "execution_count": 69,
   "metadata": {
    "id": "py-IIHQ4-LKH"
   },
   "outputs": [
    {
     "name": "stdout",
     "output_type": "stream",
     "text": [
      "100 components\n",
      " [0.09170821 0.06999716 0.0602589  0.05489894 0.04921268 0.04597757\n",
      " 0.03851816 0.03388049 0.03215033 0.02880618 0.0281954  0.02293882\n",
      " 0.02220701 0.01815067 0.01576705 0.01494582 0.01267545 0.01226264\n",
      " 0.01180294 0.01163881 0.01098248 0.01082009 0.01053082 0.01014452\n",
      " 0.00972286 0.00964481 0.0094866  0.00924945 0.00913445 0.00844365\n",
      " 0.00832071 0.0081086  0.00797982 0.00792628 0.00753419 0.00711178\n",
      " 0.00698748 0.00694632 0.00690821 0.0066288  0.00584701 0.00563868\n",
      " 0.005316   0.00507763 0.00491489 0.0048995  0.00482193 0.00448456\n",
      " 0.00446927 0.0040217  0.00391064 0.00383275 0.00375874 0.00365819\n",
      " 0.00363689 0.00355144 0.00346764 0.00334729 0.00320123 0.00308354\n",
      " 0.00278864 0.00259027 0.00247221 0.00245254 0.00243357 0.00241902\n",
      " 0.00233291 0.00227157 0.00206856 0.00204655 0.00196682 0.0018561\n",
      " 0.00169784 0.00165289 0.0016117  0.00149846 0.00145721 0.00144112\n",
      " 0.00141671 0.00136576 0.00131103 0.00129171 0.00127867 0.0012089\n",
      " 0.00119485 0.00108257 0.00103143 0.00100753 0.00100126 0.00099818\n",
      " 0.00094126 0.00092762 0.00086276 0.00084417 0.00080048 0.00076097\n",
      " 0.00073918 0.00071179 0.00070049 0.00061426]\n"
     ]
    },
    {
     "data": {
      "image/png": "[encoded data removed]",
      "text/plain": [
       "<Figure size 432x288 with 1 Axes>"
      ]
     },
     "metadata": {
      "needs_background": "light"
     },
     "output_type": "display_data"
    },
    {
     "name": "stdout",
     "output_type": "stream",
     "text": [
      "30 components\n",
      " [0.09170821 0.06999716 0.0602589  0.05489894 0.04921268 0.04597757\n",
      " 0.03851815 0.03388048 0.03215032 0.02880616 0.02819538 0.02293873\n",
      " 0.02220694 0.01815053 0.01576649 0.01494398 0.0126671  0.01224224\n",
      " 0.01179211 0.01163321 0.01096668 0.01080953 0.01051988 0.01010616\n",
      " 0.00970089 0.00961713 0.00935483 0.00918078 0.00901772 0.00833576]\n"
     ]
    },
    {
     "data": {
      "image/png": "[encoded data removed]",
      "text/plain": [
       "<Figure size 432x288 with 1 Axes>"
      ]
     },
     "metadata": {
      "needs_background": "light"
     },
     "output_type": "display_data"
    },
    {
     "name": "stdout",
     "output_type": "stream",
     "text": [
      "100 components\n",
      " [0.09170821 0.06999716 0.0602589  0.05489894 0.04921268 0.04597757\n",
      " 0.03851816 0.03388048 0.03215032 0.02880615]\n"
     ]
    },
    {
     "data": {
      "image/png": "[encoded data removed]",
      "text/plain": [
       "<Figure size 432x288 with 1 Axes>"
      ]
     },
     "metadata": {
      "needs_background": "light"
     },
     "output_type": "display_data"
    }
   ],
   "source": [
    "import pandas as pd\n",
    "import numpy as np\n",
    "from sklearn.decomposition import PCA\n",
    "from sklearn import preprocessing\n",
    "import matplotlib.pyplot as plt\n",
    "\n",
    "pca_100 = PCA(n_components = 100)\n",
    "pc_100 = pca_100.fit_transform(X_train)\n",
    "pc_100_test = pca_100.transform(X_test)\n",
    "print(\"100 components\\n\", pca_100.explained_variance_ratio_)\n",
    "percent_variance = np.round(pca_100.explained_variance_ratio_* 100, decimals =2)\n",
    "plt.bar(x= range(1,101), height=percent_variance)\n",
    "plt.ylabel('Percentate of Variance Explained')\n",
    "plt.xlabel('Principal Component')\n",
    "plt.title('PCA - 100 Scree Plot')\n",
    "plt.show()\n",
    "\n",
    "pca_30 = PCA(n_components = 30)\n",
    "pc_30 = pca_30.fit_transform(X_train)\n",
    "pc_30_test = pca_30.transform(X_test)\n",
    "print(\"30 components\\n\", pca_30.explained_variance_ratio_)\n",
    "percent_variance = np.round(pca_30.explained_variance_ratio_* 100, decimals =2)\n",
    "plt.bar(x= range(1,31), height=percent_variance)\n",
    "plt.ylabel('Percentate of Variance Explained')\n",
    "plt.xlabel('Principal Component')\n",
    "plt.title('PCA - 30 Scree Plot')\n",
    "plt.show()\n",
    "\n",
    "pca_10 = PCA(n_components = 10)\n",
    "pc_10 = pca_10.fit_transform(X_train)\n",
    "pc_10_test = pca_10.transform(X_test)\n",
    "print(\"100 components\\n\", pca_10.explained_variance_ratio_)\n",
    "percent_variance = np.round(pca_10.explained_variance_ratio_* 100, decimals =2)\n",
    "plt.bar(x= range(1,11), height=percent_variance)\n",
    "plt.ylabel('Percentate of Variance Explained')\n",
    "plt.xlabel('Principal Component')\n",
    "plt.title('PCA - 10 Scree Plot')\n",
    "plt.show()\n"
   ]
  },
  {
   "cell_type": "markdown",
   "metadata": {},
   "source": [
    "### 1.3"
   ]
  },
  {
   "cell_type": "code",
   "execution_count": 4,
   "metadata": {},
   "outputs": [
    {
     "name": "stdout",
     "output_type": "stream",
     "text": [
      "160-Dim X\n",
      "               precision    recall  f1-score   support\n",
      "\n",
      "           0       0.80      0.49      0.60      2488\n",
      "           1       0.99      1.00      1.00    167062\n",
      "\n",
      "    accuracy                           0.99    169550\n",
      "   macro avg       0.89      0.74      0.80    169550\n",
      "weighted avg       0.99      0.99      0.99    169550\n",
      "\n",
      "\n",
      "100-Dim X\n",
      "               precision    recall  f1-score   support\n",
      "\n",
      "           0       0.74      0.24      0.37      2488\n",
      "           1       0.99      1.00      0.99    167062\n",
      "\n",
      "    accuracy                           0.99    169550\n",
      "   macro avg       0.87      0.62      0.68    169550\n",
      "weighted avg       0.99      0.99      0.98    169550\n",
      "\n",
      "\n",
      "30-Dim X\n",
      "               precision    recall  f1-score   support\n",
      "\n",
      "           0       0.29      0.04      0.07      2488\n",
      "           1       0.99      1.00      0.99    167062\n",
      "\n",
      "    accuracy                           0.98    169550\n",
      "   macro avg       0.64      0.52      0.53    169550\n",
      "weighted avg       0.98      0.98      0.98    169550\n",
      "\n"
     ]
    },
    {
     "name": "stderr",
     "output_type": "stream",
     "text": [
      "C:\\Users\\jocel\\anaconda3\\lib\\site-packages\\sklearn\\metrics\\_classification.py:1272: UndefinedMetricWarning: Precision and F-score are ill-defined and being set to 0.0 in labels with no predicted samples. Use `zero_division` parameter to control this behavior.\n",
      "  _warn_prf(average, modifier, msg_start, len(result))\n"
     ]
    },
    {
     "name": "stdout",
     "output_type": "stream",
     "text": [
      "\n",
      "10-Dim X\n",
      "               precision    recall  f1-score   support\n",
      "\n",
      "           0       0.00      0.00      0.00      2488\n",
      "           1       0.99      1.00      0.99    167062\n",
      "\n",
      "    accuracy                           0.99    169550\n",
      "   macro avg       0.49      0.50      0.50    169550\n",
      "weighted avg       0.97      0.99      0.98    169550\n",
      "\n"
     ]
    }
   ],
   "source": [
    "# do we use training or testing data??????????????\n",
    "\n",
    "from sklearn.linear_model import LogisticRegression\n",
    "from sklearn.metrics import classification_report\n",
    "\n",
    "LogReg_160 = LogisticRegression(random_state=4, max_iter=10000)\n",
    "fitted_X_160 = LogReg_160.fit(X_train, y_train)\n",
    "pred_160 = LogReg_160.predict(X_train)\n",
    "print(\"160-Dim X\\n\",classification_report(y_train,pred_160))\n",
    "\n",
    "LogReg_100 = LogisticRegression(random_state=4, max_iter=10000)\n",
    "fitted_X_100 = LogReg_100.fit(pc_100, y_train)\n",
    "pred_100 = LogReg_100.predict(pc_100)\n",
    "print(\"\\n100-Dim X\\n\",classification_report(y_train,pred_100))\n",
    "\n",
    "LogReg_30 = LogisticRegression(random_state=4, max_iter=10000)\n",
    "fitted_X_30 = LogReg_30.fit(pc_30, y_train)\n",
    "pred_30 = LogReg_30.predict(pc_30)\n",
    "print(\"\\n30-Dim X\\n\",classification_report(y_train,pred_30))\n",
    "\n",
    "LogReg_10 = LogisticRegression(random_state=4, max_iter=10000)\n",
    "fitted_X_10 = LogReg_10.fit(pc_10, y_train)\n",
    "pred_10 = LogReg_10.predict(pc_10)\n",
    "print(\"\\n10-Dim X\\n\",classification_report(y_train,pred_10))\n"
   ]
  },
  {
   "cell_type": "markdown",
   "metadata": {},
   "source": [
    "### 1.4"
   ]
  },
  {
   "cell_type": "code",
   "execution_count": 68,
   "metadata": {},
   "outputs": [
    {
     "data": {
      "image/png": "[encoded data removed]",
      "text/plain": [
       "<Figure size 432x288 with 1 Axes>"
      ]
     },
     "metadata": {
      "needs_background": "light"
     },
     "output_type": "display_data"
    },
    {
     "data": {
      "image/png": "[encoded data removed]",
      "text/plain": [
       "<Figure size 432x288 with 1 Axes>"
      ]
     },
     "metadata": {
      "needs_background": "light"
     },
     "output_type": "display_data"
    },
    {
     "data": {
      "image/png": "[encoded data removed]",
      "text/plain": [
       "<Figure size 432x288 with 1 Axes>"
      ]
     },
     "metadata": {
      "needs_background": "light"
     },
     "output_type": "display_data"
    },
    {
     "data": {
      "image/png": "[encoded data removed]",
      "text/plain": [
       "<Figure size 432x288 with 1 Axes>"
      ]
     },
     "metadata": {
      "needs_background": "light"
     },
     "output_type": "display_data"
    },
    {
     "data": {
      "image/png": "[encoded data removed]",
      "text/plain": [
       "<Figure size 432x288 with 1 Axes>"
      ]
     },
     "metadata": {
      "needs_background": "light"
     },
     "output_type": "display_data"
    },
    {
     "data": {
      "image/png": "[encoded data removed]",
      "text/plain": [
       "<Figure size 432x288 with 1 Axes>"
      ]
     },
     "metadata": {
      "needs_background": "light"
     },
     "output_type": "display_data"
    },
    {
     "data": {
      "image/png": "[encoded data removed]",
      "text/plain": [
       "<Figure size 432x288 with 1 Axes>"
      ]
     },
     "metadata": {
      "needs_background": "light"
     },
     "output_type": "display_data"
    },
    {
     "data": {
      "image/png": "[encoded data removed]",
      "text/plain": [
       "<Figure size 432x288 with 1 Axes>"
      ]
     },
     "metadata": {
      "needs_background": "light"
     },
     "output_type": "display_data"
    }
   ],
   "source": [
    "from sklearn.metrics import plot_roc_curve\n",
    "\n",
    "LogReg_160_disp = plot_roc_curve(LogReg_160, X_train, y_train)\n",
    "plt.title('Full X - Train - 160 ROC Curve')\n",
    "plt.show()\n",
    "\n",
    "LogReg_160_disp = plot_roc_curve(LogReg_160, X_test, y_test)\n",
    "plt.title('Full X - Test - 160 ROC Curve')\n",
    "plt.show()\n",
    "\n",
    "LogReg_100_disp = plot_roc_curve(LogReg_100, pc_100, y_train)\n",
    "plt.title('PCA - Train - 100 ROC Curve')\n",
    "plt.show()\n",
    "\n",
    "LogReg_100_disp = plot_roc_curve(LogReg_100, pc_100_test, y_test)\n",
    "plt.title('PCA - Test - 100 ROC Curve')\n",
    "plt.show()\n",
    "\n",
    "LogReg_30_disp = plot_roc_curve(LogReg_30, pc_30, y_train)\n",
    "plt.title('PCA - Train - 30 ROC Curve')\n",
    "plt.show()\n",
    "\n",
    "LogReg_30_disp = plot_roc_curve(LogReg_30, pc_30_test, y_test)\n",
    "plt.title('PCA - Test - 30 ROC Curve')\n",
    "plt.show()\n",
    "\n",
    "LogReg_10_disp = plot_roc_curve(LogReg_10, pc_10, y_train)\n",
    "plt.title('PCA - Train - 10 ROC Curve')\n",
    "plt.show()\n",
    "\n",
    "LogReg_10_disp = plot_roc_curve(LogReg_10, pc_10_test, y_test)\n",
    "plt.title('PCA - Test - 10 ROC Curve')\n",
    "plt.show()"
   ]
  },
  {
   "cell_type": "markdown",
   "metadata": {},
   "source": [
    "### 1.5\n"
   ]
  },
  {
   "cell_type": "markdown",
   "metadata": {},
   "source": [
    "From the ROC curves, we see that the 100 and 30 PCA models explain nearly the same amount of variance in the data as the full model. Only when we go to the 10 PCA model do we see a signiciant decline in the classification performance."
   ]
  },
  {
   "cell_type": "markdown",
   "metadata": {
    "id": "TIUXYtLjp42P"
   },
   "source": [
    "# Question 2 (20 pts)- Decision Tree Classifier\n",
    "Download dataset from [this link](https://drive.google.com/file/d/1iWh0gF2bXOYSnuq843qLxnFphT1HN-lq/view?usp=sharing).\n",
    "\n",
    "**Customer Eligibility for Deposits**\n",
    "\n",
    "We will build a Decision Tree classification model to predict if a customer will subscribe or no (yes/no)."
   ]
  },
  {
   "cell_type": "code",
   "execution_count": 6,
   "metadata": {
    "id": "TTVfoexN2c-m"
   },
   "outputs": [],
   "source": [
    "import pandas as pd\n",
    "import numpy as np\n",
    "import matplotlib.pyplot as plt\n",
    "import seaborn as sns\n",
    "from sklearn.cluster import KMeans\n",
    "from sklearn import datasets\n",
    "from io import StringIO\n",
    "from sklearn.tree import export_graphviz\n",
    "from sklearn.model_selection import train_test_split\n",
    "from sklearn import tree\n",
    "from sklearn import metrics\n",
    "%matplotlib inline"
   ]
  },
  {
   "cell_type": "code",
   "execution_count": 7,
   "metadata": {
    "colab": {
     "base_uri": "https://localhost:8080/",
     "height": 224
    },
    "id": "rRdgrEqyp7LY",
    "outputId": "ff116e9c-8989-4df0-fc9d-c1ee8fb687fe"
   },
   "outputs": [
    {
     "data": {
      "text/html": [
       "<div>\n",
       "<style scoped>\n",
       "    .dataframe tbody tr th:only-of-type {\n",
       "        vertical-align: middle;\n",
       "    }\n",
       "\n",
       "    .dataframe tbody tr th {\n",
       "        vertical-align: top;\n",
       "    }\n",
       "\n",
       "    .dataframe thead th {\n",
       "        text-align: right;\n",
       "    }\n",
       "</style>\n",
       "<table border=\"1\" class=\"dataframe\">\n",
       "  <thead>\n",
       "    <tr style=\"text-align: right;\">\n",
       "      <th></th>\n",
       "      <th>age</th>\n",
       "      <th>job</th>\n",
       "      <th>marital</th>\n",
       "      <th>education</th>\n",
       "      <th>default</th>\n",
       "      <th>balance</th>\n",
       "      <th>housing</th>\n",
       "      <th>loan</th>\n",
       "      <th>contact</th>\n",
       "      <th>day</th>\n",
       "      <th>month</th>\n",
       "      <th>duration</th>\n",
       "      <th>campaign</th>\n",
       "      <th>pdays</th>\n",
       "      <th>previous</th>\n",
       "      <th>poutcome</th>\n",
       "      <th>deposit</th>\n",
       "    </tr>\n",
       "  </thead>\n",
       "  <tbody>\n",
       "    <tr>\n",
       "      <th>0</th>\n",
       "      <td>59</td>\n",
       "      <td>admin.</td>\n",
       "      <td>married</td>\n",
       "      <td>secondary</td>\n",
       "      <td>no</td>\n",
       "      <td>2343</td>\n",
       "      <td>yes</td>\n",
       "      <td>no</td>\n",
       "      <td>unknown</td>\n",
       "      <td>5</td>\n",
       "      <td>may</td>\n",
       "      <td>1042</td>\n",
       "      <td>1</td>\n",
       "      <td>-1</td>\n",
       "      <td>0</td>\n",
       "      <td>unknown</td>\n",
       "      <td>yes</td>\n",
       "    </tr>\n",
       "    <tr>\n",
       "      <th>1</th>\n",
       "      <td>56</td>\n",
       "      <td>admin.</td>\n",
       "      <td>married</td>\n",
       "      <td>secondary</td>\n",
       "      <td>no</td>\n",
       "      <td>45</td>\n",
       "      <td>no</td>\n",
       "      <td>no</td>\n",
       "      <td>unknown</td>\n",
       "      <td>5</td>\n",
       "      <td>may</td>\n",
       "      <td>1467</td>\n",
       "      <td>1</td>\n",
       "      <td>-1</td>\n",
       "      <td>0</td>\n",
       "      <td>unknown</td>\n",
       "      <td>yes</td>\n",
       "    </tr>\n",
       "    <tr>\n",
       "      <th>2</th>\n",
       "      <td>41</td>\n",
       "      <td>technician</td>\n",
       "      <td>married</td>\n",
       "      <td>secondary</td>\n",
       "      <td>no</td>\n",
       "      <td>1270</td>\n",
       "      <td>yes</td>\n",
       "      <td>no</td>\n",
       "      <td>unknown</td>\n",
       "      <td>5</td>\n",
       "      <td>may</td>\n",
       "      <td>1389</td>\n",
       "      <td>1</td>\n",
       "      <td>-1</td>\n",
       "      <td>0</td>\n",
       "      <td>unknown</td>\n",
       "      <td>yes</td>\n",
       "    </tr>\n",
       "    <tr>\n",
       "      <th>3</th>\n",
       "      <td>55</td>\n",
       "      <td>services</td>\n",
       "      <td>married</td>\n",
       "      <td>secondary</td>\n",
       "      <td>no</td>\n",
       "      <td>2476</td>\n",
       "      <td>yes</td>\n",
       "      <td>no</td>\n",
       "      <td>unknown</td>\n",
       "      <td>5</td>\n",
       "      <td>may</td>\n",
       "      <td>579</td>\n",
       "      <td>1</td>\n",
       "      <td>-1</td>\n",
       "      <td>0</td>\n",
       "      <td>unknown</td>\n",
       "      <td>yes</td>\n",
       "    </tr>\n",
       "    <tr>\n",
       "      <th>4</th>\n",
       "      <td>54</td>\n",
       "      <td>admin.</td>\n",
       "      <td>married</td>\n",
       "      <td>tertiary</td>\n",
       "      <td>no</td>\n",
       "      <td>184</td>\n",
       "      <td>no</td>\n",
       "      <td>no</td>\n",
       "      <td>unknown</td>\n",
       "      <td>5</td>\n",
       "      <td>may</td>\n",
       "      <td>673</td>\n",
       "      <td>2</td>\n",
       "      <td>-1</td>\n",
       "      <td>0</td>\n",
       "      <td>unknown</td>\n",
       "      <td>yes</td>\n",
       "    </tr>\n",
       "  </tbody>\n",
       "</table>\n",
       "</div>"
      ],
      "text/plain": [
       "   age         job  marital  education default  balance housing loan  contact  \\\n",
       "0   59      admin.  married  secondary      no     2343     yes   no  unknown   \n",
       "1   56      admin.  married  secondary      no       45      no   no  unknown   \n",
       "2   41  technician  married  secondary      no     1270     yes   no  unknown   \n",
       "3   55    services  married  secondary      no     2476     yes   no  unknown   \n",
       "4   54      admin.  married   tertiary      no      184      no   no  unknown   \n",
       "\n",
       "   day month  duration  campaign  pdays  previous poutcome deposit  \n",
       "0    5   may      1042         1     -1         0  unknown     yes  \n",
       "1    5   may      1467         1     -1         0  unknown     yes  \n",
       "2    5   may      1389         1     -1         0  unknown     yes  \n",
       "3    5   may       579         1     -1         0  unknown     yes  \n",
       "4    5   may       673         2     -1         0  unknown     yes  "
      ]
     },
     "execution_count": 7,
     "metadata": {},
     "output_type": "execute_result"
    }
   ],
   "source": [
    "# Loading the data file\n",
    "bank=pd.read_csv('bank.csv')\n",
    "bank.head()"
   ]
  },
  {
   "cell_type": "markdown",
   "metadata": {
    "id": "peL352UDp9vt"
   },
   "source": [
    "Input variables:\n",
    "# bank client data:\n",
    "1 - `age` (numeric)\n",
    "\n",
    "2 - `job` : type of job (categorical: 'admin', 'blue-collar', 'entrepreneur', 'housemaid', 'management', 'retired', 'self-employed', 'services', 'student', 'technician', 'unemployed', 'unknown')\n",
    "\n",
    "3 - `marital` : marital status (categorical: 'divorced','married','single'; note: 'divorced' means divorced or widowed)\n",
    "\n",
    "4 - `education` (categorical: 'primary', 'secondary','tertiary')\n",
    "\n",
    "5 - `default`: has credit in default? (categorical: 'no','yes','unknown')\n",
    "\n",
    "6 - `balance`: account balance\n",
    "\n",
    "7 - `housing`: has housing loan? (categorical: 'no','yes','unknown')\n",
    "\n",
    "8 - `loan`: has personal loan? (categorical: 'no','yes','unknown')\n",
    "\n",
    "# related with the last contact of the current campaign:\n",
    "9 - `contact`: contact communication type (categorical: 'cellular','telephone')\n",
    "\n",
    "10 - `day_of_month` : 1,2....31\n",
    "\n",
    "11 - `month`: last contact month of year (categorical: 'jan', 'feb', 'mar', ..., 'nov', 'dec')\n",
    "\n",
    "12 - `duration`: last contact duration, in seconds (numeric). Important note: this attribute highly affects the output target (e.g., if duration=0 then y='no'). Yet, the duration is not known before a call is performed. Also, after the end of the call y is obviously known. Thus, this input should only be included for benchmark purposes and should be discarded if the intention is to have a realistic predictive model.\n",
    "# other attributes:\n",
    "13 - `campaign`: number of contacts performed during this campaign and for this client (numeric, includes last contact)\n",
    "\n",
    "14 - `pdays`: number of days that passed by after the client was last contacted from a previous campaign (numeric; 10000 means client was not previously contacted)\n",
    "\n",
    "15 - `previous`: number of contacts performed before this campaign and for this client (numeric)\n",
    "\n",
    "16 - `poutcome`: outcome of the previous marketing campaign (categorical: 'failure','other','success','unknown')\n",
    "\n",
    "# Output variable (desired target):\n",
    "17 - `y` - has the client subscribed a term deposit? (binary: 'yes','no')\n",
    "\n",
    "**All pre-processing is done where categorical variables are converted to numeric values and unnecessary columns are dropped.**"
   ]
  },
  {
   "cell_type": "code",
   "execution_count": 8,
   "metadata": {
    "id": "D_tH6Tj7p-Qt"
   },
   "outputs": [],
   "source": [
    "# Make a copy for parsing\n",
    "bank_data = bank.copy()\n",
    "\n",
    "# Drop 'contact', as every participant has been contacted. \n",
    "bank_data.drop('contact', axis=1, inplace=True)\n",
    "# Drop 'month' and 'day' as they don't have any intrinsic meaning\n",
    "bank_data.drop('month', axis=1, inplace=True)\n",
    "bank_data.drop('day', axis=1, inplace=True)\n",
    "\n",
    "#Convert categorical values to numeric values\n",
    "# values for \"default\" : yes/no\n",
    "bank_data[\"default\"]\n",
    "bank_data['default_cat'] = bank_data['default'].map( {'yes':1, 'no':0} )\n",
    "bank_data.drop('default', axis=1,inplace = True)\n",
    "# values for \"housing\" : yes/no\n",
    "bank_data[\"housing_cat\"]=bank_data['housing'].map({'yes':1, 'no':0})\n",
    "bank_data.drop('housing', axis=1,inplace = True)\n",
    "# values for \"loan\" : yes/no\n",
    "bank_data[\"loan_cat\"] = bank_data['loan'].map({'yes':1, 'no':0})\n",
    "bank_data.drop('loan', axis=1, inplace=True)\n",
    "# values for \"deposit\" : yes/no\n",
    "bank_data[\"deposit_cat\"] = bank_data['deposit'].map({'yes':1, 'no':0})\n",
    "bank_data.drop('deposit', axis=1, inplace=True)\n",
    "\n",
    "# Convert categorical variables to dummies\n",
    "bank_data = pd.get_dummies(data=bank_data, columns = ['job', 'marital', 'education', 'poutcome'], \\\n",
    "                                   prefix = ['job', 'marital', 'education', 'poutcome'])\n",
    "\n",
    "# Convert p_days to a probability value\n",
    "bank_data['recent_pdays'] = np.where(bank_data['pdays'], 1/bank_data.pdays, 1/bank_data.pdays)\n",
    "# Drop 'pdays'\n",
    "bank_data.drop('pdays', axis=1, inplace = True)"
   ]
  },
  {
   "cell_type": "code",
   "execution_count": 9,
   "metadata": {
    "colab": {
     "base_uri": "https://localhost:8080/",
     "height": 241
    },
    "id": "mFdtXno1qplD",
    "outputId": "9381df70-6a59-4f46-afbf-a8f2fb8f83e3"
   },
   "outputs": [
    {
     "data": {
      "text/html": [
       "<div>\n",
       "<style scoped>\n",
       "    .dataframe tbody tr th:only-of-type {\n",
       "        vertical-align: middle;\n",
       "    }\n",
       "\n",
       "    .dataframe tbody tr th {\n",
       "        vertical-align: top;\n",
       "    }\n",
       "\n",
       "    .dataframe thead th {\n",
       "        text-align: right;\n",
       "    }\n",
       "</style>\n",
       "<table border=\"1\" class=\"dataframe\">\n",
       "  <thead>\n",
       "    <tr style=\"text-align: right;\">\n",
       "      <th></th>\n",
       "      <th>age</th>\n",
       "      <th>balance</th>\n",
       "      <th>duration</th>\n",
       "      <th>campaign</th>\n",
       "      <th>previous</th>\n",
       "      <th>default_cat</th>\n",
       "      <th>housing_cat</th>\n",
       "      <th>loan_cat</th>\n",
       "      <th>deposit_cat</th>\n",
       "      <th>job_admin.</th>\n",
       "      <th>...</th>\n",
       "      <th>marital_single</th>\n",
       "      <th>education_primary</th>\n",
       "      <th>education_secondary</th>\n",
       "      <th>education_tertiary</th>\n",
       "      <th>education_unknown</th>\n",
       "      <th>poutcome_failure</th>\n",
       "      <th>poutcome_other</th>\n",
       "      <th>poutcome_success</th>\n",
       "      <th>poutcome_unknown</th>\n",
       "      <th>recent_pdays</th>\n",
       "    </tr>\n",
       "  </thead>\n",
       "  <tbody>\n",
       "    <tr>\n",
       "      <th>0</th>\n",
       "      <td>59</td>\n",
       "      <td>2343</td>\n",
       "      <td>1042</td>\n",
       "      <td>1</td>\n",
       "      <td>0</td>\n",
       "      <td>0</td>\n",
       "      <td>1</td>\n",
       "      <td>0</td>\n",
       "      <td>1</td>\n",
       "      <td>1</td>\n",
       "      <td>...</td>\n",
       "      <td>0</td>\n",
       "      <td>0</td>\n",
       "      <td>1</td>\n",
       "      <td>0</td>\n",
       "      <td>0</td>\n",
       "      <td>0</td>\n",
       "      <td>0</td>\n",
       "      <td>0</td>\n",
       "      <td>1</td>\n",
       "      <td>-1.0</td>\n",
       "    </tr>\n",
       "    <tr>\n",
       "      <th>1</th>\n",
       "      <td>56</td>\n",
       "      <td>45</td>\n",
       "      <td>1467</td>\n",
       "      <td>1</td>\n",
       "      <td>0</td>\n",
       "      <td>0</td>\n",
       "      <td>0</td>\n",
       "      <td>0</td>\n",
       "      <td>1</td>\n",
       "      <td>1</td>\n",
       "      <td>...</td>\n",
       "      <td>0</td>\n",
       "      <td>0</td>\n",
       "      <td>1</td>\n",
       "      <td>0</td>\n",
       "      <td>0</td>\n",
       "      <td>0</td>\n",
       "      <td>0</td>\n",
       "      <td>0</td>\n",
       "      <td>1</td>\n",
       "      <td>-1.0</td>\n",
       "    </tr>\n",
       "    <tr>\n",
       "      <th>2</th>\n",
       "      <td>41</td>\n",
       "      <td>1270</td>\n",
       "      <td>1389</td>\n",
       "      <td>1</td>\n",
       "      <td>0</td>\n",
       "      <td>0</td>\n",
       "      <td>1</td>\n",
       "      <td>0</td>\n",
       "      <td>1</td>\n",
       "      <td>0</td>\n",
       "      <td>...</td>\n",
       "      <td>0</td>\n",
       "      <td>0</td>\n",
       "      <td>1</td>\n",
       "      <td>0</td>\n",
       "      <td>0</td>\n",
       "      <td>0</td>\n",
       "      <td>0</td>\n",
       "      <td>0</td>\n",
       "      <td>1</td>\n",
       "      <td>-1.0</td>\n",
       "    </tr>\n",
       "    <tr>\n",
       "      <th>3</th>\n",
       "      <td>55</td>\n",
       "      <td>2476</td>\n",
       "      <td>579</td>\n",
       "      <td>1</td>\n",
       "      <td>0</td>\n",
       "      <td>0</td>\n",
       "      <td>1</td>\n",
       "      <td>0</td>\n",
       "      <td>1</td>\n",
       "      <td>0</td>\n",
       "      <td>...</td>\n",
       "      <td>0</td>\n",
       "      <td>0</td>\n",
       "      <td>1</td>\n",
       "      <td>0</td>\n",
       "      <td>0</td>\n",
       "      <td>0</td>\n",
       "      <td>0</td>\n",
       "      <td>0</td>\n",
       "      <td>1</td>\n",
       "      <td>-1.0</td>\n",
       "    </tr>\n",
       "    <tr>\n",
       "      <th>4</th>\n",
       "      <td>54</td>\n",
       "      <td>184</td>\n",
       "      <td>673</td>\n",
       "      <td>2</td>\n",
       "      <td>0</td>\n",
       "      <td>0</td>\n",
       "      <td>0</td>\n",
       "      <td>0</td>\n",
       "      <td>1</td>\n",
       "      <td>1</td>\n",
       "      <td>...</td>\n",
       "      <td>0</td>\n",
       "      <td>0</td>\n",
       "      <td>0</td>\n",
       "      <td>1</td>\n",
       "      <td>0</td>\n",
       "      <td>0</td>\n",
       "      <td>0</td>\n",
       "      <td>0</td>\n",
       "      <td>1</td>\n",
       "      <td>-1.0</td>\n",
       "    </tr>\n",
       "  </tbody>\n",
       "</table>\n",
       "<p>5 rows × 33 columns</p>\n",
       "</div>"
      ],
      "text/plain": [
       "   age  balance  duration  campaign  previous  default_cat  housing_cat  \\\n",
       "0   59     2343      1042         1         0            0            1   \n",
       "1   56       45      1467         1         0            0            0   \n",
       "2   41     1270      1389         1         0            0            1   \n",
       "3   55     2476       579         1         0            0            1   \n",
       "4   54      184       673         2         0            0            0   \n",
       "\n",
       "   loan_cat  deposit_cat  job_admin.  ...  marital_single  education_primary  \\\n",
       "0         0            1           1  ...               0                  0   \n",
       "1         0            1           1  ...               0                  0   \n",
       "2         0            1           0  ...               0                  0   \n",
       "3         0            1           0  ...               0                  0   \n",
       "4         0            1           1  ...               0                  0   \n",
       "\n",
       "   education_secondary  education_tertiary  education_unknown  \\\n",
       "0                    1                   0                  0   \n",
       "1                    1                   0                  0   \n",
       "2                    1                   0                  0   \n",
       "3                    1                   0                  0   \n",
       "4                    0                   1                  0   \n",
       "\n",
       "   poutcome_failure  poutcome_other  poutcome_success  poutcome_unknown  \\\n",
       "0                 0               0                 0                 1   \n",
       "1                 0               0                 0                 1   \n",
       "2                 0               0                 0                 1   \n",
       "3                 0               0                 0                 1   \n",
       "4                 0               0                 0                 1   \n",
       "\n",
       "   recent_pdays  \n",
       "0          -1.0  \n",
       "1          -1.0  \n",
       "2          -1.0  \n",
       "3          -1.0  \n",
       "4          -1.0  \n",
       "\n",
       "[5 rows x 33 columns]"
      ]
     },
     "execution_count": 9,
     "metadata": {},
     "output_type": "execute_result"
    }
   ],
   "source": [
    "bank_data.head()"
   ]
  },
  {
   "cell_type": "code",
   "execution_count": 10,
   "metadata": {
    "id": "F999tG3JqrR1"
   },
   "outputs": [],
   "source": [
    "# Splitting the data into training and test data with 80:20 ratio with random_state=50.\n",
    "# Building the data model\n",
    "# Train-Test split: 20% test data\n",
    "X = bank_data.drop('deposit_cat', 1)\n",
    "Y = bank_data.deposit_cat\n",
    "X_train, X_test, Y_train, Y_test = train_test_split(X, Y, test_size = 0.2, random_state = 50)"
   ]
  },
  {
   "cell_type": "markdown",
   "metadata": {
    "id": "Rd1sdLNLqtdY"
   },
   "source": [
    "a. **(8 pts)** Build a decision tree with depths 2,5,10,20 and max depth using gini and entropy criterion; report the train and test error. Refer [Decisison Tree](https://scikit-learn.org/stable/modules/generated/sklearn.tree.DecisionTreeClassifier.html#sklearn.tree.DecisionTreeClassifier) for more information on how to implement using sklearn.\n",
    "\n",
    "b. **(2 pts)** Explain how the train and test accuracy varies as we increase the depth of the tree.\n",
    "\n",
    "c. **(4 pts)** List the most important features for the tree with depth=2 and criterion=gini and plot the tree. Name this tree model as `dt2`.\n",
    "\n",
    "d. **(6 pts)** Report the accuracy and AUC for the test data and plot the ROC curve using `dt2`.\n"
   ]
  },
  {
   "cell_type": "markdown",
   "metadata": {
    "id": "kRaUnqlTrB1d"
   },
   "source": [
    "# Answer 2\n",
    "## (a)"
   ]
  },
  {
   "cell_type": "code",
   "execution_count": 11,
   "metadata": {
    "colab": {
     "base_uri": "https://localhost:8080/",
     "height": 119
    },
    "id": "b8eHYZKvqwYL",
    "outputId": "84aebfc7-a621-4e12-ff00-9247a251ff45"
   },
   "outputs": [
    {
     "name": "stdout",
     "output_type": "stream",
     "text": [
      "\n",
      "Gini - Max Depth 2\n",
      "Train accuracy:  0.7285250307985217\n",
      "Test accuracy:  0.7268248992386923\n",
      "\n",
      "Entropy - Max Depth 2\n",
      "Train accuracy:  0.7119498264083324\n",
      "Test accuracy:  0.7089117778772951\n",
      "\n",
      "Gini - Max Depth 5\n",
      "Train accuracy:  0.7976257139657297\n",
      "Test accuracy:  0.7760859829825347\n",
      "\n",
      "Entropy - Max Depth 5\n",
      "Train accuracy:  0.7998656064508903\n",
      "Test accuracy:  0.7783251231527094\n",
      "\n",
      "Gini - Max Depth 10\n",
      "Train accuracy:  0.8632545637809386\n",
      "Test accuracy:  0.786833855799373\n",
      "\n",
      "Entropy - Max Depth 10\n",
      "Train accuracy:  0.8500391981184903\n",
      "Test accuracy:  0.7895208240035826\n",
      "\n",
      "Gini - Max Depth 20\n",
      "Train accuracy:  0.984320752603875\n",
      "Test accuracy:  0.7371249440214958\n",
      "\n",
      "Entropy - Max Depth 20\n",
      "Train accuracy:  0.9629297793705902\n",
      "Test accuracy:  0.7429467084639498\n",
      "\n",
      "Gini - Max Depth None\n",
      "Train accuracy:  1.0\n",
      "Test accuracy:  0.7308553515450067\n",
      "\n",
      "Entropy - Max Depth None\n",
      "Train accuracy:  1.0\n",
      "Test accuracy:  0.7344379758172862\n"
     ]
    }
   ],
   "source": [
    "from sklearn.model_selection import cross_val_score\n",
    "from sklearn.tree import DecisionTreeClassifier\n",
    "\n",
    "dt_1 = DecisionTreeClassifier(criterion='gini',max_depth=2).fit(X_train, Y_train)\n",
    "print(\"\\nGini - Max Depth 2\")\n",
    "print(\"Train accuracy: \",dt_1.score(X_train, Y_train))\n",
    "print(\"Test accuracy: \", dt_1.score(X_test,Y_test))\n",
    "\n",
    "dt_1 = DecisionTreeClassifier(criterion='entropy',max_depth=2).fit(X_train, Y_train)\n",
    "print(\"\\nEntropy - Max Depth 2\")\n",
    "print(\"Train accuracy: \",dt_1.score(X_train, Y_train))\n",
    "print(\"Test accuracy: \", dt_1.score(X_test,Y_test))\n",
    "\n",
    "dt_1 = DecisionTreeClassifier(criterion='gini',max_depth=5).fit(X_train, Y_train)\n",
    "print(\"\\nGini - Max Depth 5\")\n",
    "print(\"Train accuracy: \",dt_1.score(X_train, Y_train))\n",
    "print(\"Test accuracy: \", dt_1.score(X_test,Y_test))\n",
    "\n",
    "dt_1 = DecisionTreeClassifier(criterion='entropy',max_depth=5).fit(X_train, Y_train)\n",
    "print(\"\\nEntropy - Max Depth 5\")\n",
    "print(\"Train accuracy: \",dt_1.score(X_train, Y_train))\n",
    "print(\"Test accuracy: \", dt_1.score(X_test,Y_test))\n",
    "\n",
    "dt_1 = DecisionTreeClassifier(criterion='gini',max_depth=10).fit(X_train, Y_train)\n",
    "print(\"\\nGini - Max Depth 10\")\n",
    "print(\"Train accuracy: \",dt_1.score(X_train, Y_train))\n",
    "print(\"Test accuracy: \", dt_1.score(X_test,Y_test))\n",
    "\n",
    "dt_1 = DecisionTreeClassifier(criterion='entropy',max_depth=10).fit(X_train, Y_train)\n",
    "print(\"\\nEntropy - Max Depth 10\")\n",
    "print(\"Train accuracy: \",dt_1.score(X_train, Y_train))\n",
    "print(\"Test accuracy: \", dt_1.score(X_test,Y_test))\n",
    "\n",
    "dt_1 = DecisionTreeClassifier(criterion='gini',max_depth=20).fit(X_train, Y_train)\n",
    "print(\"\\nGini - Max Depth 20\")\n",
    "print(\"Train accuracy: \",dt_1.score(X_train, Y_train))\n",
    "print(\"Test accuracy: \", dt_1.score(X_test,Y_test))\n",
    "\n",
    "dt_1 = DecisionTreeClassifier(criterion='entropy',max_depth=20).fit(X_train, Y_train)\n",
    "print(\"\\nEntropy - Max Depth 20\")\n",
    "print(\"Train accuracy: \",dt_1.score(X_train, Y_train))\n",
    "print(\"Test accuracy: \", dt_1.score(X_test,Y_test))\n",
    "\n",
    "dt_1 = DecisionTreeClassifier(criterion='gini',max_depth=None).fit(X_train, Y_train)\n",
    "print(\"\\nGini - Max Depth None\")\n",
    "print(\"Train accuracy: \",dt_1.score(X_train, Y_train))\n",
    "print(\"Test accuracy: \", dt_1.score(X_test,Y_test))\n",
    "\n",
    "dt_1 = DecisionTreeClassifier(criterion='entropy',max_depth=None).fit(X_train, Y_train)\n",
    "print(\"\\nEntropy - Max Depth None\")\n",
    "print(\"Train accuracy: \",dt_1.score(X_train, Y_train))\n",
    "print(\"Test accuracy: \", dt_1.score(X_test,Y_test))"
   ]
  },
  {
   "cell_type": "markdown",
   "metadata": {
    "id": "E_XC9kjdrI_e"
   },
   "source": [
    "## (b)\n",
    "\n"
   ]
  },
  {
   "cell_type": "markdown",
   "metadata": {},
   "source": [
    "As we increase the tree depth, the training accuracy approaches 1.0 and eventually reaches perfect classification. As we increase the depth of the tree, the testing accuracy improves up until about depth 10, and after that the model is overfit and the testing accuracy begins to fall."
   ]
  },
  {
   "cell_type": "markdown",
   "metadata": {
    "id": "aKcO1wk1rPc0"
   },
   "source": [
    "# (c)"
   ]
  },
  {
   "cell_type": "code",
   "execution_count": 12,
   "metadata": {
    "colab": {
     "base_uri": "https://localhost:8080/",
     "height": 561
    },
    "id": "U69Qk6SkrQzY",
    "outputId": "700ed7d3-a5d9-4760-a358-677b2f2b2d7e"
   },
   "outputs": [
    {
     "name": "stdout",
     "output_type": "stream",
     "text": [
      "                Columns  Feature Importances\n",
      "0                   age             0.000000\n",
      "1               balance             0.000000\n",
      "2              duration             0.849306\n",
      "3              campaign             0.000000\n",
      "4              previous             0.000000\n",
      "5           default_cat             0.000000\n",
      "6           housing_cat             0.000000\n",
      "7              loan_cat             0.000000\n",
      "8            job_admin.             0.000000\n",
      "9       job_blue-collar             0.000000\n",
      "10     job_entrepreneur             0.000000\n",
      "11        job_housemaid             0.000000\n",
      "12       job_management             0.000000\n",
      "13          job_retired             0.000000\n",
      "14    job_self-employed             0.000000\n",
      "15         job_services             0.000000\n",
      "16          job_student             0.000000\n",
      "17       job_technician             0.000000\n",
      "18       job_unemployed             0.000000\n",
      "19          job_unknown             0.000000\n",
      "20     marital_divorced             0.000000\n",
      "21      marital_married             0.000000\n",
      "22       marital_single             0.000000\n",
      "23    education_primary             0.000000\n",
      "24  education_secondary             0.000000\n",
      "25   education_tertiary             0.000000\n",
      "26    education_unknown             0.000000\n",
      "27     poutcome_failure             0.000000\n",
      "28       poutcome_other             0.000000\n",
      "29     poutcome_success             0.150694\n",
      "30     poutcome_unknown             0.000000\n",
      "31         recent_pdays             0.000000\n"
     ]
    },
    {
     "data": {
      "text/plain": [
       "[Text(167.4, 181.2, 'X[2] <= 206.5\\ngini = 0.499\\nsamples = 8929\\nvalue = [4700, 4229]'),\n",
       " Text(83.7, 108.72, 'X[29] <= 0.5\\ngini = 0.327\\nsamples = 3612\\nvalue = [2867, 745]'),\n",
       " Text(41.85, 36.23999999999998, 'gini = 0.273\\nsamples = 3380\\nvalue = [2828, 552]'),\n",
       " Text(125.55000000000001, 36.23999999999998, 'gini = 0.28\\nsamples = 232\\nvalue = [39, 193]'),\n",
       " Text(251.10000000000002, 108.72, 'X[2] <= 441.5\\ngini = 0.452\\nsamples = 5317\\nvalue = [1833, 3484]'),\n",
       " Text(209.25, 36.23999999999998, 'gini = 0.5\\nsamples = 2762\\nvalue = [1340, 1422]'),\n",
       " Text(292.95, 36.23999999999998, 'gini = 0.311\\nsamples = 2555\\nvalue = [493, 2062]')]"
      ]
     },
     "execution_count": 12,
     "metadata": {},
     "output_type": "execute_result"
    },
    {
     "data": {
      "image/png": "[encoded data removed]",
      "text/plain": [
       "<Figure size 432x288 with 1 Axes>"
      ]
     },
     "metadata": {
      "needs_background": "light"
     },
     "output_type": "display_data"
    }
   ],
   "source": [
    "from sklearn import tree\n",
    "dt2 = DecisionTreeClassifier(criterion='gini',max_depth=2).fit(X_train, Y_train)\n",
    "\n",
    "print(pd.DataFrame({'Columns':X_train.columns,\n",
    "                    'Feature Importances':dt2.feature_importances_}))\n",
    "tree.plot_tree(dt2)"
   ]
  },
  {
   "cell_type": "markdown",
   "metadata": {
    "id": "EVzuH5vArViM"
   },
   "source": [
    "## (d)"
   ]
  },
  {
   "cell_type": "code",
   "execution_count": 13,
   "metadata": {
    "colab": {
     "base_uri": "https://localhost:8080/",
     "height": 119
    },
    "id": "wQjRAA_prXJE",
    "outputId": "057fcaf2-0618-4224-febe-646721128717"
   },
   "outputs": [
    {
     "name": "stdout",
     "output_type": "stream",
     "text": [
      "Test accuracy:  0.7268248992386923\n",
      "\n",
      "Test AUC: 0.733621258183339\n"
     ]
    },
    {
     "data": {
      "image/png": "[encoded data removed]",
      "text/plain": [
       "<Figure size 432x288 with 1 Axes>"
      ]
     },
     "metadata": {
      "needs_background": "light"
     },
     "output_type": "display_data"
    }
   ],
   "source": [
    "print(\"Test accuracy: \", dt2.score(X_test,Y_test))\n",
    "\n",
    "from sklearn.metrics import (auc, roc_auc_score, plot_roc_curve)\n",
    "\n",
    "y_pred = dt2.predict(X_test)\n",
    "\n",
    "auc_test = roc_auc_score(Y_test, y_pred)\n",
    "print(\"\\nTest AUC:\", auc_test)\n",
    "\n",
    "DT2_disp = plot_roc_curve(dt2, X_test, Y_test)\n",
    "plt.title('DT2 ROC Curve')\n",
    "plt.show()"
   ]
  },
  {
   "cell_type": "markdown",
   "metadata": {
    "id": "9cAvWwWwfESs"
   },
   "source": [
    "# Question 3 (15 pts) - Pipeline Implementation from Sklearn \n",
    "\n",
    "In this question we will build a pipeline to streamline the ML Workflow. Instead of writing code for each logic, pipelines allow to make modeling easy by removing repeated operations. Generally we define the structure of the pipeline, to include the following steps, data pre-processing, feature selection, model building. \n",
    "\n",
    "**Part A (5 pts)**\n",
    "\n",
    " * Load the dataset from \"vehicle.csv\". The target variable is denoted by column_name = 'class'. Print the label class,and perform [LabelEncoding](https://scikit-learn.org/stable/modules/generated/sklearn.preprocessing.LabelEncoder.html) on them using sklearn.preprocessing.LabelEncoder.\n",
    "\n",
    " * Seperate the dataset into features,labels. Split the dataset into train and test set with 20% data in test set and random_state = 50\n",
    "\n",
    "**Part B (5 pts)**\n",
    "\n",
    "Now, we will build [Pipeline](https://scikit-learn.org/stable/modules/generated/sklearn.pipeline.Pipeline.html) with the following steps. Remeber to fit the pipeline on training set and predict on test set. Finally report the classification accuracy on the test set.\n",
    "\n",
    " * Data Pre-processing : Using SimpleImputer with strategy = 'mean'\n",
    " * Standardization : Standardize features by removing the mean and scaling to unit variance using StandardScaler()\n",
    " * Model : Use DecisionTreeClassifier with default values\n",
    "  \n",
    "\n",
    "**Part C (5 pts)**\n",
    "  \n",
    "In part C, we will build on top of the previous part B. In addition to the three steps we will add PCA to the pipeline and use [GridSearchCV](https://scikit-learn.org/stable/modules/generated/sklearn.model_selection.GridSearchCV.html) to find the best parameters for PCA(number of components) and DecisionTree(max_depth).\n",
    "  \n",
    " * Data Pre-processing : Using SimpleImputer with strategy = 'mean'\n",
    " * Standardization : Standardize features by removing the mean and scaling to unit variance using StandardScaler()\n",
    " * PCA : Use PCA()\n",
    " * Model : Use DecisionTreeClassifier with default values\n",
    "  \n",
    "We will now use [GridSearchCV] with default values(https://scikit-learn.org/stable/modules/generated/sklearn.model_selection.GridSearchCV.html) to estimate best parameters for pca(n_components = [5,8,10]) and Decision Tree (max_depth = [3,5,15]) using the pipeline designed. \n",
    "\n",
    "* **Hint:** The `param_grid` argument to gridsearch will be given as `{param_grid={'clf__max_depth': [3, 5, 15], 'pca__n_components': [5, 8, 10]}}`. \n",
    "\n",
    "Print the best parameters found by gridsearch. Finally, update the best parameters to the pipeline using pipe_pca.set_params(\"best params from gridsearchCV\"), and report the classification accuracy on test set.\n",
    "\n",
    "              "
   ]
  },
  {
   "cell_type": "markdown",
   "metadata": {},
   "source": [
    "**Part A**"
   ]
  },
  {
   "cell_type": "code",
   "execution_count": 14,
   "metadata": {},
   "outputs": [
    {
     "name": "stdout",
     "output_type": "stream",
     "text": [
      "0      van\n",
      "1      van\n",
      "2      car\n",
      "3      van\n",
      "4      bus\n",
      "      ... \n",
      "841    car\n",
      "842    van\n",
      "843    car\n",
      "844    car\n",
      "845    van\n",
      "Name: class, Length: 846, dtype: object\n",
      "0      2\n",
      "1      2\n",
      "2      1\n",
      "3      2\n",
      "4      0\n",
      "      ..\n",
      "841    1\n",
      "842    2\n",
      "843    1\n",
      "844    1\n",
      "845    2\n",
      "Name: class, Length: 846, dtype: int32\n"
     ]
    }
   ],
   "source": [
    "from sklearn import preprocessing\n",
    "\n",
    "df = pd.read_csv('vehicle.csv')\n",
    "\n",
    "print(df['class'])\n",
    "\n",
    "le = preprocessing.LabelEncoder()\n",
    "df['class'] = le.fit_transform(df['class'])\n",
    "print(df['class'])\n",
    "\n",
    "y = df['class'].values\n",
    "X = df.drop(['class'], axis = 1)\n",
    "\n",
    "X_train, X_test, y_train, y_test = train_test_split(X,y,test_size = 0.2, random_state=50)"
   ]
  },
  {
   "cell_type": "markdown",
   "metadata": {},
   "source": [
    "**Part B**"
   ]
  },
  {
   "cell_type": "code",
   "execution_count": 15,
   "metadata": {},
   "outputs": [
    {
     "name": "stdout",
     "output_type": "stream",
     "text": [
      "Pipeline(memory=None,\n",
      "         steps=[('imputer',\n",
      "                 SimpleImputer(add_indicator=False, copy=True, fill_value=None,\n",
      "                               missing_values=nan, strategy='mean',\n",
      "                               verbose=0)),\n",
      "                ('scaler',\n",
      "                 StandardScaler(copy=True, with_mean=True, with_std=True)),\n",
      "                ('dt',\n",
      "                 DecisionTreeClassifier(ccp_alpha=0.0, class_weight=None,\n",
      "                                        criterion='gini', max_depth=None,\n",
      "                                        max_features=None, max_leaf_nodes=None,\n",
      "                                        min_impurity_decrease=0.0,\n",
      "                                        min_impurity_split=None,\n",
      "                                        min_samples_leaf=1, min_samples_split=2,\n",
      "                                        min_weight_fraction_leaf=0.0,\n",
      "                                        presort='deprecated', random_state=None,\n",
      "                                        splitter='best'))],\n",
      "         verbose=False)\n",
      "[2 0 0 1 1 2 1 1 0 2 1 0 1 2 1 1 0 0 1 1 1 1 2 2 1 2 1 1 1 1 1 0 0 1 0 2 1\n",
      " 1 1 1 0 1 0 1 1 1 1 0 2 0 1 1 1 0 2 1 1 2 2 2 0 1 0 0 1 2 1 2 1 2 1 2 1 1\n",
      " 1 0 1 1 1 2 1 1 1 2 0 2 1 1 0 0 2 2 0 1 1 2 2 1 2 0 1 2 1 1 1 1 1 0 0 1 2\n",
      " 0 1 1 2 1 0 1 2 0 1 1 0 2 1 2 2 1 2 1 0 2 2 1 0 0 2 2 1 1 2 1 0 1 1 1 1 0\n",
      " 2 0 1 1 2 0 1 1 1 2 0 1 2 0 0 1 1 1 2 0 1 2]\n",
      "\n",
      "Test set classification accuracy 0.9058823529411765\n"
     ]
    }
   ],
   "source": [
    "from sklearn.pipeline import Pipeline\n",
    "from sklearn.impute import SimpleImputer\n",
    "from sklearn.preprocessing import StandardScaler\n",
    "\n",
    "pipe = Pipeline([('imputer',SimpleImputer(strategy='mean')),\n",
    "                 ('scaler', StandardScaler()), \n",
    "                 ('dt', DecisionTreeClassifier())])\n",
    "\n",
    "print(pipe.fit(X_train, y_train))\n",
    "print(pipe.predict(X_test))\n",
    "print('\\nTest set classification accuracy',pipe.score(X_test, y_test))"
   ]
  },
  {
   "cell_type": "markdown",
   "metadata": {},
   "source": [
    "**Part C**"
   ]
  },
  {
   "cell_type": "code",
   "execution_count": 62,
   "metadata": {},
   "outputs": [
    {
     "name": "stdout",
     "output_type": "stream",
     "text": [
      "{'clf__max_depth': 15, 'pca__n_components': 10}\n",
      "\n",
      "Test set classification accuracy:  0.8352941176470589\n"
     ]
    }
   ],
   "source": [
    "from sklearn.pipeline import Pipeline\n",
    "from sklearn.impute import SimpleImputer\n",
    "from sklearn.preprocessing import StandardScaler\n",
    "from sklearn.model_selection import GridSearchCV\n",
    "\n",
    "pipe = Pipeline([('imputer',SimpleImputer(strategy='mean')),\n",
    "                 ('scaler', StandardScaler()), \n",
    "                 ('pca', PCA()),\n",
    "                 ('clf', DecisionTreeClassifier())\n",
    "                ])\n",
    "\n",
    "grid_clf = GridSearchCV(pipe, param_grid={'clf__max_depth': [3, 5, 15], 'pca__n_components': [5, 8, 10]})\n",
    "grid_fit = grid_clf.fit(X_train, y_train)\n",
    "\n",
    "#Print the best parameters found by gridsearch. \n",
    "print(grid_fit.best_params_)\n",
    "\n",
    "best_clf = grid_fit.best_params_\n",
    "\n",
    "#Finally, update the best parameters to the pipeline using pipe_pca.set_params(\"best params from gridsearchCV\"), \n",
    "pipe['pca'].set_params(n_components = best_clf['pca__n_components'])\n",
    "\n",
    "#and report the classification accuracy on test set.\n",
    "grid_clf = GridSearchCV(pipe, param_grid={'clf__max_depth': [3, 5, 15]})\n",
    "grid_fit = grid_clf.fit(X_train, y_train)\n",
    "print('\\nTest set classification accuracy: ', grid_fit.score(X_test, y_test))\n"
   ]
  },
  {
   "cell_type": "markdown",
   "metadata": {},
   "source": [
    "# Question 4 (15pts) - Reject option\n",
    "\n",
    "Consider a binary classification problem with the following loss matrix - where the cost of rejection is a constant. \n",
    "\n",
    "$$\n",
    "   {\\begin{array}{ccccc}\n",
    "   & & \\text{Predicted class} & \\text{           } &\\\\\n",
    "   & & C1 & C2 & Reject\\\\\n",
    "   \\text{True class} & C1 & 0 & 3 & c  \\\\\n",
    "   & C2 & 2 & 0 & c \\\\\n",
    "  \\end{array} } \n",
    "$$\n",
    "\n",
    "Determine the prediction that minimizes the expected loss in different ranges of $P(C1|x)$ where c = 1"
   ]
  },
  {
   "cell_type": "markdown",
   "metadata": {},
   "source": [
    "![](https://imgur.com/KeiPNUj.png)"
   ]
  },
  {
   "cell_type": "markdown",
   "metadata": {},
   "source": [
    "Once we know the decision threshold, we also have to consider the cost of rejection. We plotted all three lines on the graph below.\n",
    "\n",
    "* For P(C1|x) < 0.333, choose C2.\n",
    "\n",
    "* For P(C1|x) between 0.333 and 0.5, reject.\n",
    "\n",
    "* For P(C1|x) > 0.5, choose C1."
   ]
  },
  {
   "cell_type": "markdown",
   "metadata": {},
   "source": [
    "![](https://i.imgur.com/tV8bjm5.jpg)"
   ]
  },
  {
   "cell_type": "markdown",
   "metadata": {},
   "source": [
    "# Question 5: Supplementary Notes (10 points)\n",
    "Visit the [Supplementary Notes website](https://ideal-ut.github.io/APM-2020/). Read the notes written by your peers from both sections (7th topic onwards, i.e. \"stochastic gradient descent\" onwards). Select the note that you liked the most and write the following:\n",
    "- Identify the note. (e.g., If you liked the note from Section A for topic 7, write 7A).\n",
    "- Write one-two paragraphs on why you liked your selection the most and what you learnt from it.\n",
    "- Also write a short paragraph on how you think this note can be further improved."
   ]
  },
  {
   "cell_type": "markdown",
   "metadata": {},
   "source": [
    "**We liked most:**\n",
    "8B - Neural Networks - Authors: Matthew Leong, Qianhui Lian, India Lindsay\n",
    "\n",
    "\n",
    "**Why we liked it and what we learned:**\n",
    " \n",
    "**1. Explanation about the comparision with neuron and neural network:**\n",
    "The comparision and the similarities between an actual neuron and a neural network was clearly explained with the help of 'synapse,' 'dendrite,' and 'cell body' with input variables, weights, and summed up weight respectively which was really helpful. Neural networks are D dimensional with respect to input layer and have M hidden layers. After receiving the inputs, the weights are summed up and then passed through a nonlinear activation function, typically a hyperbolic or sigmoid function. This explanation allowed us to compare it to a real world scenario.\n",
    "\n",
    " **2. The note was really helpful in terms of simple explanation:**\n",
    "The note further gives a deeper understanding of linear transformations. It occurs within linear neural network simply with vector notation as $x_1$,$x_2$...$x_n$ which is represented graphically. Also, the vector notation is not just scalar vectors but a combination of different things.\n",
    "\n",
    "**3. The explanation is more understandable with the help of the figures:**\n",
    "The figures included in the note were very clear and helped us understand the concept in detail.\n",
    "Overall, this note did a wonderful job of moving from foundational understanding to more complex understanding with a good mix of mathematical and verbal exaplanations.\n",
    "\n",
    "**How this note may be further improved:**\n",
    "The paragraph about History of Adaptive Linear Elements has accidentally included a name by mistake. So, the note can be further improved on formating by thorough proof-reading. The mathematical example of input variable with the weighted sum would have really helped in understanding the flow more clearly. Also, a simple real-world scenario or example where practically we use neural network might help visualize neural network more clearly.\n"
   ]
  },
  {
   "cell_type": "code",
   "execution_count": null,
   "metadata": {},
   "outputs": [],
   "source": []
  },
  {
   "cell_type": "code",
   "execution_count": null,
   "metadata": {},
   "outputs": [],
   "source": []
  }
 ],
 "metadata": {
  "colab": {
   "collapsed_sections": [],
   "name": "HW4.ipynb",
   "provenance": []
  },
  "kernelspec": {
   "display_name": "Python 3",
   "language": "python",
   "name": "python3"
  },
  "language_info": {
   "codemirror_mode": {
    "name": "ipython",
    "version": 3
   },
   "file_extension": ".py",
   "mimetype": "text/x-python",
   "name": "python",
   "nbconvert_exporter": "python",
   "pygments_lexer": "ipython3",
   "version": "3.7.6"
  }
 },
 "nbformat": 4,
 "nbformat_minor": 4
}
