{
 "cells": [
  {
   "cell_type": "markdown",
   "metadata": {},
   "source": [
    "\n",
    "# <p style=\"text-align: center;\">MIS 382N: ADVANCED PREDICTIVE MODELING - MSBA</p>\n",
    "# <p style=\"text-align: center;\">Assignment 2</p>\n",
    "## <p style=\"text-align: center;\">Total points: 80 </p>\n",
    "## <p style=\"text-align: center;\">Due: September 30, submitted via Canvas by 11:59 pm</p>\n",
    "\n",
    "Your homework should be written in a **Jupyter notebook**. You may work in groups of two if you wish. Your partner needs to be from the same section. Only one student per team needs to submit the assignment on Canvas.  But be sure to include name and UTEID for both students.  Homework groups will be created and managed through Canvas, so please do not arbitrarily change your homework group. If you do change, let the TA know. \n",
    "\n",
    "Also, please make sure your code runs and the graphics (and anything else) are displayed in your notebook before submitting. (%matplotlib inline)\n",
    "\n",
    "### Name(s)\n",
    "1. Jocelyne Walker \n",
    "2. Shruti Kolhatkar "
   ]
  },
  {
   "cell_type": "markdown",
   "metadata": {
    "colab_type": "text",
    "id": "W5ZpdgFLzMCK"
   },
   "source": [
    "# Question 1 (Understanding ElasticNet, 30 points)\n",
    "Although lots of past studies have been conducted on factors affecting life expectancy using demographic variables, income composition and mortality rates, it was found that the effect of immunization and human development index was not taken into account. Hence, this motivates us to resolve this factor by formulating a regression model based on mixed effects model and multiple linear regression while considering data from 2014 for all countries. Here, important immunization like Hepatitis B, Polio and Diphtheria will also be considered. \n",
    "\n",
    "This dataset was taken from https://www.kaggle.com/kumarajarshi/life-expectancy-who.\n",
    "\n",
    "**Please use Python 3.6+ for this assignment.**"
   ]
  },
  {
   "cell_type": "markdown",
   "metadata": {
    "colab_type": "text",
    "id": "As8wi1l8zY1f"
   },
   "source": [
    "First, we import packages and clean up the obtained dataset. We consider the `Life Expectancy` variable as the dependant variable whereas others are assumed to be independent variables."
   ]
  },
  {
   "cell_type": "code",
   "execution_count": 33,
   "metadata": {
    "colab": {
     "base_uri": "https://localhost:8080/",
     "height": 51
    },
    "colab_type": "code",
    "id": "FOU1ODXmfNlG",
    "outputId": "3e0dacba-1114-4244-be8f-3183dca50c2c"
   },
   "outputs": [],
   "source": [
    "import pandas as pd\n",
    "import numpy as np\n",
    "import matplotlib.pyplot as plt\n",
    "from tqdm import tqdm\n",
    "import seaborn as sns\n",
    "from sklearn.preprocessing import LabelEncoder\n",
    "from sklearn.model_selection import train_test_split\n",
    "from sklearn.linear_model import LinearRegression\n",
    "import warnings\n",
    "warnings.filterwarnings('ignore')"
   ]
  },
  {
   "cell_type": "code",
   "execution_count": 34,
   "metadata": {
    "colab": {
     "base_uri": "https://localhost:8080/",
     "height": 51
    },
    "colab_type": "code",
    "id": "ctY6Ogo8fX8-",
    "outputId": "a56bdbdb-3a5e-464c-d9b2-0611b4682b6d"
   },
   "outputs": [
    {
     "name": "stdout",
     "output_type": "stream",
     "text": [
      "(2938, 21)\n",
      "(131, 21)\n"
     ]
    }
   ],
   "source": [
    "df = pd.read_csv(\"life.csv\", index_col=0)\n",
    "print(df.shape)\n",
    "df = df.loc[df['Year']==2014, :]\n",
    "df = df.drop('Year', axis=1)\n",
    "df = pd.get_dummies(df, columns=['Status'])\n",
    "df = df.dropna()\n",
    "print(df.shape)"
   ]
  },
  {
   "cell_type": "code",
   "execution_count": 35,
   "metadata": {
    "colab": {
     "base_uri": "https://localhost:8080/",
     "height": 306
    },
    "colab_type": "code",
    "id": "MqH3uOrbf-WO",
    "outputId": "83be1413-c739-460f-e109-b45d039a9844"
   },
   "outputs": [
    {
     "data": {
      "text/html": [
       "<div>\n",
       "<style scoped>\n",
       "    .dataframe tbody tr th:only-of-type {\n",
       "        vertical-align: middle;\n",
       "    }\n",
       "\n",
       "    .dataframe tbody tr th {\n",
       "        vertical-align: top;\n",
       "    }\n",
       "\n",
       "    .dataframe thead th {\n",
       "        text-align: right;\n",
       "    }\n",
       "</style>\n",
       "<table border=\"1\" class=\"dataframe\">\n",
       "  <thead>\n",
       "    <tr style=\"text-align: right;\">\n",
       "      <th></th>\n",
       "      <th>Life expectancy</th>\n",
       "      <th>Adult Mortality</th>\n",
       "      <th>infant deaths</th>\n",
       "      <th>Alcohol</th>\n",
       "      <th>percentage expenditure</th>\n",
       "      <th>Hepatitis B</th>\n",
       "      <th>Measles</th>\n",
       "      <th>BMI</th>\n",
       "      <th>under-five deaths</th>\n",
       "      <th>Polio</th>\n",
       "      <th>...</th>\n",
       "      <th>Diphtheria</th>\n",
       "      <th>HIV/AIDS</th>\n",
       "      <th>GDP</th>\n",
       "      <th>Population</th>\n",
       "      <th>thinness  1-19 years</th>\n",
       "      <th>thinness 5-9 years</th>\n",
       "      <th>Income composition of resources</th>\n",
       "      <th>Schooling</th>\n",
       "      <th>Status_Developed</th>\n",
       "      <th>Status_Developing</th>\n",
       "    </tr>\n",
       "    <tr>\n",
       "      <th>Country</th>\n",
       "      <th></th>\n",
       "      <th></th>\n",
       "      <th></th>\n",
       "      <th></th>\n",
       "      <th></th>\n",
       "      <th></th>\n",
       "      <th></th>\n",
       "      <th></th>\n",
       "      <th></th>\n",
       "      <th></th>\n",
       "      <th></th>\n",
       "      <th></th>\n",
       "      <th></th>\n",
       "      <th></th>\n",
       "      <th></th>\n",
       "      <th></th>\n",
       "      <th></th>\n",
       "      <th></th>\n",
       "      <th></th>\n",
       "      <th></th>\n",
       "      <th></th>\n",
       "    </tr>\n",
       "  </thead>\n",
       "  <tbody>\n",
       "    <tr>\n",
       "      <th>Afghanistan</th>\n",
       "      <td>59.9</td>\n",
       "      <td>271.0</td>\n",
       "      <td>64</td>\n",
       "      <td>0.01</td>\n",
       "      <td>73.523582</td>\n",
       "      <td>62.0</td>\n",
       "      <td>492</td>\n",
       "      <td>18.6</td>\n",
       "      <td>86</td>\n",
       "      <td>58.0</td>\n",
       "      <td>...</td>\n",
       "      <td>62.0</td>\n",
       "      <td>0.1</td>\n",
       "      <td>612.696514</td>\n",
       "      <td>327582.0</td>\n",
       "      <td>17.5</td>\n",
       "      <td>17.5</td>\n",
       "      <td>0.476</td>\n",
       "      <td>10.0</td>\n",
       "      <td>0</td>\n",
       "      <td>1</td>\n",
       "    </tr>\n",
       "    <tr>\n",
       "      <th>Albania</th>\n",
       "      <td>77.5</td>\n",
       "      <td>8.0</td>\n",
       "      <td>0</td>\n",
       "      <td>4.51</td>\n",
       "      <td>428.749067</td>\n",
       "      <td>98.0</td>\n",
       "      <td>0</td>\n",
       "      <td>57.2</td>\n",
       "      <td>1</td>\n",
       "      <td>98.0</td>\n",
       "      <td>...</td>\n",
       "      <td>98.0</td>\n",
       "      <td>0.1</td>\n",
       "      <td>4575.763787</td>\n",
       "      <td>288914.0</td>\n",
       "      <td>1.2</td>\n",
       "      <td>1.3</td>\n",
       "      <td>0.761</td>\n",
       "      <td>14.2</td>\n",
       "      <td>0</td>\n",
       "      <td>1</td>\n",
       "    </tr>\n",
       "    <tr>\n",
       "      <th>Algeria</th>\n",
       "      <td>75.4</td>\n",
       "      <td>11.0</td>\n",
       "      <td>21</td>\n",
       "      <td>0.01</td>\n",
       "      <td>54.237318</td>\n",
       "      <td>95.0</td>\n",
       "      <td>0</td>\n",
       "      <td>58.4</td>\n",
       "      <td>24</td>\n",
       "      <td>95.0</td>\n",
       "      <td>...</td>\n",
       "      <td>95.0</td>\n",
       "      <td>0.1</td>\n",
       "      <td>547.851700</td>\n",
       "      <td>39113313.0</td>\n",
       "      <td>6.0</td>\n",
       "      <td>5.8</td>\n",
       "      <td>0.741</td>\n",
       "      <td>14.4</td>\n",
       "      <td>0</td>\n",
       "      <td>1</td>\n",
       "    </tr>\n",
       "    <tr>\n",
       "      <th>Angola</th>\n",
       "      <td>51.7</td>\n",
       "      <td>348.0</td>\n",
       "      <td>67</td>\n",
       "      <td>8.33</td>\n",
       "      <td>23.965612</td>\n",
       "      <td>64.0</td>\n",
       "      <td>11699</td>\n",
       "      <td>22.7</td>\n",
       "      <td>101</td>\n",
       "      <td>68.0</td>\n",
       "      <td>...</td>\n",
       "      <td>64.0</td>\n",
       "      <td>2.0</td>\n",
       "      <td>479.312240</td>\n",
       "      <td>2692466.0</td>\n",
       "      <td>8.5</td>\n",
       "      <td>8.3</td>\n",
       "      <td>0.527</td>\n",
       "      <td>11.4</td>\n",
       "      <td>0</td>\n",
       "      <td>1</td>\n",
       "    </tr>\n",
       "    <tr>\n",
       "      <th>Argentina</th>\n",
       "      <td>76.2</td>\n",
       "      <td>118.0</td>\n",
       "      <td>8</td>\n",
       "      <td>7.93</td>\n",
       "      <td>847.371746</td>\n",
       "      <td>94.0</td>\n",
       "      <td>1</td>\n",
       "      <td>62.2</td>\n",
       "      <td>9</td>\n",
       "      <td>92.0</td>\n",
       "      <td>...</td>\n",
       "      <td>94.0</td>\n",
       "      <td>0.1</td>\n",
       "      <td>12245.256450</td>\n",
       "      <td>42981515.0</td>\n",
       "      <td>1.0</td>\n",
       "      <td>0.9</td>\n",
       "      <td>0.825</td>\n",
       "      <td>17.3</td>\n",
       "      <td>0</td>\n",
       "      <td>1</td>\n",
       "    </tr>\n",
       "  </tbody>\n",
       "</table>\n",
       "<p>5 rows × 21 columns</p>\n",
       "</div>"
      ],
      "text/plain": [
       "             Life expectancy   Adult Mortality  infant deaths  Alcohol  \\\n",
       "Country                                                                  \n",
       "Afghanistan              59.9            271.0             64     0.01   \n",
       "Albania                  77.5              8.0              0     4.51   \n",
       "Algeria                  75.4             11.0             21     0.01   \n",
       "Angola                   51.7            348.0             67     8.33   \n",
       "Argentina                76.2            118.0              8     7.93   \n",
       "\n",
       "             percentage expenditure  Hepatitis B  Measles    BMI   \\\n",
       "Country                                                             \n",
       "Afghanistan               73.523582         62.0       492   18.6   \n",
       "Albania                  428.749067         98.0         0   57.2   \n",
       "Algeria                   54.237318         95.0         0   58.4   \n",
       "Angola                    23.965612         64.0     11699   22.7   \n",
       "Argentina                847.371746         94.0         1   62.2   \n",
       "\n",
       "             under-five deaths   Polio  ...  Diphtheria    HIV/AIDS  \\\n",
       "Country                                 ...                           \n",
       "Afghanistan                  86   58.0  ...         62.0        0.1   \n",
       "Albania                       1   98.0  ...         98.0        0.1   \n",
       "Algeria                      24   95.0  ...         95.0        0.1   \n",
       "Angola                      101   68.0  ...         64.0        2.0   \n",
       "Argentina                     9   92.0  ...         94.0        0.1   \n",
       "\n",
       "                      GDP  Population   thinness  1-19 years  \\\n",
       "Country                                                        \n",
       "Afghanistan    612.696514    327582.0                   17.5   \n",
       "Albania       4575.763787    288914.0                    1.2   \n",
       "Algeria        547.851700  39113313.0                    6.0   \n",
       "Angola         479.312240   2692466.0                    8.5   \n",
       "Argentina    12245.256450  42981515.0                    1.0   \n",
       "\n",
       "              thinness 5-9 years  Income composition of resources  Schooling  \\\n",
       "Country                                                                        \n",
       "Afghanistan                 17.5                            0.476       10.0   \n",
       "Albania                      1.3                            0.761       14.2   \n",
       "Algeria                      5.8                            0.741       14.4   \n",
       "Angola                       8.3                            0.527       11.4   \n",
       "Argentina                    0.9                            0.825       17.3   \n",
       "\n",
       "             Status_Developed  Status_Developing  \n",
       "Country                                           \n",
       "Afghanistan                 0                  1  \n",
       "Albania                     0                  1  \n",
       "Algeria                     0                  1  \n",
       "Angola                      0                  1  \n",
       "Argentina                   0                  1  \n",
       "\n",
       "[5 rows x 21 columns]"
      ]
     },
     "execution_count": 35,
     "metadata": {},
     "output_type": "execute_result"
    }
   ],
   "source": [
    "df.head()"
   ]
  },
  {
   "cell_type": "code",
   "execution_count": 36,
   "metadata": {},
   "outputs": [],
   "source": [
    "# Creating training and testing dataset\n",
    "y = df.iloc[:, 0]\n",
    "X = df.iloc[:, 1:]\n",
    "\n",
    "X_train, X_test, y_train, y_test = train_test_split(X, y, test_size=0.20, random_state = 42)"
   ]
  },
  {
   "cell_type": "markdown",
   "metadata": {
    "colab_type": "text",
    "id": "w8ngMwYK0uZ4"
   },
   "source": [
    "## Question 1.1 (5 points) \n",
    "Run Linear regression on the train dataset and print the $R^2$ values measured on (a) the training dataset and (b) the test dataset."
   ]
  },
  {
   "cell_type": "markdown",
   "metadata": {
    "colab_type": "text",
    "id": "uNI4UUH7-x00"
   },
   "source": [
    "## Answer 1.1"
   ]
  },
  {
   "cell_type": "code",
   "execution_count": 37,
   "metadata": {},
   "outputs": [
    {
     "name": "stdout",
     "output_type": "stream",
     "text": [
      "\n",
      "Train Model R-Squared\n",
      "0.8869822224758938\n",
      "\n",
      "Test Model R-Squared\n",
      "0.8355055233743496\n"
     ]
    }
   ],
   "source": [
    "from sklearn import linear_model\n",
    "from sklearn import metrics\n",
    "from sklearn.metrics import mean_squared_error\n",
    "\n",
    "reg = linear_model.LinearRegression()\n",
    "reg.fit(X_train,y_train)\n",
    "\n",
    "y_train_pred = reg.predict(X_train)\n",
    "print('\\nTrain Model R-Squared')\n",
    "print(metrics.r2_score(y_train,y_train_pred))\n",
    "\n",
    "y_test_pred = reg.predict(X_test)\n",
    "print('\\nTest Model R-Squared')\n",
    "print(metrics.r2_score(y_test,y_test_pred))"
   ]
  },
  {
   "cell_type": "markdown",
   "metadata": {
    "colab_type": "text",
    "id": "Ng9V_xUX2AZt"
   },
   "source": [
    "## Question 1.2 (8 points) \n",
    "Run linear regression using Lasso and determine the value of $\\alpha$ that results in best test set performance. Consider `alphas=10**np.linspace(1,-2,100)*0.5`. Display the best value of $\\alpha$ as well as the corresponsing $R^2$ score on test set. Use the following parameters in Lasso model. Finally, store the best model separately. Also, use the co-efficients obtained and select the [columns with non-zero weights](https://stackoverflow.com/questions/62323713/selecting-columns-of-dataframe-where-lasso-coefficient-is-nonzero) and use them to create `X_train_lasso` and `X_test_lasso`. Show how many non-zero columns are present.\n",
    "\n",
    "    copy_X=True\n",
    "    normalize=True # Normalizes data using StandardScaler()\n",
    "    random_state=42"
   ]
  },
  {
   "cell_type": "markdown",
   "metadata": {
    "colab_type": "text",
    "id": "x2ZOelRg-RQ3"
   },
   "source": [
    "## Answer 1.2"
   ]
  },
  {
   "cell_type": "code",
   "execution_count": 40,
   "metadata": {},
   "outputs": [
    {
     "name": "stdout",
     "output_type": "stream",
     "text": [
      "Best Alpha = 0.01424017934217901\n",
      "\n",
      "Test R-Squared = 0.8524831845218703\n",
      "\n",
      "Best model coefficients:\n",
      "Adult Mortality                   -1.752013e-02\n",
      "infant deaths                     -0.000000e+00\n",
      "Alcohol                            1.027790e-02\n",
      "percentage expenditure             0.000000e+00\n",
      "Hepatitis B                        1.653965e-03\n",
      "Measles                           -0.000000e+00\n",
      " BMI                               2.666324e-03\n",
      "under-five deaths                 -5.782750e-04\n",
      "Polio                             -0.000000e+00\n",
      "Total expenditure                  2.605601e-01\n",
      "Diphtheria                         8.198928e-03\n",
      " HIV/AIDS                         -8.513501e-01\n",
      "GDP                               -0.000000e+00\n",
      "Population                         0.000000e+00\n",
      " thinness  1-19 years             -0.000000e+00\n",
      " thinness 5-9 years               -2.243574e-02\n",
      "Income composition of resources    3.330058e+01\n",
      "Schooling                          0.000000e+00\n",
      "Status_Developed                   6.735820e-01\n",
      "Status_Developing                 -3.950170e-16\n",
      "dtype: float64\n",
      "\n",
      "Number of coefficients that are Non-Zero\n",
      "12\n"
     ]
    },
    {
     "data": {
      "text/html": [
       "<div>\n",
       "<style scoped>\n",
       "    .dataframe tbody tr th:only-of-type {\n",
       "        vertical-align: middle;\n",
       "    }\n",
       "\n",
       "    .dataframe tbody tr th {\n",
       "        vertical-align: top;\n",
       "    }\n",
       "\n",
       "    .dataframe thead th {\n",
       "        text-align: right;\n",
       "    }\n",
       "</style>\n",
       "<table border=\"1\" class=\"dataframe\">\n",
       "  <thead>\n",
       "    <tr style=\"text-align: right;\">\n",
       "      <th></th>\n",
       "      <th>Adult Mortality</th>\n",
       "      <th>Alcohol</th>\n",
       "      <th>Hepatitis B</th>\n",
       "      <th>BMI</th>\n",
       "      <th>under-five deaths</th>\n",
       "      <th>Total expenditure</th>\n",
       "      <th>Diphtheria</th>\n",
       "      <th>HIV/AIDS</th>\n",
       "      <th>thinness 5-9 years</th>\n",
       "      <th>Income composition of resources</th>\n",
       "      <th>Status_Developed</th>\n",
       "      <th>Status_Developing</th>\n",
       "    </tr>\n",
       "    <tr>\n",
       "      <th>Country</th>\n",
       "      <th></th>\n",
       "      <th></th>\n",
       "      <th></th>\n",
       "      <th></th>\n",
       "      <th></th>\n",
       "      <th></th>\n",
       "      <th></th>\n",
       "      <th></th>\n",
       "      <th></th>\n",
       "      <th></th>\n",
       "      <th></th>\n",
       "      <th></th>\n",
       "    </tr>\n",
       "  </thead>\n",
       "  <tbody>\n",
       "    <tr>\n",
       "      <th>Mauritius</th>\n",
       "      <td>148.0</td>\n",
       "      <td>0.01</td>\n",
       "      <td>97.0</td>\n",
       "      <td>32.8</td>\n",
       "      <td>0</td>\n",
       "      <td>4.81</td>\n",
       "      <td>97.0</td>\n",
       "      <td>0.1</td>\n",
       "      <td>6.9</td>\n",
       "      <td>0.769</td>\n",
       "      <td>0</td>\n",
       "      <td>1</td>\n",
       "    </tr>\n",
       "    <tr>\n",
       "      <th>Greece</th>\n",
       "      <td>73.0</td>\n",
       "      <td>7.53</td>\n",
       "      <td>96.0</td>\n",
       "      <td>66.0</td>\n",
       "      <td>0</td>\n",
       "      <td>8.80</td>\n",
       "      <td>99.0</td>\n",
       "      <td>0.1</td>\n",
       "      <td>0.7</td>\n",
       "      <td>0.862</td>\n",
       "      <td>0</td>\n",
       "      <td>1</td>\n",
       "    </tr>\n",
       "    <tr>\n",
       "      <th>Afghanistan</th>\n",
       "      <td>271.0</td>\n",
       "      <td>0.01</td>\n",
       "      <td>62.0</td>\n",
       "      <td>18.6</td>\n",
       "      <td>86</td>\n",
       "      <td>8.18</td>\n",
       "      <td>62.0</td>\n",
       "      <td>0.1</td>\n",
       "      <td>17.5</td>\n",
       "      <td>0.476</td>\n",
       "      <td>0</td>\n",
       "      <td>1</td>\n",
       "    </tr>\n",
       "    <tr>\n",
       "      <th>Belize</th>\n",
       "      <td>177.0</td>\n",
       "      <td>6.58</td>\n",
       "      <td>95.0</td>\n",
       "      <td>5.1</td>\n",
       "      <td>0</td>\n",
       "      <td>5.79</td>\n",
       "      <td>95.0</td>\n",
       "      <td>0.2</td>\n",
       "      <td>3.4</td>\n",
       "      <td>0.705</td>\n",
       "      <td>0</td>\n",
       "      <td>1</td>\n",
       "    </tr>\n",
       "    <tr>\n",
       "      <th>France</th>\n",
       "      <td>79.0</td>\n",
       "      <td>11.50</td>\n",
       "      <td>83.0</td>\n",
       "      <td>62.0</td>\n",
       "      <td>3</td>\n",
       "      <td>11.54</td>\n",
       "      <td>98.0</td>\n",
       "      <td>0.1</td>\n",
       "      <td>0.6</td>\n",
       "      <td>0.890</td>\n",
       "      <td>0</td>\n",
       "      <td>1</td>\n",
       "    </tr>\n",
       "  </tbody>\n",
       "</table>\n",
       "</div>"
      ],
      "text/plain": [
       "             Adult Mortality  Alcohol  Hepatitis B   BMI   under-five deaths   \\\n",
       "Country                                                                         \n",
       "Mauritius              148.0     0.01         97.0   32.8                   0   \n",
       "Greece                  73.0     7.53         96.0   66.0                   0   \n",
       "Afghanistan            271.0     0.01         62.0   18.6                  86   \n",
       "Belize                 177.0     6.58         95.0    5.1                   0   \n",
       "France                  79.0    11.50         83.0   62.0                   3   \n",
       "\n",
       "             Total expenditure  Diphtheria    HIV/AIDS   thinness 5-9 years  \\\n",
       "Country                                                                       \n",
       "Mauritius                 4.81         97.0        0.1                  6.9   \n",
       "Greece                    8.80         99.0        0.1                  0.7   \n",
       "Afghanistan               8.18         62.0        0.1                 17.5   \n",
       "Belize                    5.79         95.0        0.2                  3.4   \n",
       "France                   11.54         98.0        0.1                  0.6   \n",
       "\n",
       "             Income composition of resources  Status_Developed  \\\n",
       "Country                                                          \n",
       "Mauritius                              0.769                 0   \n",
       "Greece                                 0.862                 0   \n",
       "Afghanistan                            0.476                 0   \n",
       "Belize                                 0.705                 0   \n",
       "France                                 0.890                 0   \n",
       "\n",
       "             Status_Developing  \n",
       "Country                         \n",
       "Mauritius                    1  \n",
       "Greece                       1  \n",
       "Afghanistan                  1  \n",
       "Belize                       1  \n",
       "France                       1  "
      ]
     },
     "execution_count": 40,
     "metadata": {},
     "output_type": "execute_result"
    }
   ],
   "source": [
    "from sklearn.linear_model import LinearRegression, Lasso, Ridge\n",
    "from sklearn.preprocessing import scale\n",
    "from sklearn.metrics import mean_squared_error\n",
    "\n",
    "#alphas to consider\n",
    "alphas=10**np.linspace(1,-2,100)*0.5\n",
    "\n",
    "#running linear regression using Lasso for the values of alpha and storing test set R-squared \n",
    "lasso = Lasso(copy_X=True, normalize = True, random_state=42)\n",
    "coefs_L = []\n",
    "r_squared_L = []\n",
    "for a in alphas:\n",
    "    lasso.set_params(alpha=a)\n",
    "    lasso.fit(X_train, y_train)\n",
    "    coefs_L.append(lasso.coef_)\n",
    "    r_squared_L.append(metrics.r2_score(y_test,lasso.predict(X_test)))\n",
    "\n",
    "#Best alpha\n",
    "print(\"Best Alpha =\",alphas[r_squared_L.index(max(r_squared_L))])    \n",
    "\n",
    "#Storing the model to use the best alpha\n",
    "lasso.set_params(alpha=alphas[r_squared_L.index(max(r_squared_L))])\n",
    "\n",
    "new_lasso = Lasso(alpha=alphas[r_squared_L.index(max(r_squared_L))], copy_X=True, normalize = True, random_state=42)\n",
    "\n",
    "new_lasso.fit(X_train, y_train)\n",
    "print(\"\\nTest R-Squared =\",metrics.r2_score(y_test,new_lasso.predict(X_test)))\n",
    "print(\"\\nBest model coefficients:\")\n",
    "print(pd.Series(new_lasso.coef_, index=X.columns))\n",
    "\n",
    "#select the columns with non-zero weights to create X_train_lasso and X_test_lasso\n",
    "print(\"\\nNumber of coefficients that are Non-Zero\")\n",
    "print(len(new_lasso.coef_)-list(new_lasso.coef_).count(0))\n",
    "\n",
    "X_train_lasso = X_train.iloc[:,new_lasso.coef_!=0]\n",
    "X_test_lasso = X_test.iloc[:,new_lasso.coef_!=0]\n",
    "X_train_lasso.head()"
   ]
  },
  {
   "cell_type": "markdown",
   "metadata": {
    "colab_type": "text",
    "id": "yZgK-IsT29fa"
   },
   "source": [
    "## Question 1.3 (6 points) \n",
    "Run linear regression using Ridge and determine the value of $\\alpha$ that results in best test set performance. Consider `alphas=10**np.linspace(1,-2,100)*0.5`. Display the best value of $\\alpha$ as well as the corresponsing $R^2$ score on test set. Use the following parameters in Ridge model.\n",
    "\n",
    "    copy_X=True\n",
    "    normalize=True # Normalizes data using StandardScaler()\n",
    "    random_state=42"
   ]
  },
  {
   "cell_type": "markdown",
   "metadata": {
    "colab_type": "text",
    "id": "syhZfjiI-PB3"
   },
   "source": [
    "## Answer 1.3"
   ]
  },
  {
   "cell_type": "code",
   "execution_count": 39,
   "metadata": {},
   "outputs": [
    {
     "name": "stdout",
     "output_type": "stream",
     "text": [
      "Best Alpha = 0.005\n",
      "\n",
      "Test R-Squared = 0.8339476898269712\n",
      "\n",
      "Best model coefficients:\n",
      "Adult Mortality                   -1.775657e-02\n",
      "infant deaths                      1.549670e-02\n",
      "Alcohol                            4.689961e-02\n",
      "percentage expenditure            -1.222946e-04\n",
      "Hepatitis B                        1.523047e-02\n",
      "Measles                           -1.951048e-05\n",
      " BMI                               4.793769e-03\n",
      "under-five deaths                 -1.603508e-02\n",
      "Polio                             -1.911505e-02\n",
      "Total expenditure                  3.070060e-01\n",
      "Diphtheria                         1.059382e-02\n",
      " HIV/AIDS                         -9.050415e-01\n",
      "GDP                               -4.509922e-07\n",
      "Population                         5.780061e-09\n",
      " thinness  1-19 years             -8.535071e-02\n",
      " thinness 5-9 years                2.279671e-02\n",
      "Income composition of resources    3.314554e+01\n",
      "Schooling                         -6.746117e-02\n",
      "Status_Developed                   6.093896e-01\n",
      "Status_Developing                 -6.093896e-01\n",
      "dtype: float64\n"
     ]
    }
   ],
   "source": [
    "from sklearn.linear_model import LinearRegression, Lasso, Ridge, RidgeCV, LassoCV\n",
    "from sklearn.preprocessing import scale\n",
    "\n",
    "#alphas to consider\n",
    "alphas=10**np.linspace(1,-2,100)*0.5\n",
    "\n",
    "#running linear regression using Lasso for the values of alpha and storing test set R-squared \n",
    "ridge = Ridge(copy_X=True, normalize = True, random_state=42)\n",
    "coefs_R = []\n",
    "r_squared_R = []\n",
    "for a in alphas:\n",
    "    ridge.set_params(alpha=a)\n",
    "    ridge.fit(X_train, y_train)\n",
    "    coefs_R.append(ridge.coef_)\n",
    "    r_squared_R.append(metrics.r2_score(y_test,ridge.predict(X_test)))\n",
    "\n",
    "#Best alpha\n",
    "print(\"Best Alpha =\",alphas[r_squared_R.index(max(r_squared_R))])    \n",
    "\n",
    "#Storing the model to use the best alpha\n",
    "ridge.set_params(alpha=alphas[r_squared_R.index(max(r_squared_R))])\n",
    "\n",
    "ridge.fit(X_train, y_train)\n",
    "print(\"\\nTest R-Squared =\",metrics.r2_score(y_test,ridge.predict(X_test)))\n",
    "print(\"\\nBest model coefficients:\")\n",
    "print(pd.Series(ridge.coef_, index=X.columns))"
   ]
  },
  {
   "cell_type": "markdown",
   "metadata": {
    "colab_type": "text",
    "id": "Y-6cOe7V7DCz"
   },
   "source": [
    "## Question 1.4  (8 points) \n",
    "Run [ElasticNet](https://scikit-learn.org/stable/modules/generated/sklearn.linear_model.ElasticNet.html) [(Video Reference)](https://youtu.be/1dKRdX9bfIo) on the `X_train_lasso` dataset by using all possible values from the below mentioned parameter set:\n",
    "\n",
    "    l1_ratios = np.arange(0, 1.01, 0.01)  # 101 elements\n",
    "    alphas = 10**np.linspace(1, -2, 100)*0.5 # 100 elements\n",
    "    normalize = True\n",
    "    random_state = 42\n",
    "\n",
    "\n",
    "Store the $R^2$ score obtained from `X_test_lasso` set for each combination in an array with 101 rows and 100 columns. e.g.\n",
    "\n",
    "    arr[i][j] = curr_r2_score # obtained using alphas[i] and l1_ratios[j]\n",
    "\n",
    "where `i` is the `ith` element from `l1_ratio` and `j` is the `jth` element from `alphas`. Print the best $R^2$ score obtained using test set and its corresponding `alpha` and `l1 ratio`."
   ]
  },
  {
   "cell_type": "code",
   "execution_count": 26,
   "metadata": {
    "colab": {},
    "colab_type": "code",
    "id": "ZZiKAbk4jGXu"
   },
   "outputs": [],
   "source": [
    "arr = np.zeros((101, 100)) # Create 101x100 array"
   ]
  },
  {
   "cell_type": "markdown",
   "metadata": {
    "colab_type": "text",
    "id": "GFwZrCRViynq"
   },
   "source": [
    "Note that by varying the `l1_ratio`, you are controlling the ratio of Lasso and Ridge regularization that is present in the model. When `l1_ratio = 1`, it means that the model uses Lasso regularization only whereas when `l1_ratio = 0`, it means that the model uses Ridge regularization only. You can find the formula for the loss function [here](https://scikit-learn.org/stable/modules/generated/sklearn.linear_model.ElasticNet.html)."
   ]
  },
  {
   "cell_type": "markdown",
   "metadata": {
    "colab_type": "text",
    "id": "r5ksUkeL-MbL"
   },
   "source": [
    "## Answer 1.4"
   ]
  },
  {
   "cell_type": "code",
   "execution_count": 31,
   "metadata": {},
   "outputs": [],
   "source": [
    "from sklearn.linear_model import ElasticNet\n",
    "\n",
    "l1_ratios = np.arange(0, 1.01, 0.01)  # 101 elements\n",
    "alphas = 10**np.linspace(1, -2, 100)*0.5 # 100 elements\n",
    "alphas = np.array(sorted(alphas))\n",
    "i = 0\n",
    "j = 0\n",
    "\n",
    "for l in l1_ratios:\n",
    "    for a in alphas:\n",
    "        regr = ElasticNet(l1_ratio = l,\n",
    "                  alpha = a,\n",
    "                  normalize = True,\n",
    "                  random_state = 42)\n",
    "        regr.fit(X_train_lasso,y_train)\n",
    "        curr_r2_score = metrics.r2_score(y_test,regr.predict(X_test_lasso))\n",
    "        arr[i][j] = curr_r2_score\n",
    "        j+=1\n",
    "    i+=1\n",
    "    j=0"
   ]
  },
  {
   "cell_type": "code",
   "execution_count": 32,
   "metadata": {},
   "outputs": [
    {
     "name": "stdout",
     "output_type": "stream",
     "text": [
      "[[ 0.7997616   0.79735706  0.79483812 ... -0.09340008 -0.09459029\n",
      "  -0.09570241]\n",
      " [ 0.80009339  0.7977026   0.79519882 ... -0.09494728 -0.09615152\n",
      "  -0.09727678]\n",
      " [ 0.80042696  0.79804991  0.79556119 ... -0.09652726 -0.09774587\n",
      "  -0.09888457]\n",
      " ...\n",
      " [ 0.85118137  0.8511055   0.85102196 ... -0.11130508 -0.11130508\n",
      "  -0.11130508]\n",
      " [ 0.8519138   0.8518906   0.85186344 ... -0.11130508 -0.11130508\n",
      "  -0.11130508]\n",
      " [ 0.85261961  0.85264414  0.85266775 ... -0.11130508 -0.11130508\n",
      "  -0.11130508]]\n",
      "\n",
      "Best R-Squared:\n",
      "0.8527563145979077\n",
      "\n",
      "Best R-Squared's Elastic Net L1 Ratio:\n",
      "[1.]\n",
      "\n",
      "Best R-Squared's Elastic Net Alpha:\n",
      "[0.00873764]\n"
     ]
    }
   ],
   "source": [
    "print(arr)\n",
    "\n",
    "print('\\nBest R-Squared:')\n",
    "print(np.amax(arr))\n",
    "\n",
    "result = np.where(arr == np.amax(arr))\n",
    "\n",
    "print('\\nBest R-Squared\\'s Elastic Net L1 Ratio:')\n",
    "print(l1_ratios[result[0]])\n",
    "print('\\nBest R-Squared\\'s Elastic Net Alpha:')\n",
    "print(alphas[result[1]])\n",
    "\n",
    "#uses lasso regularization only"
   ]
  },
  {
   "cell_type": "markdown",
   "metadata": {
    "colab_type": "text",
    "id": "D6eM7mR189cP"
   },
   "source": [
    "## Question 1.5 (3 points) \n",
    "Call `plot_heatmap()` using the 101x100 array from the previous question. What does this heatmap represent? Interpret the heatmap."
   ]
  },
  {
   "cell_type": "code",
   "execution_count": 11,
   "metadata": {
    "colab": {},
    "colab_type": "code",
    "id": "2SVYnItgCCAR"
   },
   "outputs": [],
   "source": [
    "def rescale(val, in_min, in_max, out_min, out_max):\n",
    "    return out_min + (val - in_min) * ((out_max - out_min) / (in_max - in_min))\n",
    "\n",
    "def format_y(value, tick_number):\n",
    "    return f'{value/100.:0.2f}'\n",
    "\n",
    "def format_x(value, tick_number):\n",
    "    return f'{rescale(value, 0., 100., 0.05, 5.):0.2f}'\n",
    "\n",
    "def plot_heatmap(arr):\n",
    "    ax = sns.heatmap(arr)\n",
    "    ax.set_ylabel(\"L1 Ratio\")\n",
    "    ax.set_xlabel(\"alpha\")\n",
    "    ax.invert_yaxis()\n",
    "    ax.xaxis.set_major_formatter(plt.FuncFormatter(format_x))\n",
    "    ax.yaxis.set_major_formatter(plt.FuncFormatter(format_y))"
   ]
  },
  {
   "cell_type": "markdown",
   "metadata": {
    "colab_type": "text",
    "id": "q5QVYStf9zuA"
   },
   "source": [
    "## Answer 1.5"
   ]
  },
  {
   "cell_type": "code",
   "execution_count": 12,
   "metadata": {},
   "outputs": [
    {
     "data": {
      "image/png": "[encoded data removed]",
      "text/plain": [
       "<Figure size 432x288 with 2 Axes>"
      ]
     },
     "metadata": {
      "needs_background": "light"
     },
     "output_type": "display_data"
    }
   ],
   "source": [
    "plot_heatmap(arr)"
   ]
  },
  {
   "cell_type": "markdown",
   "metadata": {},
   "source": [
    "This heatmap represents the changes in R-Squared using the Test dataset as we use Elastic Net regularization on the data.\n",
    "The x-axis represents the L1 Ratio, or the weight of Lasso versus Ridge Regularization used. As L1 Ratio approaches 1, the Lasso regularization is used primarily. Alpha, on the y-axis, is the tuning parameter used to regularize the model. A higher value of alpha represents more regularization or smoothing of the model. As alpha increases, variance of the model falls.\n",
    "\n",
    "As we see in this heatmap, the highest values of R-Squared occur when L1 Ratio is high and Alpha is low. Regardless of alpha, when L1 Ratio is >.9, we see a R-Squared higher than 0.75. This indicates that Lasso regularization is a better fit for this model. As alpha decreases, R-squared also increases. An alpha of about 0.0087 results in the highest testing R-squared. \n",
    "\n",
    "Thus, the model with the highest R-squared has both a high L1 Ratio and a low alpha value."
   ]
  },
  {
   "cell_type": "markdown",
   "metadata": {
    "colab_type": "text",
    "id": "fXL1_aVfCktf"
   },
   "source": [
    "# Question 2 (5 points)\n",
    "Suppose you learn a ridge regression based on some of the independent variables available to you, and including a few interaction terms as well. Your result is disappointing, and you believe that the model is suffering from either too much bias or too much variance. Describe briefly how you will test which alternative is more likely to be true. (there is no extra data that you can use, so “get more data” is not an option)."
   ]
  },
  {
   "cell_type": "markdown",
   "metadata": {},
   "source": [
    "## Answer 2\n",
    "\n",
    "In order to figure out whether our model is suffering from either too much bias or too much variance, we can examine and test a couple of alternatives:\n",
    "\n",
    "1. Too much bias will occur if the regularization parameter is too high. (\"The model is too smooth.\") In a highly biased model, we're also likely to see a high training MSE. The training R-Squared value may also be low.\n",
    "\n",
    "\n",
    "2. Too much variance will occur if the regularization parameter is too low, and the model has been overfit. (\"The model is too noisy.\") In a model with high variance, our model is likely to have a large gap between the training MSE and the testing MSE. The standard errors of the model weights are likely to be high as there's collinearity in the terms. \n",
    "\n",
    "So, in summary, we must **alter the regularization parameter lambda** in order to see how the training and testing MSE change for different parameter values. \n",
    "\n",
    "If we decrease lambda and we see the training MSE and testing MSE fall, this model had **too much bias.** In order to reduce bias, the regularization parameter lamdba must be LOWER. \n",
    "\n",
    "On the other hand, if we decrease lambda and we see the training MSE fall and the testing MSE spike, this means the model has **too much variance** and has been picking up noise in the training set. The regularization parameter lambda must be HIGHER to have less variance in the model.  "
   ]
  },
  {
   "cell_type": "markdown",
   "metadata": {},
   "source": [
    "# Question 3 Bias-Variance (20 pts): \n",
    "\n",
    "We want to build a model that can predict y for unknown inputs x.(15 pts)\n",
    "\n",
    "(a) (5 pts) Fit a linear model to the training data, and report mean squared error on the test data. Plot the train and test points on the same plot, clearly denoting the training and testing points. On the same figure, plot the predictions of the linear model using x_all. All the plots must be in the same figure and be clearly labeled.\n",
    "\n",
    "\n",
    "(b) (10 pts) Fit polynomial models of degrees 2, 3, 4 and 12 to the training data, Report mean squared error (on both train and test sets) for all the models. Plot the data (train and test points) as before.  On the same figure, plot the predictions of the polynomial models using x_all. All the plots must be in the same figure and be clearly labeled.\n",
    "\n",
    "\n",
    "(c) (5 pts) Which model performed the best? Explain.\n"
   ]
  },
  {
   "cell_type": "markdown",
   "metadata": {},
   "source": [
    "* Use the below code to load the data from the file 'ps01.data'. It is organized as a dictionary, of train and test data."
   ]
  },
  {
   "cell_type": "code",
   "execution_count": 13,
   "metadata": {},
   "outputs": [],
   "source": [
    "from sklearn import linear_model as lm\n",
    "from sklearn.metrics import mean_squared_error,mean_absolute_error\n",
    "import matplotlib.pyplot as plt\n",
    "import numpy as np\n",
    "%matplotlib inline\n",
    "\n",
    "x_all = np.linspace(-2,5,101).reshape(-1,1)\n",
    "all_files = np.load(\"q3_data.npz\")\n",
    "x_train, y_train, x_test, y_test = all_files['arr_0'], all_files['arr_1'], all_files['arr_2'], all_files['arr_3']"
   ]
  },
  {
   "cell_type": "markdown",
   "metadata": {},
   "source": [
    "### Answer"
   ]
  },
  {
   "cell_type": "markdown",
   "metadata": {},
   "source": [
    "#### (a)"
   ]
  },
  {
   "cell_type": "code",
   "execution_count": 14,
   "metadata": {},
   "outputs": [
    {
     "name": "stdout",
     "output_type": "stream",
     "text": [
      "\n",
      "Testing mse =  4.739110717634691\n"
     ]
    },
    {
     "data": {
      "text/plain": [
       "<matplotlib.legend.Legend at 0x213de8bdb48>"
      ]
     },
     "execution_count": 14,
     "metadata": {},
     "output_type": "execute_result"
    },
    {
     "data": {
      "image/png": "[encoded data removed]",
      "text/plain": [
       "<Figure size 432x288 with 1 Axes>"
      ]
     },
     "metadata": {
      "needs_background": "light"
     },
     "output_type": "display_data"
    }
   ],
   "source": [
    "from sklearn import linear_model\n",
    "from sklearn import metrics\n",
    "\n",
    "reg = linear_model.LinearRegression()\n",
    "reg.fit(x_train,y_train)\n",
    "\n",
    "y_test_pred = reg.predict(x_test)\n",
    "print(\"\\nTesting mse = \",mean_squared_error(y_test, reg.predict(x_test)))\n",
    "y_all_pred = reg.predict(x_all)\n",
    "\n",
    "plt.scatter(x_train,y_train)\n",
    "plt.scatter(x_test,y_test)\n",
    "plt.scatter(x_all, y_all_pred)\n",
    "plt.legend((\"train\",\"test\",\"predictions\"))"
   ]
  },
  {
   "cell_type": "markdown",
   "metadata": {},
   "source": [
    "### (b)"
   ]
  },
  {
   "cell_type": "code",
   "execution_count": 15,
   "metadata": {},
   "outputs": [
    {
     "name": "stdout",
     "output_type": "stream",
     "text": [
      "\n",
      "Degree 2 training mse =  3.241421853814466\n",
      "Degree 2 testing mse =  3.118688012803552\n",
      "\n",
      "Degree 3 training mse =  1.4201223351315242\n",
      "Degree 3 testing mse =  1.669870363950939\n",
      "\n",
      "Degree 4 training mse =  0.3745950147780308\n",
      "Degree 4 testing mse =  0.2793974390234906\n",
      "\n",
      "Degree 12 training mse =  0.3297484792267277\n",
      "Degree 12 testing mse =  0.40228762220221337\n"
     ]
    },
    {
     "data": {
      "text/plain": [
       "<matplotlib.legend.Legend at 0x213deae4c88>"
      ]
     },
     "execution_count": 15,
     "metadata": {},
     "output_type": "execute_result"
    },
    {
     "data": {
      "image/png": "[encoded data removed]",
      "text/plain": [
       "<Figure size 432x288 with 1 Axes>"
      ]
     },
     "metadata": {
      "needs_background": "light"
     },
     "output_type": "display_data"
    }
   ],
   "source": [
    "from sklearn.preprocessing import PolynomialFeatures\n",
    "from sklearn import linear_model\n",
    "\n",
    "# degree 2\n",
    "poly2 = PolynomialFeatures(degree=2)\n",
    "x_train_2 = poly2.fit_transform(x_train)\n",
    "predict_2 = poly2.fit_transform(x_test)\n",
    "\n",
    "clf2 = linear_model.LinearRegression()\n",
    "clf2.fit(x_train_2, y_train)\n",
    "clf2.predict(predict_2)\n",
    "y2_all_pred = clf2.predict(poly2.fit_transform(x_all))\n",
    "\n",
    "print(\"\\nDegree 2 training mse = \",mean_squared_error(y_train, clf2.predict(x_train_2)))\n",
    "print(\"Degree 2 testing mse = \",mean_squared_error(y_test, clf2.predict(predict_2)))\n",
    "\n",
    "# degree 3\n",
    "poly3 = PolynomialFeatures(degree=3)\n",
    "x_train_3 = poly3.fit_transform(x_train)\n",
    "predict_3 = poly3.fit_transform(x_test)\n",
    "\n",
    "clf3 = linear_model.LinearRegression()\n",
    "clf3.fit(x_train_3, y_train)\n",
    "clf3.predict(predict_3)\n",
    "y3_all_pred = clf3.predict(poly3.fit_transform(x_all))\n",
    "\n",
    "print(\"\\nDegree 3 training mse = \",mean_squared_error(y_train, clf3.predict(x_train_3)))\n",
    "print(\"Degree 3 testing mse = \",mean_squared_error(y_test, clf3.predict(predict_3)))\n",
    "\n",
    "# degree 4\n",
    "poly4 = PolynomialFeatures(degree=4)\n",
    "x_train_4 = poly4.fit_transform(x_train)\n",
    "predict_4 = poly4.fit_transform(x_test)\n",
    "\n",
    "clf4 = linear_model.LinearRegression()\n",
    "clf4.fit(x_train_4, y_train)\n",
    "clf4.predict(predict_4)\n",
    "y4_all_pred = clf4.predict(poly4.fit_transform(x_all))\n",
    "\n",
    "print(\"\\nDegree 4 training mse = \",mean_squared_error(y_train, clf4.predict(x_train_4)))\n",
    "print(\"Degree 4 testing mse = \",mean_squared_error(y_test, clf4.predict(predict_4)))\n",
    "\n",
    "# degree 12\n",
    "poly12 = PolynomialFeatures(degree=12)\n",
    "x_train_12 = poly12.fit_transform(x_train)\n",
    "predict_12 = poly12.fit_transform(x_test)\n",
    "\n",
    "clf12 = linear_model.LinearRegression()\n",
    "clf12.fit(x_train_12, y_train)\n",
    "clf12.predict(predict_12)\n",
    "y12_all_pred = clf12.predict(poly12.fit_transform(x_all))\n",
    "\n",
    "print(\"\\nDegree 12 training mse = \",mean_squared_error(y_train, clf12.predict(x_train_12)))\n",
    "print(\"Degree 12 testing mse = \",mean_squared_error(y_test, clf12.predict(predict_12)))\n",
    "\n",
    "plt.scatter(x_train,y_train, s=10)\n",
    "plt.scatter(x_test,y_test, s=10)\n",
    "plt.plot(x_all, y_all_pred)\n",
    "plt.plot(x_all,y2_all_pred)\n",
    "plt.plot(x_all,y3_all_pred)\n",
    "plt.plot(x_all,y4_all_pred)\n",
    "plt.plot(x_all,y12_all_pred)\n",
    "plt.legend((\"linear\", \"degree=2\",\"degree=3\",\"degree=4\",\"degree=12\",\"train\",\"test\"))"
   ]
  },
  {
   "cell_type": "markdown",
   "metadata": {},
   "source": [
    "### (c)"
   ]
  },
  {
   "cell_type": "markdown",
   "metadata": {},
   "source": [
    "The model that performed the best was the degree 4 polynomial with a training MSE of 0.37 and a testing MSE of .28. \n",
    "\n",
    "This model is the form $$ y = w_0 + w_1x_1 + w_2x_1^{2} + w_3x_1^{3} + w_4x_1^{4} $$\n",
    "\n",
    "We can see this visually as the brown fit line in the plot fits the training and testing data the best.\n",
    "\n",
    "The degree 12 model overfit the data, as the training MSE fell to 0.32 but the testing MSE increased to 0.40. "
   ]
  },
  {
   "cell_type": "markdown",
   "metadata": {},
   "source": [
    "# Question 4 - Stochastic Gradient Descent (25 pts)"
   ]
  },
  {
   "cell_type": "markdown",
   "metadata": {},
   "source": [
    "1. (5pts) Using stochastic gradient descent, derive the coefficent updates for all 4 coefficients of the model: $$ y = w_0 + w_1x_1 + w_2x_1x_2 + w_3e^{-x_1} $$ Hint: start from the cost function (Assume sum of squared error). If you write the math by hand, include the image in your notebook and upload the image in the submission.\n",
    "\n",
    "\n",
    "2. (20pts) Write Python code for an SGD solution to the non-linear model$$ y = w_0 + w_1x_1 + w_2x_1x_2 + w_3e^{-x_1} $$  Try to format similarly to scikit-learn's models. The template of the class is given. The init function of the class takes as input the learning_rate, regularization_constant and number of epochs. The fit method must take as input X,y. The _predict_ method takes an X value (optionally, an array of values). Use your new gradient descent regression to predict the data given in 'samples.csv', for 15 epochs, using learning rates: [0, .0001, .001, .01, 0.1, 1, 10, 100] and regularization (ridge regression) constants: [0,10,100] . Plot MSE and the $w$ parameters as a function of epoch (for 15 epochs) for the best 2 combinations of learning_rate and regularization for SGD. (2pts) Report the MSE at the end of 15 epochs for the two best combinations.\n"
   ]
  },
  {
   "cell_type": "code",
   "execution_count": 111,
   "metadata": {},
   "outputs": [],
   "source": [
    "%matplotlib inline\n",
    "import random\n",
    "import numpy as np\n",
    "import matplotlib.pyplot as plt\n",
    "import pandas as pd\n",
    "import math\n",
    "\n",
    "class Regression:\n",
    "    \n",
    "    def __init__(self, learning_rate, regularization, n_epoch):\n",
    "        self.learning_rate = learning_rate\n",
    "        self.n_epoch = n_epoch\n",
    "        self.regularization = regularization\n",
    "        self.coef = np.array([1.0,1.0,1.0,1.0])\n",
    "        self.gradient = np.array([1.0,1.0,1.0,1.0])\n",
    "        \n",
    "    def sgd(self, gradient):\n",
    "        j = 0\n",
    "        for i in range(len(self.coef)):\n",
    "            #print(\"a. coef\",self.coef[i])\n",
    "            #print(\"b. learning rate\", self.learning_rate)\n",
    "            #print(\"c. gradient\", gradient[i])\n",
    "            self.coef[i] += ((self.learning_rate * gradient[i])) #+ 2*self.regularization*self.coef[i]) # = please fill this to update self.coef using SGD\n",
    "            #print(\"new coef\", self.coef[i])\n",
    "            j += 1\n",
    "            \n",
    "    def fit(self, X, y, update_rule='sgd', plot=False):\n",
    "        mse = []\n",
    "        coefs = np.zeros((self.n_epoch, 4))\n",
    "        self.cache = np.zeros(self.coef.shape)\n",
    "        self.v = np.zeros(self.coef.shape)\n",
    "        self.decay_rate = 0.9\n",
    "        X = self.get_features(X)\n",
    "        for epoch in range(self.n_epoch):\n",
    "            for i in range(X.shape[0]):\n",
    "                # Compute error\n",
    "                prediction =  np.sum(np.transpose(self.coef)*X[i])\n",
    "                error = (y[i] - prediction)\n",
    "                #print(\"Error\",error)\n",
    "                # Compute gradients\n",
    "                theta = X[i] \n",
    "                                \n",
    "                self.gradient[0] = 2*error + 2*self.regularization*self.coef[0]\n",
    "                self.gradient[1] = 2*error*X[i][0] + 2*self.regularization*self.coef[1]\n",
    "                self.gradient[2] = 2*error*X[i][0]*X[i][1] + 2*self.regularization*self.coef[2]\n",
    "                self.gradient[3] = 2*error*-1*math.exp(-1*X[i][0]) + 2*self.regularization*self.coef[3]\n",
    "                #print(\"Gradient\", self.gradient)\n",
    "                \n",
    "                # Update weights\n",
    "                self.sgd(self.gradient)\n",
    "                #print(\"Coefs:\", self.coef)\n",
    "            #print(self.coef)\n",
    "            coefs[epoch][0] =self.coef[0]\n",
    "            coefs[epoch][1] =self.coef[1]\n",
    "            coefs[epoch][2] =self.coef[2]\n",
    "            coefs[epoch][3] =self.coef[3]\n",
    "\n",
    "            #print(coefs)\n",
    "            residuals = y - np.sum(np.transpose(self.coef)*X)         \n",
    "            mse.append(np.mean(residuals**2))\n",
    "            #print(\"Epoch mse\", mse)\n",
    "\n",
    "        self.lowest_mse = mse[-1]\n",
    "        print(\"Lowest MSE:\",self.lowest_mse)\n",
    "        #print(\"Self coef\", self.coef)\n",
    "        if plot == True:\n",
    "            plt.figure()\n",
    "            plt.plot(range(self.n_epoch),mse)\n",
    "            plt.xlabel('epoch')\n",
    "            plt.ylabel('MSE')\n",
    "            plt.figure()\n",
    "            coefs = np.array(coefs)\n",
    "            plt.plot(range(self.n_epoch),coefs[:,0],label='w0')\n",
    "            plt.plot(range(self.n_epoch),coefs[:,1],label='w1')\n",
    "            plt.plot(range(self.n_epoch),coefs[:,2],label='w2')\n",
    "            plt.plot(range(self.n_epoch),coefs[:,3],label='w3')\n",
    "            plt.legend()\n",
    "            plt.xlabel('epoch')\n",
    "            plt.ylabel('parameter value')\n",
    "\n",
    "    def get_features(self, X):\n",
    "        '''\n",
    "        this output of this function can be used to compute the gradient in `fit`\n",
    "        '''\n",
    "        x = np.zeros((X.shape[0], 4))\n",
    "        x[:,0] = 1\n",
    "        x[:,1] = X[:,0]\n",
    "        x[:,2] = X[:,0]*X[:,1]\n",
    "        x[:,3] = np.exp(-X[:,0])\n",
    "        return x\n",
    "    \n",
    "    def linearPredict(self, X):  \n",
    "        #compute dot product of self.coef and X\n",
    "        prediction = np.dot(self.coef,X)\n",
    "        return prediction\n",
    "    \n",
    "   "
   ]
  },
  {
   "cell_type": "code",
   "execution_count": 29,
   "metadata": {},
   "outputs": [],
   "source": [
    "data = pd.read_csv('q4_samples.csv')\n",
    "X = np.array([data['x1'].values, data['x2'].values]).T\n",
    "y = data['y'].values\n",
    "n_epochs = 15\n",
    "learning_rate = [0.0001, 0.001, 0.01, 0.1, 1, 10, 100]\n",
    "regularization = [0, 10, 100]"
   ]
  },
  {
   "cell_type": "markdown",
   "metadata": {},
   "source": [
    "## Answer "
   ]
  },
  {
   "cell_type": "markdown",
   "metadata": {},
   "source": [
    "### 1."
   ]
  },
  {
   "cell_type": "markdown",
   "metadata": {},
   "source": [
    "Model: $$ y = w_0 + w_1x_1 + w_2x_1x_2 + w_3e^{-x_1} $$\n",
    "\n",
    "Loss function: $$ L = (\\hat{y} - y)^{2} $$\n",
    "\n",
    "Coefficient updates: $$ w_{new} = w_{current} - \\eta \\frac{\\partial L}{\\partial w_{current}} $$\n",
    "\n",
    "$w_0$ update:\n",
    "\n",
    "$ w_0' = w_0 - \\eta \\frac{\\partial L}{\\partial w_0} $\n",
    "\n",
    "where \n",
    "\n",
    "$ \\frac{\\partial L}{\\partial w_0} = \\frac{\\partial L}{\\partial \\hat{y}} \\cdot \\frac{\\partial \\hat{y}}{\\partial w_0} $\n",
    "\n",
    "$ \\frac{\\partial L}{\\partial \\hat{y}} = 2(\\hat{y} - y) $ \n",
    "\n",
    "$\\frac{\\partial \\hat{y}}{\\partial w_0} = 1$\n",
    "\n",
    "$$w_0' = w_0 - \\eta [2(\\hat{y} - y)] $$\n",
    "\n",
    "\n",
    "\n",
    "$w_1$ update:\n",
    "\n",
    "$ w_1' = w_1 - \\eta \\frac{\\partial L}{\\partial w_1} $\n",
    "\n",
    "where \n",
    "\n",
    "$ \\frac{\\partial L}{\\partial w_1} = \\frac{\\partial L}{\\partial \\hat{y}} \\cdot \\frac{\\partial \\hat{y}}{\\partial w_1} $\n",
    "\n",
    "$ \\frac{\\partial L}{\\partial \\hat{y}} = 2(\\hat{y} - y) $ \n",
    "\n",
    "$\\frac{\\partial \\hat{y}}{\\partial w_1} = x_1$\n",
    "\n",
    "$$ w_1' = w_1 - \\eta [2(\\hat{y} - y) \\cdot x_1] $$\n",
    "\n",
    "\n",
    "\n",
    "$w_2$ update:\n",
    "\n",
    "$ w_2' = w_2 - \\eta \\frac{\\partial L}{\\partial w_2} $\n",
    "\n",
    "where \n",
    "\n",
    "$ \\frac{\\partial L}{\\partial w_2} = \\frac{\\partial L}{\\partial \\hat{y}} \\cdot \\frac{\\partial \\hat{y}}{\\partial w_2} $\n",
    "\n",
    "$ \\frac{\\partial L}{\\partial \\hat{y}} = 2(\\hat{y} - y) $ \n",
    "\n",
    "$\\frac{\\partial \\hat{y}}{\\partial w_2} = x_1 \\cdot x_2$\n",
    "\n",
    "$$ w_2' = w_2 - \\eta [2(\\hat{y} - y) \\cdot (x_1 \\cdot x_2)] $$\n",
    "\n",
    "\n",
    "\n",
    "$w_3$ update:\n",
    "\n",
    "$ w_3' = w_3 - \\eta \\frac{\\partial L}{\\partial w_3} $\n",
    "\n",
    "where \n",
    "\n",
    "$ \\frac{\\partial L}{\\partial w_3} = \\frac{\\partial L}{\\partial \\hat{y}} \\cdot \\frac{\\partial \\hat{y}}{\\partial w_3} $\n",
    "\n",
    "$ \\frac{\\partial L}{\\partial \\hat{y}} = 2(\\hat{y} - y) $ \n",
    "\n",
    "$\\frac{\\partial \\hat{y}}{\\partial w_3} = -e^{-x_1}$\n",
    "\n",
    "$$ w_3' = w_3 - \\eta [2(\\hat{y} - y) \\cdot -e^{-x_1}] $$"
   ]
  },
  {
   "cell_type": "markdown",
   "metadata": {},
   "source": [
    "### 2. Updated the code in the functions above. "
   ]
  },
  {
   "cell_type": "code",
   "execution_count": 112,
   "metadata": {},
   "outputs": [
    {
     "name": "stdout",
     "output_type": "stream",
     "text": [
      "Lowest MSE: 4468.277940552006\n"
     ]
    },
    {
     "data": {
      "image/png": "[encoded data removed]",
      "text/plain": [
       "<Figure size 432x288 with 1 Axes>"
      ]
     },
     "metadata": {
      "needs_background": "light"
     },
     "output_type": "display_data"
    },
    {
     "data": {
      "image/png": "[encoded data removed]",
      "text/plain": [
       "<Figure size 432x288 with 1 Axes>"
      ]
     },
     "metadata": {
      "needs_background": "light"
     },
     "output_type": "display_data"
    }
   ],
   "source": [
    "reg = Regression(.01, 0.01, 15)\n",
    "\n",
    "reg.fit(X=X, y=y, plot=True)"
   ]
  },
  {
   "cell_type": "markdown",
   "metadata": {},
   "source": [
    "### Using SGD\n"
   ]
  },
  {
   "cell_type": "code",
   "execution_count": 113,
   "metadata": {},
   "outputs": [
    {
     "name": "stdout",
     "output_type": "stream",
     "text": [
      "Regularization: 0\n",
      "Learning rate: 0.0001\n",
      "Lowest MSE: 49156.46371105431\n",
      "Regularization: 0\n",
      "Learning rate: 0.001\n",
      "Lowest MSE: 10292.146020535487\n",
      "Regularization: 0\n",
      "Learning rate: 0.01\n",
      "Lowest MSE: 7143.098723558292\n",
      "Regularization: 0\n",
      "Learning rate: 0.1\n",
      "Lowest MSE: 21504.430910223902\n",
      "Regularization: 0\n",
      "Learning rate: 1\n"
     ]
    },
    {
     "name": "stderr",
     "output_type": "stream",
     "text": [
      "C:\\Users\\jocel\\anaconda3\\lib\\site-packages\\ipykernel_launcher.py:60: RuntimeWarning: overflow encountered in square\n",
      "C:\\Users\\jocel\\anaconda3\\lib\\site-packages\\ipykernel_launcher.py:43: RuntimeWarning: overflow encountered in double_scalars\n",
      "C:\\Users\\jocel\\anaconda3\\lib\\site-packages\\ipykernel_launcher.py:44: RuntimeWarning: overflow encountered in double_scalars\n",
      "C:\\Users\\jocel\\anaconda3\\lib\\site-packages\\ipykernel_launcher.py:45: RuntimeWarning: overflow encountered in double_scalars\n",
      "C:\\Users\\jocel\\anaconda3\\lib\\site-packages\\ipykernel_launcher.py:46: RuntimeWarning: overflow encountered in double_scalars\n",
      "C:\\Users\\jocel\\anaconda3\\lib\\site-packages\\numpy\\core\\fromnumeric.py:87: RuntimeWarning: invalid value encountered in reduce\n",
      "  return ufunc.reduce(obj, axis, dtype, out, **passkwargs)\n",
      "C:\\Users\\jocel\\anaconda3\\lib\\site-packages\\ipykernel_launcher.py:43: RuntimeWarning: invalid value encountered in double_scalars\n",
      "C:\\Users\\jocel\\anaconda3\\lib\\site-packages\\ipykernel_launcher.py:44: RuntimeWarning: invalid value encountered in double_scalars\n",
      "C:\\Users\\jocel\\anaconda3\\lib\\site-packages\\ipykernel_launcher.py:45: RuntimeWarning: invalid value encountered in double_scalars\n",
      "C:\\Users\\jocel\\anaconda3\\lib\\site-packages\\ipykernel_launcher.py:46: RuntimeWarning: invalid value encountered in double_scalars\n",
      "C:\\Users\\jocel\\anaconda3\\lib\\site-packages\\ipykernel_launcher.py:23: RuntimeWarning: overflow encountered in double_scalars\n"
     ]
    },
    {
     "name": "stdout",
     "output_type": "stream",
     "text": [
      "Lowest MSE: nan\n",
      "Regularization: 0\n",
      "Learning rate: 10\n",
      "Lowest MSE: nan\n",
      "Regularization: 0\n",
      "Learning rate: 100\n"
     ]
    },
    {
     "name": "stderr",
     "output_type": "stream",
     "text": [
      "C:\\Users\\jocel\\anaconda3\\lib\\site-packages\\numpy\\core\\fromnumeric.py:87: RuntimeWarning: overflow encountered in reduce\n",
      "  return ufunc.reduce(obj, axis, dtype, out, **passkwargs)\n"
     ]
    },
    {
     "name": "stdout",
     "output_type": "stream",
     "text": [
      "Lowest MSE: nan\n",
      "Regularization: 10\n",
      "Learning rate: 0.0001\n",
      "Lowest MSE: 2.2157613598073453e+17\n",
      "Regularization: 10\n",
      "Learning rate: 0.001\n",
      "Lowest MSE: 2.001162491266235e+131\n",
      "Regularization: 10\n",
      "Learning rate: 0.01\n",
      "Lowest MSE: nan\n",
      "Regularization: 10\n",
      "Learning rate: 0.1\n",
      "Lowest MSE: nan\n",
      "Regularization: 10\n",
      "Learning rate: 1\n",
      "Lowest MSE: nan\n",
      "Regularization: 10\n",
      "Learning rate: 10\n",
      "Lowest MSE: nan\n",
      "Regularization: 10\n",
      "Learning rate: 100\n",
      "Lowest MSE: nan\n",
      "Regularization: 100\n",
      "Learning rate: 0.0001\n",
      "Lowest MSE: 2.2642195581437446e+133\n",
      "Regularization: 100\n",
      "Learning rate: 0.001\n",
      "Lowest MSE: nan\n",
      "Regularization: 100\n",
      "Learning rate: 0.01\n",
      "Lowest MSE: nan\n",
      "Regularization: 100\n",
      "Learning rate: 0.1\n",
      "Lowest MSE: nan\n",
      "Regularization: 100\n",
      "Learning rate: 1\n",
      "Lowest MSE: nan\n",
      "Regularization: 100\n",
      "Learning rate: 10\n",
      "Lowest MSE: nan\n",
      "Regularization: 100\n",
      "Learning rate: 100\n",
      "Lowest MSE: nan\n"
     ]
    }
   ],
   "source": [
    "for r in regularization:\n",
    "    for l in learning_rate:\n",
    "        print(\"Regularization:\",r)\n",
    "        print(\"Learning rate:\",l)\n",
    "        reg = Regression(l, r, n_epochs)\n",
    "        reg.fit(X=X,y=y)"
   ]
  },
  {
   "cell_type": "markdown",
   "metadata": {},
   "source": [
    "The two best learning rates are 0.001 and 0.01 with 0 regularization.\n",
    "\n",
    "The two best MSEs for these are 10,292 and 7143 respectively.\n",
    "\n",
    "Plotting the two best learning rates:"
   ]
  },
  {
   "cell_type": "code",
   "execution_count": 101,
   "metadata": {},
   "outputs": [
    {
     "name": "stdout",
     "output_type": "stream",
     "text": [
      "Lowest MSE: 10292.146020535487\n",
      "Lowest MSE: 7143.098723558292\n"
     ]
    },
    {
     "data": {
      "image/png": "[encoded data removed]",
      "text/plain": [
       "<Figure size 432x288 with 1 Axes>"
      ]
     },
     "metadata": {
      "needs_background": "light"
     },
     "output_type": "display_data"
    },
    {
     "data": {
      "image/png": "[encoded data removed]",
      "text/plain": [
       "<Figure size 432x288 with 1 Axes>"
      ]
     },
     "metadata": {
      "needs_background": "light"
     },
     "output_type": "display_data"
    },
    {
     "data": {
      "image/png": "[encoded data removed]",
      "text/plain": [
       "<Figure size 432x288 with 1 Axes>"
      ]
     },
     "metadata": {
      "needs_background": "light"
     },
     "output_type": "display_data"
    },
    {
     "data": {
      "image/png": "[encoded data removed]",
      "text/plain": [
       "<Figure size 432x288 with 1 Axes>"
      ]
     },
     "metadata": {
      "needs_background": "light"
     },
     "output_type": "display_data"
    }
   ],
   "source": [
    "reg = Regression(0.001, 0, n_epochs)\n",
    "reg.fit(X=X,y=y,plot=True)\n",
    "\n",
    "reg = Regression(0.01, 0, n_epochs)\n",
    "reg.fit(X=X,y=y,plot=True)"
   ]
  },
  {
   "cell_type": "markdown",
   "metadata": {},
   "source": [
    "We see that using a regularization constant close to 0 improves the MSE. A learning rate of 0.01 and a ridge regression constant of 0.02 reduce the MSE to 210. "
   ]
  },
  {
   "cell_type": "code",
   "execution_count": 123,
   "metadata": {},
   "outputs": [
    {
     "name": "stdout",
     "output_type": "stream",
     "text": [
      "Lowest MSE: 210.200131549614\n"
     ]
    },
    {
     "data": {
      "image/png": "[encoded data removed]",
      "text/plain": [
       "<Figure size 432x288 with 1 Axes>"
      ]
     },
     "metadata": {
      "needs_background": "light"
     },
     "output_type": "display_data"
    },
    {
     "data": {
      "image/png": "[encoded data removed]",
      "text/plain": [
       "<Figure size 432x288 with 1 Axes>"
      ]
     },
     "metadata": {
      "needs_background": "light"
     },
     "output_type": "display_data"
    }
   ],
   "source": [
    "reg = Regression(.01, 0.02, 15)\n",
    "reg.fit(X=X, y=y, plot=True)"
   ]
  }
 ],
 "metadata": {
  "kernelspec": {
   "display_name": "Python 3",
   "language": "python",
   "name": "python3"
  },
  "language_info": {
   "codemirror_mode": {
    "name": "ipython",
    "version": 3
   },
   "file_extension": ".py",
   "mimetype": "text/x-python",
   "name": "python",
   "nbconvert_exporter": "python",
   "pygments_lexer": "ipython3",
   "version": "3.7.6"
  }
 },
 "nbformat": 4,
 "nbformat_minor": 1
}
