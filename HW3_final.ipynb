{
 "cells": [
  {
   "cell_type": "markdown",
   "metadata": {
    "id": "mlpmUI5P2Pfh"
   },
   "source": [
    "\n",
    "# <p style=\"text-align: center;\">MIS 382N: ADVANCED PREDICTIVE MODELING - MSBA</p>\n",
    "# <p style=\"text-align: center;\">Assignment 3</p>\n",
    "## <p style=\"text-align: center;\">Total points: 85 </p>\n",
    "## <p style=\"text-align: center;\">Due: October 19, submitted via Canvas by 11:59 pm</p>\n",
    "\n",
    "Your homework should be written in a **Jupyter notebook**. You may work in groups of two if you wish. Your partner needs to be from the same section. Only one student per team needs to submit the assignment on Canvas.  But be sure to include name and UTEID for both students.  Homework groups will be created and managed through Canvas, so please do not arbitrarily change your homework group. If you do change, let the TA know. \n",
    "\n",
    "Also, please make sure your code runs and the graphics (and anything else) are displayed in your notebook before submitting. (%matplotlib inline)\n",
    "\n",
    "### Name(s)\n",
    "1. Jocelyne Walker (EID- jvw359)\n",
    "2. Shruti Kolhatkar (EID-sgk637)"
   ]
  },
  {
   "cell_type": "markdown",
   "metadata": {
    "id": "AQUCvU762Pfj"
   },
   "source": [
    "# Question 1 - MLP Regressor (15 pts) \n",
    "In this question, you will explore the application of Multi-layer Perceptron (MLP) regression using sklearn package in Python; http://scikit-learn.org/stable/modules/generated/sklearn.neural_network.MLPRegressor.html.\n",
    "\n",
    "The following code will pre-process the data and split the data into training and test sets using train_test_split with random state 30 and test_size = 0.25.\n",
    "\n",
    "The dataset is loaded from q2_data.csv which contains features of engine and the predictor varialble is \"mpg\". The features are:\n",
    "* cylinders \n",
    "* displacement\n",
    "* horsepower\n",
    "* weight\n",
    "* acceleration"
   ]
  },
  {
   "cell_type": "code",
   "execution_count": null,
   "metadata": {
    "id": "OAVg4KRk2Pfl",
    "outputId": "e3cec6b8-5a2f-43b6-d5b4-85b5ad82331f"
   },
   "outputs": [
    {
     "name": "stdout",
     "output_type": "stream",
     "text": [
      "(294, 5) (294,) (98, 5) (98,)\n"
     ]
    }
   ],
   "source": [
    "import pandas as pd\n",
    "import numpy as np\n",
    "from sklearn.model_selection import (train_test_split,KFold)\n",
    "from sklearn.metrics import mean_squared_error\n",
    "from sklearn.neural_network import MLPRegressor\n",
    "from sklearn.preprocessing import StandardScaler\n",
    "import matplotlib.pyplot as plt\n",
    "import glob\n",
    "%matplotlib inline\n",
    "\n",
    "\n",
    "df = pd.read_csv('q2_data.csv') \n",
    "df.dropna(inplace=True)\n",
    "df.columns\n",
    "y = df['mpg'].values\n",
    "X = df.drop(['mpg'], axis = 1)\n",
    "X_train, X_test, y_train, y_test = train_test_split(X,y,test_size = 0.25, random_state=30)\n",
    "\n",
    "print(X_train.shape, y_train.shape, X_test.shape, y_test.shape)"
   ]
  },
  {
   "cell_type": "code",
   "execution_count": null,
   "metadata": {
    "id": "TbXsXkxj2Pfw",
    "outputId": "79e9c2ec-3b42-4fc3-dc69-173c5142caf2"
   },
   "outputs": [
    {
     "data": {
      "text/html": [
       "<div>\n",
       "<style scoped>\n",
       "    .dataframe tbody tr th:only-of-type {\n",
       "        vertical-align: middle;\n",
       "    }\n",
       "\n",
       "    .dataframe tbody tr th {\n",
       "        vertical-align: top;\n",
       "    }\n",
       "\n",
       "    .dataframe thead th {\n",
       "        text-align: right;\n",
       "    }\n",
       "</style>\n",
       "<table border=\"1\" class=\"dataframe\">\n",
       "  <thead>\n",
       "    <tr style=\"text-align: right;\">\n",
       "      <th></th>\n",
       "      <th>mpg</th>\n",
       "      <th>cylinders</th>\n",
       "      <th>displacement</th>\n",
       "      <th>horsepower</th>\n",
       "      <th>weight</th>\n",
       "      <th>acceleration</th>\n",
       "    </tr>\n",
       "  </thead>\n",
       "  <tbody>\n",
       "    <tr>\n",
       "      <th>0</th>\n",
       "      <td>18.0</td>\n",
       "      <td>8</td>\n",
       "      <td>307.0</td>\n",
       "      <td>130.0</td>\n",
       "      <td>3504</td>\n",
       "      <td>12.0</td>\n",
       "    </tr>\n",
       "    <tr>\n",
       "      <th>1</th>\n",
       "      <td>15.0</td>\n",
       "      <td>8</td>\n",
       "      <td>350.0</td>\n",
       "      <td>165.0</td>\n",
       "      <td>3693</td>\n",
       "      <td>11.5</td>\n",
       "    </tr>\n",
       "    <tr>\n",
       "      <th>2</th>\n",
       "      <td>18.0</td>\n",
       "      <td>8</td>\n",
       "      <td>318.0</td>\n",
       "      <td>150.0</td>\n",
       "      <td>3436</td>\n",
       "      <td>11.0</td>\n",
       "    </tr>\n",
       "    <tr>\n",
       "      <th>3</th>\n",
       "      <td>16.0</td>\n",
       "      <td>8</td>\n",
       "      <td>304.0</td>\n",
       "      <td>150.0</td>\n",
       "      <td>3433</td>\n",
       "      <td>12.0</td>\n",
       "    </tr>\n",
       "    <tr>\n",
       "      <th>4</th>\n",
       "      <td>17.0</td>\n",
       "      <td>8</td>\n",
       "      <td>302.0</td>\n",
       "      <td>140.0</td>\n",
       "      <td>3449</td>\n",
       "      <td>10.5</td>\n",
       "    </tr>\n",
       "  </tbody>\n",
       "</table>\n",
       "</div>"
      ],
      "text/plain": [
       "    mpg  cylinders  displacement  horsepower  weight  acceleration\n",
       "0  18.0          8         307.0       130.0    3504          12.0\n",
       "1  15.0          8         350.0       165.0    3693          11.5\n",
       "2  18.0          8         318.0       150.0    3436          11.0\n",
       "3  16.0          8         304.0       150.0    3433          12.0\n",
       "4  17.0          8         302.0       140.0    3449          10.5"
      ]
     },
     "execution_count": 7,
     "metadata": {
      "tags": []
     },
     "output_type": "execute_result"
    }
   ],
   "source": [
    "df.head()"
   ]
  },
  {
   "cell_type": "markdown",
   "metadata": {
    "id": "kqiZF0Ya2Pf3"
   },
   "source": [
    "We also want to use [StandardScaler](http://scikit-learn.org/stable/modules/generated/sklearn.preprocessing.StandardScaler.html). Instead of fitting a model on the original data, we use StandardScaler to center each feature ([Example](http://scikit-learn.org/stable/auto_examples/applications/plot_prediction_latency.html#sphx-glr-auto-examples-applications-plot-prediction-latency-py)). Also remember that when we have training and testing data, we fit preprocessing parameters on training data and apply them to all testing data. You should scale only the features (independent variables), not the target variable y.\n",
    "\n",
    "\n",
    "   \n",
    "1) (**5pts**) Now, use the parameters for MLP Regressor as below to train a MLPRegressor models on the entire training set and report the RMSE score for both the trainnig and testing sets (again, use StandardScaler) for the different number of hidden units.\n",
    "\n",
    "   (a) *hidden_layer_sizes = (5,)* \n",
    "   \n",
    "   (b) *hidden_layer_sizes = (15,)*\n",
    "   \n",
    "   (c) *hidden_layer_sizes = (50,)*\n",
    "\n",
    "    activation = 'tanh', solver = 'sgd', learning_rate='constant', random_state=42, batch_size= 20,       learning_rate_init = 0.005\n",
    "    \n",
    "   Which of the three models ((a)-(c)) performs the best? Briefly analyze and discuss the results, commenting on the number of hidden units.\n",
    "\n",
    "\n",
    "2) (**5pts**) MLPRegressor has a built-in attribute *loss\\_curve\\_* which returns the loss at each epoch (misleadingly referred to as \"iteration\" in scikit documentation, though they use epoch in the actual code!). For example, if your model is named as *my_model* you can call it as *my\\_model.loss\\_curve\\_* ([example](http://scikit-learn.org/stable/auto_examples/neural_networks/plot_mlp_training_curves.html#sphx-glr-auto-examples-neural-networks-plot-mlp-training-curves-py)). Plot three curves using the following three conditions (a, b, c) in one figure, where *X-axis* is epoch  number and *Y-axis* is squared root of *loss\\_curve\\_*:\n",
    "\n",
    "   (a) *hidden_layer_sizes = (5,)* \n",
    "   \n",
    "   (b) *hidden_layer_sizes = (15,)*\n",
    "   \n",
    "   (c) *hidden_layer_sizes = (50,)* \n",
    "\n",
    "   \n",
    "3) (**5pts**) Now, use the parameters for MLP Regressor as below to train a MLPRegressor models on the entire training set for different batch size. \n",
    "\n",
    "    activation = 'tanh', solver = 'sgd', learning_rate='constant', random_state=42,learning_rate_init = 0.005 , hidden_layer_sizes = (15,)\n",
    "   \n",
    "   Plot three different figures for the three batch size, where *X-axis* is epoch  number and *Y-axis* is squared root of *loss\\_curve\\_*: \n",
    "\n",
    "   (a) *batch_size = 1* \n",
    "   \n",
    "   (b) *batch_size = 20*  \n",
    "   \n",
    "   (c) *batch_size = 2000* \n",
    "     \n",
    "   **Compare the three plots obtained comment on the gradient updates. What do you understand about the difference between batch_size = 1, 20 and 2000.**"
   ]
  },
  {
   "cell_type": "markdown",
   "metadata": {
    "id": "xakZTcoM2Pf5"
   },
   "source": [
    "# Answer 1"
   ]
  },
  {
   "cell_type": "markdown",
   "metadata": {
    "id": "tLNhGkhG2Pf7"
   },
   "source": [
    "**Question 1**"
   ]
  },
  {
   "cell_type": "code",
   "execution_count": null,
   "metadata": {
    "id": "vGqqJuEf2Pf9",
    "outputId": "0552acbf-13a9-4c71-829e-f6cc11849103"
   },
   "outputs": [
    {
     "name": "stdout",
     "output_type": "stream",
     "text": [
      "A Train RMSE: 3.3601289540161896\n",
      "A Test RMSE: 4.7984130428905605\n",
      "\n",
      "B Train RMSE: 3.019913013712589\n",
      "B Test RMSE: 4.5517066936252295\n",
      "\n",
      "C Train RMSE: 2.940964154111819\n",
      "C Test RMSE: 4.7726684612395305\n"
     ]
    }
   ],
   "source": [
    "X_scaler = StandardScaler()\n",
    "X_train = X_scaler.fit_transform(X_train)\n",
    "X_test = X_scaler.transform(X_test)\n",
    "\n",
    "regr_a = MLPRegressor(hidden_layer_sizes = (5,),\n",
    "                      activation = 'tanh', \n",
    "                      solver = 'sgd', \n",
    "                      learning_rate= 'constant', \n",
    "                      random_state=42, \n",
    "                      batch_size= 20,       \n",
    "                      learning_rate_init = 0.005).fit(X_train, y_train)\n",
    "print('A Train RMSE:', np.sqrt(mean_squared_error(y_train, regr_a.predict(X_train))))\n",
    "print('A Test RMSE:', np.sqrt(mean_squared_error(y_test, regr_a.predict(X_test))))\n",
    "\n",
    "regr_b = MLPRegressor(hidden_layer_sizes = (15,),\n",
    "                      activation = 'tanh', \n",
    "                      solver = 'sgd', \n",
    "                      learning_rate= 'constant', \n",
    "                      random_state=42, \n",
    "                      batch_size= 20,       \n",
    "                      learning_rate_init = 0.005).fit(X_train, y_train)\n",
    "print('\\nB Train RMSE:', np.sqrt(mean_squared_error(y_train, regr_b.predict(X_train))))\n",
    "print('B Test RMSE:', np.sqrt(mean_squared_error(y_test, regr_b.predict(X_test))))\n",
    "\n",
    "regr_c = MLPRegressor(hidden_layer_sizes = (50,),\n",
    "                      activation = 'tanh', \n",
    "                      solver = 'sgd', \n",
    "                      learning_rate= 'constant', \n",
    "                      random_state=42, \n",
    "                      batch_size= 20,       \n",
    "                      learning_rate_init = 0.005).fit(X_train, y_train)\n",
    "print('\\nC Train RMSE:', np.sqrt(mean_squared_error(y_train, regr_c.predict(X_train))))\n",
    "print('C Test RMSE:', np.sqrt(mean_squared_error(y_test, regr_c.predict(X_test))))"
   ]
  },
  {
   "cell_type": "markdown",
   "metadata": {
    "id": "NMreBM8Z2PgE"
   },
   "source": [
    "**Which of the three models ((a)-(c)) performs the best? Briefly analyze and discuss the results, commenting on the number of hidden units.**\n",
    "\n",
    "Model B performs the best of the three models. It results in the lowest Testing RMSE with a value of 4.55. When we increase the number of hidden units to 50, this overfits the data to the training set, reducing training RMSE, but increasing the testing RMSE. Thus, the model B with 15 hidden layer units is the best model."
   ]
  },
  {
   "cell_type": "markdown",
   "metadata": {
    "id": "viJ5EXhw2PgG"
   },
   "source": [
    "**Question 2:** Plot the three curves"
   ]
  },
  {
   "cell_type": "code",
   "execution_count": null,
   "metadata": {
    "id": "7CU6L99o2PgH",
    "outputId": "db5c95be-8b0f-4680-be16-19f569bd3bc8"
   },
   "outputs": [
    {
     "data": {
      "text/plain": [
       "<matplotlib.legend.Legend at 0x26dd9496d88>"
      ]
     },
     "execution_count": 9,
     "metadata": {
      "tags": []
     },
     "output_type": "execute_result"
    },
    {
     "data": {
      "image/png": "[encoded data removed]",
      "text/plain": [
       "<Figure size 432x288 with 1 Axes>"
      ]
     },
     "metadata": {
      "needs_background": "light",
      "tags": []
     },
     "output_type": "display_data"
    }
   ],
   "source": [
    "plt.plot(np.sqrt(regr_a.loss_curve_))\n",
    "plt.plot(np.sqrt(regr_b.loss_curve_))\n",
    "plt.plot(np.sqrt(regr_c.loss_curve_))\n",
    "\n",
    "plt.xlabel('Epoch number')\n",
    "plt.ylabel('Square root of loss curve')\n",
    "plt.legend(labels = ['a','b','c'])"
   ]
  },
  {
   "cell_type": "markdown",
   "metadata": {
    "id": "80ZMINSq2PgM"
   },
   "source": [
    "**Question 3**"
   ]
  },
  {
   "cell_type": "code",
   "execution_count": null,
   "metadata": {
    "id": "Phqvj8ps2PgO",
    "outputId": "3617dbfc-85a6-4d19-dc00-aea42685c4d5"
   },
   "outputs": [
    {
     "name": "stderr",
     "output_type": "stream",
     "text": [
      "C:\\Users\\jocel\\anaconda3\\lib\\site-packages\\sklearn\\neural_network\\_multilayer_perceptron.py:352: UserWarning: Got `batch_size` less than 1 or larger than sample size. It is going to be clipped\n",
      "  warnings.warn(\"Got `batch_size` less than 1 or larger than \"\n"
     ]
    },
    {
     "data": {
      "image/png": "[encoded data removed]",
      "text/plain": [
       "<Figure size 432x288 with 1 Axes>"
      ]
     },
     "metadata": {
      "needs_background": "light",
      "tags": []
     },
     "output_type": "display_data"
    },
    {
     "data": {
      "image/png": "[encoded data removed]",
      "text/plain": [
       "<Figure size 432x288 with 1 Axes>"
      ]
     },
     "metadata": {
      "needs_background": "light",
      "tags": []
     },
     "output_type": "display_data"
    },
    {
     "data": {
      "image/png": "[encoded data removed]",
      "text/plain": [
       "<Figure size 432x288 with 1 Axes>"
      ]
     },
     "metadata": {
      "needs_background": "light",
      "tags": []
     },
     "output_type": "display_data"
    }
   ],
   "source": [
    "regr_a3 = MLPRegressor(batch_size = 1,\n",
    "                       activation = 'tanh', \n",
    "                       solver = 'sgd', \n",
    "                       learning_rate='constant', \n",
    "                       random_state=42,\n",
    "                       learning_rate_init = 0.005 , \n",
    "                       hidden_layer_sizes = (15,)).fit(X_train, y_train)\n",
    "\n",
    "regr_b3 = MLPRegressor(batch_size = 20,\n",
    "                       activation = 'tanh', \n",
    "                       solver = 'sgd', \n",
    "                       learning_rate='constant', \n",
    "                       random_state=42,\n",
    "                       learning_rate_init = 0.005 , \n",
    "                       hidden_layer_sizes = (15,)).fit(X_train, y_train)\n",
    "\n",
    "regr_c3 = MLPRegressor(batch_size = 2000,\n",
    "                       activation = 'tanh', \n",
    "                       solver = 'sgd', \n",
    "                       learning_rate='constant', \n",
    "                       random_state=42,\n",
    "                       learning_rate_init = 0.005 , \n",
    "                       hidden_layer_sizes = (15,)).fit(X_train, y_train)\n",
    "\n",
    "plt.plot(np.sqrt(regr_a3.loss_curve_))\n",
    "plt.title('A - Batch Size = 1')\n",
    "plt.xlabel('Epoch number')\n",
    "plt.ylabel('Square root of loss curve')\n",
    "plt.show()\n",
    "\n",
    "plt.plot(np.sqrt(regr_b3.loss_curve_))\n",
    "plt.title('B - Batch Size = 20')\n",
    "plt.xlabel('Epoch number')\n",
    "plt.ylabel('Square root of loss curve')\n",
    "plt.show()\n",
    "\n",
    "plt.plot(np.sqrt(regr_c3.loss_curve_))\n",
    "plt.title('C - Batch Size = 2000')\n",
    "plt.xlabel('Epoch number')\n",
    "plt.ylabel('Square root of loss curve')\n",
    "plt.show()"
   ]
  },
  {
   "cell_type": "markdown",
   "metadata": {
    "id": "FuXw8mJC2PgY"
   },
   "source": [
    "**Compare the three plots obtained comment on the gradient updates. What do you understand about the difference between batch_size = 1, 20 and 2000?**\n",
    "\n",
    "Batch size helps us understand the speed and stability of the learning process. With the batch size of 1, we see that the learning process is fast but unstable as it oscillates after the first epoch. The batch size of 20 appears to be the best fit, as it learns quickly and then flattens out after about epoch 5. The large batch size of 2000 results in a much slower learning process. It does not flatten until epoch 10 and then increases again between epochs 10 and 20. "
   ]
  },
  {
   "cell_type": "markdown",
   "metadata": {
    "id": "mxleHrmY2PgZ"
   },
   "source": [
    "# Question 2: Tensor Playground (15 points)\n",
    "Visit https://playground.tensorflow.org for this problem\n",
    "\n",
    "From the far right, select \"Classification\" as the problem type, and select the data set on the top right (alternate colored squares).\n",
    "\n",
    "Use these settings as the DEFAULT settings for all subquestions: test/training ratio = 50%, Noise = 0, Batch Size = 30, learning rate = 0.03, activation = tanh, one hidden layer with 2 neurons, input as $X_1$, $X_2$ and no Regularization.\n",
    "\n",
    "1) Use the DEFAULT setting and run two experiments - one using Tanh as the activation function and one using the linear activation function. Report the train, test losses for both these experiments at the end of 1000 epochs. What qualitative difference do you observe in the decision boundaries obtained? Why? (**4 pts**)\n",
    "\n",
    "We will now study the effect of certain variations in the network structure or training, keeping all other aspects the same as in the default configuration specified above, and with tanh as the activation for hidden units.\n",
    "\n",
    "2) Effect of number of hidden units: Go back to DEFAULT settings and report the train, test losses at the end of 1000 epochs for 4 and 8 neurons in the hidden layer (2 pairs of results). What do you observe regarding the decision boundary as the number of neurons increases? Why? (**4 pts**)\n",
    "\n",
    "3) Effect of learning rate and number of epochs: Go back to DEFAULT settings and set the activation to be Relu and have four neurons in the hidden layer. Report the train, test losses at the end of 100 epochs and 1000 epochs for learning rates of 10, 0.1, 0.01 and 0.001 (8 pairs of results). What do you observe in the loss curves? Explain. (**4 pts**)\n",
    "\n",
    "4) Go back to DEFAULT settings. Play around with any of the other hyperparameters, network architectures and input features (such as $\\sin(X_1), X_1^2$ etc.) and report the best train/test loss you could get (test loss should be at most 0.06). Attach the screenshot from Tensor playground for the same (show your full network, output and parameters). Briefly justify your decisions, and comment on difficulties/tradeoffs, what helps/what doesn't,etc. (**3 pts**)"
   ]
  },
  {
   "cell_type": "markdown",
   "metadata": {
    "id": "OlZYuaD22Pgd"
   },
   "source": [
    "# Answer 2"
   ]
  },
  {
   "cell_type": "markdown",
   "metadata": {
    "id": "41eRanQL2Pgh"
   },
   "source": [
    "**Question 1**\n",
    "\n",
    "**Experiment 1:** Tanh as activation function\n",
    "\n",
    "Train loss after 1000 epochs: **0.191**\n",
    "\n",
    "Test loss after 1000 epochs: **0.201**\n",
    "\n",
    "**Experiment 2:** Linear activation function\n",
    "\n",
    "Train loss after 1000 epochs: **0.495**\n",
    "\n",
    "Test loss after 1000 epochs: **0.506**\n",
    "\n",
    "In the linear activation function, we see that the decision boundary is a line through the diagonal of the output chart. This is because we used a linear activation function, so we do not have a universal approximator. It's just equivalent to a linear regression model. The colors are also much softer, indicating that the weight values are close to 0. \n",
    "\n",
    "With the tanh activation function, we see the decision boundary takes a non linear form with two nearly parallel lines forming the diagonal boundary between the blue and orange points. This is because the tanh function can act as a universal approximator to better estimate the boundaries between the two types of points. The colors are stronger, indicating that the weight values are closer to -1 and 1. \n",
    "\n",
    "\n",
    "**Question 2**\n",
    "\n",
    "**Experiment 1:** 4 neurons in the hidden layer\n",
    "\n",
    "Train loss after 1000 epochs: **0.015**\n",
    "\n",
    "Test loss after 1000 epochs: **0.018**\n",
    "\n",
    "**Experiment 2:** 8 neurons in the hidden layer\n",
    "\n",
    "Train loss after 1000 epochs: **0.009**\n",
    "\n",
    "Test loss after 1000 epochs: **0.013**\n",
    "\n",
    "The decision boundary becomes more precise as the number of neurons in the hidden layer increases. This means that having more neurons in the hidden layer will lead to a better fitting of the training data. However, once we have too many neurons in the hidden layer, we may overfit the training data. Thus, when we went from 2 to 4 to 8 neurons in the hidden layer, our model better fit the training data. This is because they allow us to fit a wider variety of possible outputs. The 8 neuron network does not overfit the model as test loss continued to fall.\n",
    "\n",
    "\n",
    "**Question 3** ReLU and 4 neurons in hidden layer\n",
    "\n",
    "**Experiment 1:** Learning rate 10\n",
    "\n",
    "Train loss after 100 epochs: **0.528**\n",
    "\n",
    "Test loss after 100 epochs: **0.544**\n",
    "\n",
    "Train loss after 1000 epochs: **0.528**\n",
    "\n",
    "Test loss after 1000 epochs: **0.544**\n",
    "\n",
    "**Experiment 2:** Learning rate 0.1\n",
    "\n",
    "Train loss after 100 epochs: **0.008**\n",
    "\n",
    "Test loss after 100 epochs: **0.009**\n",
    "\n",
    "Train loss after 1000 epochs: **0.000**\n",
    "\n",
    "Test loss after 1000 epochs: **0.003**\n",
    "\n",
    "**Experiment 3:** Learning rate 0.01\n",
    "\n",
    "Train loss after 100 epochs: **0.098**\n",
    "\n",
    "Test loss after 100 epochs: **0.098**\n",
    "\n",
    "Train loss after 1000 epochs: **0.009**\n",
    "\n",
    "Test loss after 1000 epochs: **0.017**\n",
    "\n",
    "**Experiment 4:** Learning rate 0.001\n",
    "\n",
    "Train loss after 100 epochs: **0.410**\n",
    "\n",
    "Test loss after 100 epochs: **0.413**\n",
    "\n",
    "Train loss after 1000 epochs: **0.132**\n",
    "\n",
    "Test loss after 1000 epochs: **0.117**\n",
    "\n",
    "The loss curves show that that as learning rate is smaller, our loss curves get \"slower\" and flatten out. With the very low learning rate, the train and test loss do not fall sharply after 100 epochs. Instead, they slowly flatten out as the number of epochs increases. On the other hand, when the learning rate is very high, at 10, the train and test loss fall within 100 epochs and then get \"stuck\" at that value for all remaining epochs. They do not coverge to the optimal solution. The best learning rates were in the middle in this case. The train and test loss fall to a reasonable value within the first 100 epochs, and then continue to fall along the asymptote for the values between 100-1000 epochs. \n",
    "\n",
    "\n",
    "\n",
    "**Question 4**\n",
    "\n",
    "At the DEFAULT settings, when we added  $\\sin(X_1)$ and  $\\sin(X_2)$, the model did quite well.\n",
    "\n",
    "Train loss: **0.002**\n",
    "\n",
    "Test loss: **0.008**\n",
    "\n",
    "However, the best result occurred with features $X_1$, $X_2$, and $X_1 X_2$. \n",
    "\n",
    "Train loss: **0.001** and test loss: **0.004**\n",
    "\n",
    "We decided to keep a learning rate of 0.03 because it did not lead to non-covergence, but also solved adequately quickly. Similarly, the tanh activation function is an adequate universal approximator. We kept two neurons in the hidden layer, but added another feature of $X_1 X_2$ becaise this allowed our network to more precisely map to the decision boundaries. Adding more features may help reduce the train loss, but it can also lead to overfitting and an overly complex model. This is why we decided to just include the one additional feature to result in still sufficient training and testing loss reduction."
   ]
  },
  {
   "cell_type": "markdown",
   "metadata": {
    "id": "wETj73BN2Pgj"
   },
   "source": [
    "<img src=\"q2part4.JPG\">"
   ]
  },
  {
   "cell_type": "markdown",
   "metadata": {
    "id": "CQkM_R_f2Pgk"
   },
   "source": [
    "# Question 3 - Feature Selection (20 pts)\n",
    "\n",
    "In this question, we will explore the importance of feature selection, You can use the below code to load the dataset \"zoo.csv\". This dataset contains a set of features for different animals and the output is class_type \n",
    "corresponding to the features. The details of class_type is present in class.csv for your reference.\n",
    "\n",
    "1. Plot the correlation matrix. The resulting correlation plot should be (n_features * n_features) matrix. List the top 5 most positively correlated features with class_type. (**3pts**)\n",
    "\n",
    "2. List the top 5 most negatively correlated features with class_type. (**3pts**)\n",
    "\n",
    "3. Use https://scikit-learn.org/stable/modules/generated/sklearn.feature_selection.RFE.html#sklearn.feature_selection.RFE to perform feature selection with estimator = LogisticRegression(max_iter=1000) estimator. List the top 5 features selected from RFE.(**2pts**)\n",
    "\n",
    "* Create a train_test split of 80:20(train:test) with random state = 50\n",
    "\n",
    "* We need to use [StandardScaler](http://scikit-learn.org/stable/modules/generated/sklearn.preprocessing.StandardScaler.html). Instead of fitting a model on the original data, we use StandardScaler to center each feature ([Example](http://scikit-learn.org/stable/auto_examples/applications/plot_prediction_latency.html#sphx-glr-auto-examples-applications-plot-prediction-latency-py)). Also remember that when we have training and testing data, we fit preprocessing parameters on training data and apply them to all testing data. You should scale only the features (independent variables), not the target variable y.\n",
    "\n",
    "4. Train a MLP Regressor with train data and report the ${R^2}$ score on the test set for each of the following, \n",
    "\n",
    "   a) Model trained with top 5 most positvely correlated features from part 1\n",
    "   \n",
    "   b) Model trained with top 5 most negatively correlated features from part 2\n",
    "   \n",
    "   c) Model trained with five features selected by RFE from part 3\n",
    "   \n",
    "   d) Finally train a MLP Regressor on the entire training data with the entire orignal features.Use the default values for MLPRegressor as below(**8pts**)\n",
    "\n",
    "    MLPRegressor(max_iter = 1000,random_state=1)\n",
    "\n",
    "5. Explain your results based on your understanding of feature selection and the ${R^2}$ score.  (**4pts**) "
   ]
  },
  {
   "cell_type": "code",
   "execution_count": null,
   "metadata": {
    "id": "7YL7FtJN2Pgm"
   },
   "outputs": [],
   "source": [
    "df = pd.read_csv(\"zoo.csv\")\n",
    "df.columns\n",
    "y = df['class_type'].values\n",
    "X = df.drop(['class_type','animal_name'], axis = 1)\n",
    "\n",
    "class_df = pd.read_csv(\"class.csv\")"
   ]
  },
  {
   "cell_type": "markdown",
   "metadata": {
    "id": "Hzz87A8R2Pgu"
   },
   "source": [
    "# Answer 3"
   ]
  },
  {
   "cell_type": "markdown",
   "metadata": {
    "id": "rXmoGSF22Pgw"
   },
   "source": [
    "**Question 1** - Correlation matrix"
   ]
  },
  {
   "cell_type": "code",
   "execution_count": null,
   "metadata": {
    "id": "ulTAyWE82Pgx",
    "outputId": "d88e437a-ef9e-4c3d-a0cb-58bab185005d"
   },
   "outputs": [
    {
     "name": "stdout",
     "output_type": "stream",
     "text": [
      "                hair  feathers      eggs      milk  airborne   aquatic  \\\n",
      "hair        1.000000 -0.427851 -0.817382  0.878503 -0.198431 -0.473554   \n",
      "feathers   -0.427851  1.000000  0.419248 -0.410761  0.656553 -0.058552   \n",
      "eggs       -0.817382  0.419248  1.000000 -0.938848  0.376646  0.376244   \n",
      "milk        0.878503 -0.410761 -0.938848  1.000000 -0.366765 -0.362613   \n",
      "airborne   -0.198431  0.656553  0.376646 -0.366765  1.000000 -0.172638   \n",
      "aquatic    -0.473554 -0.058552  0.376244 -0.362613 -0.172638  1.000000   \n",
      "predator   -0.154769 -0.104430  0.011605 -0.029721 -0.295181  0.375978   \n",
      "toothed     0.492531 -0.613631 -0.642150  0.628168 -0.594311  0.053150   \n",
      "backbone    0.191681  0.231403 -0.340420  0.384958 -0.104718  0.022463   \n",
      "breathes    0.441149  0.254588 -0.382777  0.423527  0.286039 -0.637506   \n",
      "venomous   -0.104245 -0.145739  0.098689 -0.242449  0.008528  0.087915   \n",
      "fins       -0.280313 -0.223541  0.164796 -0.156328 -0.251157  0.604492   \n",
      "legs        0.394009 -0.206686 -0.224918  0.214196  0.043712 -0.360638   \n",
      "tail        0.048973  0.292569 -0.221090  0.210026  0.009482 -0.034642   \n",
      "domestic    0.207208  0.031586 -0.155610  0.163928  0.063274 -0.224308   \n",
      "catsize     0.455020 -0.135934 -0.514650  0.574906 -0.349768 -0.111866   \n",
      "class_type -0.562384 -0.197520  0.661825 -0.723683  0.022677  0.326639   \n",
      "\n",
      "            predator   toothed  backbone  breathes  venomous      fins  \\\n",
      "hair       -0.154769  0.492531  0.191681  0.441149 -0.104245 -0.280313   \n",
      "feathers   -0.104430 -0.613631  0.231403  0.254588 -0.145739 -0.223541   \n",
      "eggs        0.011605 -0.642150 -0.340420 -0.382777  0.098689  0.164796   \n",
      "milk       -0.029721  0.628168  0.384958  0.423527 -0.242449 -0.156328   \n",
      "airborne   -0.295181 -0.594311 -0.104718  0.286039  0.008528 -0.251157   \n",
      "aquatic     0.375978  0.053150  0.022463 -0.637506  0.087915  0.604492   \n",
      "predator    1.000000  0.129452  0.051022 -0.262931  0.115391  0.190302   \n",
      "toothed     0.129452  1.000000  0.575085 -0.065690 -0.062344  0.364292   \n",
      "backbone    0.051022  0.575085  1.000000  0.207666 -0.246611  0.209499   \n",
      "breathes   -0.262931 -0.065690  0.207666  1.000000 -0.120752 -0.617219   \n",
      "venomous    0.115391 -0.062344 -0.246611 -0.120752  1.000000 -0.033956   \n",
      "fins        0.190302  0.364292  0.209499 -0.617219 -0.033956  1.000000   \n",
      "legs       -0.099723 -0.193476 -0.432856  0.369868  0.022964 -0.605652   \n",
      "tail        0.018947  0.310368  0.731762  0.088952 -0.162724  0.204349   \n",
      "domestic   -0.309794  0.069430  0.101733  0.124068 -0.003252 -0.093887   \n",
      "catsize     0.144790  0.344010  0.356976  0.204125 -0.183748  0.031705   \n",
      "class_type  0.061179 -0.471527 -0.828845 -0.519308  0.321476  0.099430   \n",
      "\n",
      "                legs      tail  domestic   catsize  class_type  \n",
      "hair        0.394009  0.048973  0.207208  0.455020   -0.562384  \n",
      "feathers   -0.206686  0.292569  0.031586 -0.135934   -0.197520  \n",
      "eggs       -0.224918 -0.221090 -0.155610 -0.514650    0.661825  \n",
      "milk        0.214196  0.210026  0.163928  0.574906   -0.723683  \n",
      "airborne    0.043712  0.009482  0.063274 -0.349768    0.022677  \n",
      "aquatic    -0.360638 -0.034642 -0.224308 -0.111866    0.326639  \n",
      "predator   -0.099723  0.018947 -0.309794  0.144790    0.061179  \n",
      "toothed    -0.193476  0.310368  0.069430  0.344010   -0.471527  \n",
      "backbone   -0.432856  0.731762  0.101733  0.356976   -0.828845  \n",
      "breathes    0.369868  0.088952  0.124068  0.204125   -0.519308  \n",
      "venomous    0.022964 -0.162724 -0.003252 -0.183748    0.321476  \n",
      "fins       -0.605652  0.204349 -0.093887  0.031705    0.099430  \n",
      "legs        1.000000 -0.348295  0.073931  0.068791    0.131693  \n",
      "tail       -0.348295  1.000000  0.023434  0.243277   -0.631830  \n",
      "domestic    0.073931  0.023434  1.000000  0.020073   -0.181043  \n",
      "catsize     0.068791  0.243277  0.020073  1.000000   -0.521030  \n",
      "class_type  0.131693 -0.631830 -0.181043 -0.521030    1.000000  \n"
     ]
    },
    {
     "data": {
      "image/png": "[encoded data removed]",
      "text/plain": [
       "<Figure size 432x288 with 2 Axes>"
      ]
     },
     "metadata": {
      "needs_background": "light",
      "tags": []
     },
     "output_type": "display_data"
    },
    {
     "name": "stdout",
     "output_type": "stream",
     "text": [
      "Top 5 Most Positively Correlated Features with Class Type\n",
      "eggs        0.661825\n",
      "aquatic     0.326639\n",
      "venomous    0.321476\n",
      "legs        0.131693\n",
      "fins        0.099430\n",
      "Name: class_type, dtype: float64\n"
     ]
    }
   ],
   "source": [
    "import seaborn as sn\n",
    "import matplotlib.pyplot as plt\n",
    "\n",
    "replace = {1:1,2:1,3:1,4:1,5:1,6:0,7:0}\n",
    "\n",
    "y_new = pd.Series([replace.get(x,x) for x in y], name = \"class_type\")\n",
    "\n",
    "df_3_1 = pd.merge(X, y_new, right_index = True, left_index = True)\n",
    "df_3_1.head()\n",
    "\n",
    "corrMatrix = df.corr()\n",
    "print(corrMatrix)\n",
    "\n",
    "sn.heatmap(corrMatrix, annot=False)\n",
    "plt.show()\n",
    "\n",
    "print(\"Top 5 Most Positively Correlated Features with Class Type\")\n",
    "print(corrMatrix['class_type'].sort_values(ascending=False)[1:6])"
   ]
  },
  {
   "cell_type": "code",
   "execution_count": null,
   "metadata": {
    "id": "4FUP98Dp2Pg1",
    "outputId": "46da5c93-6714-4063-eb2e-2f72ee158970"
   },
   "outputs": [
    {
     "name": "stdout",
     "output_type": "stream",
     "text": [
      "Top 5 Most Negatively Correlated Features with Class Type\n",
      "backbone   -0.828845\n",
      "milk       -0.723683\n",
      "tail       -0.631830\n",
      "hair       -0.562384\n",
      "catsize    -0.521030\n",
      "Name: class_type, dtype: float64\n"
     ]
    }
   ],
   "source": [
    "print(\"Top 5 Most Negatively Correlated Features with Class Type\")\n",
    "print(corrMatrix['class_type'].sort_values(ascending=True)[0:5])"
   ]
  },
  {
   "cell_type": "code",
   "execution_count": null,
   "metadata": {
    "id": "WrxLLcHd2Pg6",
    "outputId": "e80cac13-4609-4029-febb-e0aca4ed6392"
   },
   "outputs": [
    {
     "name": "stdout",
     "output_type": "stream",
     "text": [
      "Top 5 features selected from RFE\n",
      "       name  ranking\n",
      "1  feathers        1\n",
      "3      milk        1\n",
      "7   toothed        1\n",
      "8  backbone        1\n",
      "9  breathes        1\n"
     ]
    }
   ],
   "source": [
    "from sklearn.feature_selection import RFE\n",
    "from sklearn.linear_model import LogisticRegression\n",
    "\n",
    "estimator = LogisticRegression(max_iter=1000)\n",
    "selector = RFE(estimator, n_features_to_select=5, step=1)\n",
    "selector = selector.fit(X, y)\n",
    "rankings = pd.Series(selector.ranking_, name = 'ranking')\n",
    "names = pd.Series(X.columns, name = 'name')\n",
    "\n",
    "combined = pd.merge(names, rankings, left_index = True, right_index = True)\n",
    "print(\"Top 5 features selected from RFE\")\n",
    "print(combined[combined['ranking']==1])"
   ]
  },
  {
   "cell_type": "code",
   "execution_count": null,
   "metadata": {
    "id": "_oCPOBl92PhE"
   },
   "outputs": [],
   "source": [
    "# train test split\n",
    "from sklearn.model_selection import train_test_split\n",
    "X_train, X_test, y_train, y_test = train_test_split(X, y, test_size = 0.2, random_state = 50)"
   ]
  },
  {
   "cell_type": "code",
   "execution_count": null,
   "metadata": {
    "id": "wW_F7WkZ2PhK"
   },
   "outputs": [],
   "source": [
    "X_scaler = StandardScaler()"
   ]
  },
  {
   "cell_type": "code",
   "execution_count": null,
   "metadata": {
    "id": "JSe4SxGR2PhS",
    "outputId": "468454bd-d329-4eaa-d93e-4d8a2d0d40f5"
   },
   "outputs": [
    {
     "name": "stdout",
     "output_type": "stream",
     "text": [
      "Most Positively Correlated Predictors, Test R^2 Score\n",
      "0.6895112688851421\n",
      "\n",
      "Most Negatively Correlated Predictors, Test R^2 Score\n",
      "0.8346085417665577\n",
      "\n",
      "RFE Selected Predictors, Test R^2 Score\n",
      "0.9702879461830074\n",
      "\n",
      "All Predictors, Test R^2 Score\n",
      "0.9690391877029567\n"
     ]
    }
   ],
   "source": [
    "from sklearn.metrics import r2_score\n",
    "\n",
    "most_positive = corrMatrix['class_type'].sort_values(ascending=False)[1:6].index\n",
    "X_train_a = X_train[most_positive]\n",
    "X_test_a = X_test[most_positive]\n",
    "X_train_a = X_scaler.fit_transform(X_train_a)\n",
    "X_test_a = X_scaler.transform(X_test_a)\n",
    "\n",
    "mod_a = MLPRegressor(max_iter = 1000,random_state=1).fit(X_train_a, y_train)\n",
    "print(\"Most Positively Correlated Predictors, Test R^2 Score\")\n",
    "print(r2_score(y_test, mod_a.predict(X_test_a)))\n",
    "\n",
    "\n",
    "\n",
    "most_negative = corrMatrix['class_type'].sort_values(ascending=True)[0:5].index\n",
    "X_train_b = X_train[most_negative]\n",
    "X_test_b = X_test[most_negative]\n",
    "X_train_b = X_scaler.fit_transform(X_train_b)\n",
    "X_test_b = X_scaler.transform(X_test_b)\n",
    "\n",
    "mod_b = MLPRegressor(max_iter = 1000,random_state=1).fit(X_train_b, y_train)\n",
    "print(\"\\nMost Negatively Correlated Predictors, Test R^2 Score\")\n",
    "print(r2_score(y_test, mod_b.predict(X_test_b)))\n",
    "\n",
    "\n",
    "\n",
    "rfe_selection = combined[combined['ranking']==1]['name'].values\n",
    "X_train_c = X_train[rfe_selection]\n",
    "X_test_c = X_test[rfe_selection]\n",
    "X_train_c = X_scaler.fit_transform(X_train_c)\n",
    "X_test_c = X_scaler.transform(X_test_c)\n",
    "\n",
    "mod_c = MLPRegressor(max_iter = 1000,random_state=1).fit(X_train_c, y_train)\n",
    "print(\"\\nRFE Selected Predictors, Test R^2 Score\")\n",
    "print(r2_score(y_test, mod_c.predict(X_test_c)))\n",
    "\n",
    "\n",
    "\n",
    "X_train_d = X_scaler.fit_transform(X_train)\n",
    "X_test_d = X_scaler.transform(X_test)\n",
    "\n",
    "mod_d = MLPRegressor(max_iter = 1000,random_state=1).fit(X_train_d, y_train)\n",
    "print(\"\\nAll Predictors, Test R^2 Score\")\n",
    "print(r2_score(y_test, mod_d.predict(X_test_d)))"
   ]
  },
  {
   "cell_type": "markdown",
   "metadata": {
    "id": "5LbqxCtw2PhY"
   },
   "source": [
    "**Explain your results based on your understanding of feature selection and the ${R^2}$ score.**\n",
    "\n",
    "The models that selected only the positively correlated or negatively correlated features perform worse as we run into multi-collinearity issues when selecting predictors that tell us the same or similar information about our output variables. \n",
    "\n",
    "The RFE selected predictors perform the best because the RFE selection allows us to pick the \"best combination\" of predictors while not leading to overfitting. We see in the model with all predictors, the test R-Squared falls slightly, indicating some overfitting when we include all predictors in the model. "
   ]
  },
  {
   "cell_type": "markdown",
   "metadata": {
    "id": "ieqFg6082Phb"
   },
   "source": [
    "# Question 4 (Data Pre-processing - 25pts)\n",
    "The following dataset contains House Sales data in King County, USA. This dataset contains house sale prices for King County, which includes Seattle. This dataset contains the following columns:\n",
    "\n",
    "* bedrooms: Number of Bedrooms/House\n",
    "* bathrooms: Number of bathrooms/bedrooms\n",
    "* sqft_living: Square footage of the home\n",
    "* sqft_lot: Square footage of the lot\n",
    "* floors: Total floors (levels) in house\n",
    "* waterfront: House which has a view to a waterfront (0/1)\n",
    "* view: Has been viewed (0-4)\n",
    "* condition: How good the condition is Overall (1-5)\n",
    "* grade: Overall grade given to the housing unit, based on King County grading system (1-13)\n",
    "* sqft_above: Square footage of house apart from basement\n",
    "* sqft_basement: Square footage of the basement\n",
    "* yr_built: Built Year\n",
    "* yr_renovated: Year when house was renovated\n",
    "* zipcode: Zip code\n",
    "* price: Selling price of house\n",
    "\n",
    "Here, price is the dependent variable while all other variables are assumed to be independent variables. Here, 10% cells of most columns in the dataset contain NaN value."
   ]
  },
  {
   "cell_type": "code",
   "execution_count": 3,
   "metadata": {
    "colab": {
     "base_uri": "https://localhost:8080/",
     "height": 254,
     "resources": {
      "http://localhost:8080/nbextensions/google.colab/files.js": {
       "data": "Ly8gQ29weXJpZ2h0IDIwMTcgR29vZ2xlIExMQwovLwovLyBMaWNlbnNlZCB1bmRlciB0aGUgQXBhY2hlIExpY2Vuc2UsIFZlcnNpb24gMi4wICh0aGUgIkxpY2Vuc2UiKTsKLy8geW91IG1heSBub3QgdXNlIHRoaXMgZmlsZSBleGNlcHQgaW4gY29tcGxpYW5jZSB3aXRoIHRoZSBMaWNlbnNlLgovLyBZb3UgbWF5IG9idGFpbiBhIGNvcHkgb2YgdGhlIExpY2Vuc2UgYXQKLy8KLy8gICAgICBodHRwOi8vd3d3LmFwYWNoZS5vcmcvbGljZW5zZXMvTElDRU5TRS0yLjAKLy8KLy8gVW5sZXNzIHJlcXVpcmVkIGJ5IGFwcGxpY2FibGUgbGF3IG9yIGFncmVlZCB0byBpbiB3cml0aW5nLCBzb2Z0d2FyZQovLyBkaXN0cmlidXRlZCB1bmRlciB0aGUgTGljZW5zZSBpcyBkaXN0cmlidXRlZCBvbiBhbiAiQVMgSVMiIEJBU0lTLAovLyBXSVRIT1VUIFdBUlJBTlRJRVMgT1IgQ09ORElUSU9OUyBPRiBBTlkgS0lORCwgZWl0aGVyIGV4cHJlc3Mgb3IgaW1wbGllZC4KLy8gU2VlIHRoZSBMaWNlbnNlIGZvciB0aGUgc3BlY2lmaWMgbGFuZ3VhZ2UgZ292ZXJuaW5nIHBlcm1pc3Npb25zIGFuZAovLyBsaW1pdGF0aW9ucyB1bmRlciB0aGUgTGljZW5zZS4KCi8qKgogKiBAZmlsZW92ZXJ2aWV3IEhlbHBlcnMgZm9yIGdvb2dsZS5jb2xhYiBQeXRob24gbW9kdWxlLgogKi8KKGZ1bmN0aW9uKHNjb3BlKSB7CmZ1bmN0aW9uIHNwYW4odGV4dCwgc3R5bGVBdHRyaWJ1dGVzID0ge30pIHsKICBjb25zdCBlbGVtZW50ID0gZG9jdW1lbnQuY3JlYXRlRWxlbWVudCgnc3BhbicpOwogIGVsZW1lbnQudGV4dENvbnRlbnQgPSB0ZXh0OwogIGZvciAoY29uc3Qga2V5IG9mIE9iamVjdC5rZXlzKHN0eWxlQXR0cmlidXRlcykpIHsKICAgIGVsZW1lbnQuc3R5bGVba2V5XSA9IHN0eWxlQXR0cmlidXRlc1trZXldOwogIH0KICByZXR1cm4gZWxlbWVudDsKfQoKLy8gTWF4IG51bWJlciBvZiBieXRlcyB3aGljaCB3aWxsIGJlIHVwbG9hZGVkIGF0IGEgdGltZS4KY29uc3QgTUFYX1BBWUxPQURfU0laRSA9IDEwMCAqIDEwMjQ7CgpmdW5jdGlvbiBfdXBsb2FkRmlsZXMoaW5wdXRJZCwgb3V0cHV0SWQpIHsKICBjb25zdCBzdGVwcyA9IHVwbG9hZEZpbGVzU3RlcChpbnB1dElkLCBvdXRwdXRJZCk7CiAgY29uc3Qgb3V0cHV0RWxlbWVudCA9IGRvY3VtZW50LmdldEVsZW1lbnRCeUlkKG91dHB1dElkKTsKICAvLyBDYWNoZSBzdGVwcyBvbiB0aGUgb3V0cHV0RWxlbWVudCB0byBtYWtlIGl0IGF2YWlsYWJsZSBmb3IgdGhlIG5leHQgY2FsbAogIC8vIHRvIHVwbG9hZEZpbGVzQ29udGludWUgZnJvbSBQeXRob24uCiAgb3V0cHV0RWxlbWVudC5zdGVwcyA9IHN0ZXBzOwoKICByZXR1cm4gX3VwbG9hZEZpbGVzQ29udGludWUob3V0cHV0SWQpOwp9CgovLyBUaGlzIGlzIHJvdWdobHkgYW4gYXN5bmMgZ2VuZXJhdG9yIChub3Qgc3VwcG9ydGVkIGluIHRoZSBicm93c2VyIHlldCksCi8vIHdoZXJlIHRoZXJlIGFyZSBtdWx0aXBsZSBhc3luY2hyb25vdXMgc3RlcHMgYW5kIHRoZSBQeXRob24gc2lkZSBpcyBnb2luZwovLyB0byBwb2xsIGZvciBjb21wbGV0aW9uIG9mIGVhY2ggc3RlcC4KLy8gVGhpcyB1c2VzIGEgUHJvbWlzZSB0byBibG9jayB0aGUgcHl0aG9uIHNpZGUgb24gY29tcGxldGlvbiBvZiBlYWNoIHN0ZXAsCi8vIHRoZW4gcGFzc2VzIHRoZSByZXN1bHQgb2YgdGhlIHByZXZpb3VzIHN0ZXAgYXMgdGhlIGlucHV0IHRvIHRoZSBuZXh0IHN0ZXAuCmZ1bmN0aW9uIF91cGxvYWRGaWxlc0NvbnRpbnVlKG91dHB1dElkKSB7CiAgY29uc3Qgb3V0cHV0RWxlbWVudCA9IGRvY3VtZW50LmdldEVsZW1lbnRCeUlkKG91dHB1dElkKTsKICBjb25zdCBzdGVwcyA9IG91dHB1dEVsZW1lbnQuc3RlcHM7CgogIGNvbnN0IG5leHQgPSBzdGVwcy5uZXh0KG91dHB1dEVsZW1lbnQubGFzdFByb21pc2VWYWx1ZSk7CiAgcmV0dXJuIFByb21pc2UucmVzb2x2ZShuZXh0LnZhbHVlLnByb21pc2UpLnRoZW4oKHZhbHVlKSA9PiB7CiAgICAvLyBDYWNoZSB0aGUgbGFzdCBwcm9taXNlIHZhbHVlIHRvIG1ha2UgaXQgYXZhaWxhYmxlIHRvIHRoZSBuZXh0CiAgICAvLyBzdGVwIG9mIHRoZSBnZW5lcmF0b3IuCiAgICBvdXRwdXRFbGVtZW50Lmxhc3RQcm9taXNlVmFsdWUgPSB2YWx1ZTsKICAgIHJldHVybiBuZXh0LnZhbHVlLnJlc3BvbnNlOwogIH0pOwp9CgovKioKICogR2VuZXJhdG9yIGZ1bmN0aW9uIHdoaWNoIGlzIGNhbGxlZCBiZXR3ZWVuIGVhY2ggYXN5bmMgc3RlcCBvZiB0aGUgdXBsb2FkCiAqIHByb2Nlc3MuCiAqIEBwYXJhbSB7c3RyaW5nfSBpbnB1dElkIEVsZW1lbnQgSUQgb2YgdGhlIGlucHV0IGZpbGUgcGlja2VyIGVsZW1lbnQuCiAqIEBwYXJhbSB7c3RyaW5nfSBvdXRwdXRJZCBFbGVtZW50IElEIG9mIHRoZSBvdXRwdXQgZGlzcGxheS4KICogQHJldHVybiB7IUl0ZXJhYmxlPCFPYmplY3Q+fSBJdGVyYWJsZSBvZiBuZXh0IHN0ZXBzLgogKi8KZnVuY3Rpb24qIHVwbG9hZEZpbGVzU3RlcChpbnB1dElkLCBvdXRwdXRJZCkgewogIGNvbnN0IGlucHV0RWxlbWVudCA9IGRvY3VtZW50LmdldEVsZW1lbnRCeUlkKGlucHV0SWQpOwogIGlucHV0RWxlbWVudC5kaXNhYmxlZCA9IGZhbHNlOwoKICBjb25zdCBvdXRwdXRFbGVtZW50ID0gZG9jdW1lbnQuZ2V0RWxlbWVudEJ5SWQob3V0cHV0SWQpOwogIG91dHB1dEVsZW1lbnQuaW5uZXJIVE1MID0gJyc7CgogIGNvbnN0IHBpY2tlZFByb21pc2UgPSBuZXcgUHJvbWlzZSgocmVzb2x2ZSkgPT4gewogICAgaW5wdXRFbGVtZW50LmFkZEV2ZW50TGlzdGVuZXIoJ2NoYW5nZScsIChlKSA9PiB7CiAgICAgIHJlc29sdmUoZS50YXJnZXQuZmlsZXMpOwogICAgfSk7CiAgfSk7CgogIGNvbnN0IGNhbmNlbCA9IGRvY3VtZW50LmNyZWF0ZUVsZW1lbnQoJ2J1dHRvbicpOwogIGlucHV0RWxlbWVudC5wYXJlbnRFbGVtZW50LmFwcGVuZENoaWxkKGNhbmNlbCk7CiAgY2FuY2VsLnRleHRDb250ZW50ID0gJ0NhbmNlbCB1cGxvYWQnOwogIGNvbnN0IGNhbmNlbFByb21pc2UgPSBuZXcgUHJvbWlzZSgocmVzb2x2ZSkgPT4gewogICAgY2FuY2VsLm9uY2xpY2sgPSAoKSA9PiB7CiAgICAgIHJlc29sdmUobnVsbCk7CiAgICB9OwogIH0pOwoKICAvLyBXYWl0IGZvciB0aGUgdXNlciB0byBwaWNrIHRoZSBmaWxlcy4KICBjb25zdCBmaWxlcyA9IHlpZWxkIHsKICAgIHByb21pc2U6IFByb21pc2UucmFjZShbcGlja2VkUHJvbWlzZSwgY2FuY2VsUHJvbWlzZV0pLAogICAgcmVzcG9uc2U6IHsKICAgICAgYWN0aW9uOiAnc3RhcnRpbmcnLAogICAgfQogIH07CgogIGNhbmNlbC5yZW1vdmUoKTsKCiAgLy8gRGlzYWJsZSB0aGUgaW5wdXQgZWxlbWVudCBzaW5jZSBmdXJ0aGVyIHBpY2tzIGFyZSBub3QgYWxsb3dlZC4KICBpbnB1dEVsZW1lbnQuZGlzYWJsZWQgPSB0cnVlOwoKICBpZiAoIWZpbGVzKSB7CiAgICByZXR1cm4gewogICAgICByZXNwb25zZTogewogICAgICAgIGFjdGlvbjogJ2NvbXBsZXRlJywKICAgICAgfQogICAgfTsKICB9CgogIGZvciAoY29uc3QgZmlsZSBvZiBmaWxlcykgewogICAgY29uc3QgbGkgPSBkb2N1bWVudC5jcmVhdGVFbGVtZW50KCdsaScpOwogICAgbGkuYXBwZW5kKHNwYW4oZmlsZS5uYW1lLCB7Zm9udFdlaWdodDogJ2JvbGQnfSkpOwogICAgbGkuYXBwZW5kKHNwYW4oCiAgICAgICAgYCgke2ZpbGUudHlwZSB8fCAnbi9hJ30pIC0gJHtmaWxlLnNpemV9IGJ5dGVzLCBgICsKICAgICAgICBgbGFzdCBtb2RpZmllZDogJHsKICAgICAgICAgICAgZmlsZS5sYXN0TW9kaWZpZWREYXRlID8gZmlsZS5sYXN0TW9kaWZpZWREYXRlLnRvTG9jYWxlRGF0ZVN0cmluZygpIDoKICAgICAgICAgICAgICAgICAgICAgICAgICAgICAgICAgICAgJ24vYSd9IC0gYCkpOwogICAgY29uc3QgcGVyY2VudCA9IHNwYW4oJzAlIGRvbmUnKTsKICAgIGxpLmFwcGVuZENoaWxkKHBlcmNlbnQpOwoKICAgIG91dHB1dEVsZW1lbnQuYXBwZW5kQ2hpbGQobGkpOwoKICAgIGNvbnN0IGZpbGVEYXRhUHJvbWlzZSA9IG5ldyBQcm9taXNlKChyZXNvbHZlKSA9PiB7CiAgICAgIGNvbnN0IHJlYWRlciA9IG5ldyBGaWxlUmVhZGVyKCk7CiAgICAgIHJlYWRlci5vbmxvYWQgPSAoZSkgPT4gewogICAgICAgIHJlc29sdmUoZS50YXJnZXQucmVzdWx0KTsKICAgICAgfTsKICAgICAgcmVhZGVyLnJlYWRBc0FycmF5QnVmZmVyKGZpbGUpOwogICAgfSk7CiAgICAvLyBXYWl0IGZvciB0aGUgZGF0YSB0byBiZSByZWFkeS4KICAgIGxldCBmaWxlRGF0YSA9IHlpZWxkIHsKICAgICAgcHJvbWlzZTogZmlsZURhdGFQcm9taXNlLAogICAgICByZXNwb25zZTogewogICAgICAgIGFjdGlvbjogJ2NvbnRpbnVlJywKICAgICAgfQogICAgfTsKCiAgICAvLyBVc2UgYSBjaHVua2VkIHNlbmRpbmcgdG8gYXZvaWQgbWVzc2FnZSBzaXplIGxpbWl0cy4gU2VlIGIvNjIxMTU2NjAuCiAgICBsZXQgcG9zaXRpb24gPSAwOwogICAgd2hpbGUgKHBvc2l0aW9uIDwgZmlsZURhdGEuYnl0ZUxlbmd0aCkgewogICAgICBjb25zdCBsZW5ndGggPSBNYXRoLm1pbihmaWxlRGF0YS5ieXRlTGVuZ3RoIC0gcG9zaXRpb24sIE1BWF9QQVlMT0FEX1NJWkUpOwogICAgICBjb25zdCBjaHVuayA9IG5ldyBVaW50OEFycmF5KGZpbGVEYXRhLCBwb3NpdGlvbiwgbGVuZ3RoKTsKICAgICAgcG9zaXRpb24gKz0gbGVuZ3RoOwoKICAgICAgY29uc3QgYmFzZTY0ID0gYnRvYShTdHJpbmcuZnJvbUNoYXJDb2RlLmFwcGx5KG51bGwsIGNodW5rKSk7CiAgICAgIHlpZWxkIHsKICAgICAgICByZXNwb25zZTogewogICAgICAgICAgYWN0aW9uOiAnYXBwZW5kJywKICAgICAgICAgIGZpbGU6IGZpbGUubmFtZSwKICAgICAgICAgIGRhdGE6IGJhc2U2NCwKICAgICAgICB9LAogICAgICB9OwogICAgICBwZXJjZW50LnRleHRDb250ZW50ID0KICAgICAgICAgIGAke01hdGgucm91bmQoKHBvc2l0aW9uIC8gZmlsZURhdGEuYnl0ZUxlbmd0aCkgKiAxMDApfSUgZG9uZWA7CiAgICB9CiAgfQoKICAvLyBBbGwgZG9uZS4KICB5aWVsZCB7CiAgICByZXNwb25zZTogewogICAgICBhY3Rpb246ICdjb21wbGV0ZScsCiAgICB9CiAgfTsKfQoKc2NvcGUuZ29vZ2xlID0gc2NvcGUuZ29vZ2xlIHx8IHt9OwpzY29wZS5nb29nbGUuY29sYWIgPSBzY29wZS5nb29nbGUuY29sYWIgfHwge307CnNjb3BlLmdvb2dsZS5jb2xhYi5fZmlsZXMgPSB7CiAgX3VwbG9hZEZpbGVzLAogIF91cGxvYWRGaWxlc0NvbnRpbnVlLAp9Owp9KShzZWxmKTsK",
       "headers": [
        [
         "content-type",
         "application/javascript"
        ]
       ],
       "ok": true,
       "status": 200,
       "status_text": ""
      }
     }
    },
    "id": "-VEC4HyO2Phe",
    "outputId": "3a7f1c80-34e7-49e7-a2fd-ee032eb58bbd"
   },
   "outputs": [
    {
     "data": {
      "text/html": [
       "\n",
       "     <input type=\"file\" id=\"files-5d402f07-8dbd-4f24-978e-818f5f81f1a2\" name=\"files[]\" multiple disabled\n",
       "        style=\"border:none\" />\n",
       "     <output id=\"result-5d402f07-8dbd-4f24-978e-818f5f81f1a2\">\n",
       "      Upload widget is only available when the cell has been executed in the\n",
       "      current browser session. Please rerun this cell to enable.\n",
       "      </output>\n",
       "      <script src=\"/nbextensions/google.colab/files.js\"></script> "
      ],
      "text/plain": [
       "<IPython.core.display.HTML object>"
      ]
     },
     "metadata": {
      "tags": []
     },
     "output_type": "display_data"
    },
    {
     "name": "stdout",
     "output_type": "stream",
     "text": [
      "Saving kc_house_data.csv to kc_house_data.csv\n"
     ]
    },
    {
     "data": {
      "text/html": [
       "<div>\n",
       "<style scoped>\n",
       "    .dataframe tbody tr th:only-of-type {\n",
       "        vertical-align: middle;\n",
       "    }\n",
       "\n",
       "    .dataframe tbody tr th {\n",
       "        vertical-align: top;\n",
       "    }\n",
       "\n",
       "    .dataframe thead th {\n",
       "        text-align: right;\n",
       "    }\n",
       "</style>\n",
       "<table border=\"1\" class=\"dataframe\">\n",
       "  <thead>\n",
       "    <tr style=\"text-align: right;\">\n",
       "      <th></th>\n",
       "      <th>bedrooms</th>\n",
       "      <th>bathrooms</th>\n",
       "      <th>sqft_living</th>\n",
       "      <th>sqft_lot</th>\n",
       "      <th>floors</th>\n",
       "      <th>waterfront</th>\n",
       "      <th>view</th>\n",
       "      <th>condition</th>\n",
       "      <th>grade</th>\n",
       "      <th>sqft_above</th>\n",
       "      <th>sqft_basement</th>\n",
       "      <th>yr_built</th>\n",
       "      <th>yr_renovated</th>\n",
       "      <th>zipcode</th>\n",
       "      <th>price</th>\n",
       "    </tr>\n",
       "  </thead>\n",
       "  <tbody>\n",
       "    <tr>\n",
       "      <th>0</th>\n",
       "      <td>3.0</td>\n",
       "      <td>1.00</td>\n",
       "      <td>1180.0</td>\n",
       "      <td>5650.0</td>\n",
       "      <td>NaN</td>\n",
       "      <td>0.0</td>\n",
       "      <td>0.0</td>\n",
       "      <td>3.0</td>\n",
       "      <td>7.0</td>\n",
       "      <td>1180.0</td>\n",
       "      <td>0.0</td>\n",
       "      <td>1955</td>\n",
       "      <td>0</td>\n",
       "      <td>98178.0</td>\n",
       "      <td>221900.0</td>\n",
       "    </tr>\n",
       "    <tr>\n",
       "      <th>1</th>\n",
       "      <td>3.0</td>\n",
       "      <td>2.25</td>\n",
       "      <td>2570.0</td>\n",
       "      <td>7242.0</td>\n",
       "      <td>2.0</td>\n",
       "      <td>0.0</td>\n",
       "      <td>0.0</td>\n",
       "      <td>3.0</td>\n",
       "      <td>7.0</td>\n",
       "      <td>2170.0</td>\n",
       "      <td>400.0</td>\n",
       "      <td>1951</td>\n",
       "      <td>1991</td>\n",
       "      <td>98125.0</td>\n",
       "      <td>538000.0</td>\n",
       "    </tr>\n",
       "    <tr>\n",
       "      <th>2</th>\n",
       "      <td>2.0</td>\n",
       "      <td>1.00</td>\n",
       "      <td>770.0</td>\n",
       "      <td>10000.0</td>\n",
       "      <td>NaN</td>\n",
       "      <td>0.0</td>\n",
       "      <td>0.0</td>\n",
       "      <td>NaN</td>\n",
       "      <td>6.0</td>\n",
       "      <td>770.0</td>\n",
       "      <td>0.0</td>\n",
       "      <td>1933</td>\n",
       "      <td>0</td>\n",
       "      <td>NaN</td>\n",
       "      <td>180000.0</td>\n",
       "    </tr>\n",
       "    <tr>\n",
       "      <th>3</th>\n",
       "      <td>4.0</td>\n",
       "      <td>3.00</td>\n",
       "      <td>1960.0</td>\n",
       "      <td>5000.0</td>\n",
       "      <td>1.0</td>\n",
       "      <td>0.0</td>\n",
       "      <td>0.0</td>\n",
       "      <td>5.0</td>\n",
       "      <td>7.0</td>\n",
       "      <td>1050.0</td>\n",
       "      <td>910.0</td>\n",
       "      <td>1965</td>\n",
       "      <td>0</td>\n",
       "      <td>NaN</td>\n",
       "      <td>604000.0</td>\n",
       "    </tr>\n",
       "    <tr>\n",
       "      <th>4</th>\n",
       "      <td>3.0</td>\n",
       "      <td>2.00</td>\n",
       "      <td>1680.0</td>\n",
       "      <td>8080.0</td>\n",
       "      <td>1.0</td>\n",
       "      <td>0.0</td>\n",
       "      <td>0.0</td>\n",
       "      <td>3.0</td>\n",
       "      <td>8.0</td>\n",
       "      <td>1680.0</td>\n",
       "      <td>0.0</td>\n",
       "      <td>1987</td>\n",
       "      <td>0</td>\n",
       "      <td>98074.0</td>\n",
       "      <td>510000.0</td>\n",
       "    </tr>\n",
       "  </tbody>\n",
       "</table>\n",
       "</div>"
      ],
      "text/plain": [
       "   bedrooms  bathrooms  sqft_living  ...  yr_renovated  zipcode     price\n",
       "0       3.0       1.00       1180.0  ...             0  98178.0  221900.0\n",
       "1       3.0       2.25       2570.0  ...          1991  98125.0  538000.0\n",
       "2       2.0       1.00        770.0  ...             0      NaN  180000.0\n",
       "3       4.0       3.00       1960.0  ...             0      NaN  604000.0\n",
       "4       3.0       2.00       1680.0  ...             0  98074.0  510000.0\n",
       "\n",
       "[5 rows x 15 columns]"
      ]
     },
     "execution_count": 3,
     "metadata": {
      "tags": []
     },
     "output_type": "execute_result"
    }
   ],
   "source": [
    "import pandas as pd \n",
    "import numpy as np \n",
    "from sklearn.linear_model import LinearRegression\n",
    "from sklearn.model_selection import train_test_split\n",
    "import io\n",
    "from google.colab import files\n",
    "\n",
    "np.random.seed(100)\n",
    "\n",
    "uploaded = files.upload()\n",
    "df = pd.read_csv(io.BytesIO(uploaded['kc_house_data.csv']))\n",
    "\n",
    "#df = pd.read_csv(\"kc_house_data.csv\")\n",
    "age = df['yr_renovated']\n",
    "built = df['yr_built']\n",
    "df.iloc[:, :-1] = df[:-1].mask(np.random.random(df[:-1].shape)<0.1)\n",
    "df['yr_renovated'] = age\n",
    "df['yr_built'] = built\n",
    "df.head()"
   ]
  },
  {
   "cell_type": "markdown",
   "metadata": {
    "id": "NAfJvOUw2Phj"
   },
   "source": [
    "### Question 4.1 (5 points)\n",
    "Print the number of NaN values in each column. Next, if the value of `yr_renovated` is equal to 0, set it equal to the corresponding value of `yr_built`."
   ]
  },
  {
   "cell_type": "code",
   "execution_count": 4,
   "metadata": {
    "colab": {
     "base_uri": "https://localhost:8080/",
     "height": 500
    },
    "id": "8V62CD-k2Phl",
    "outputId": "c98c69ba-a277-4ba5-e4d9-bf26416eac9a"
   },
   "outputs": [
    {
     "name": "stdout",
     "output_type": "stream",
     "text": [
      "Number of NaN values in each column\n",
      "bedrooms         2150\n",
      "bathrooms        2150\n",
      "sqft_living      2170\n",
      "sqft_lot         2091\n",
      "floors           2152\n",
      "waterfront       2179\n",
      "view             2184\n",
      "condition        2096\n",
      "grade            2135\n",
      "sqft_above       2163\n",
      "sqft_basement    2198\n",
      "yr_built            0\n",
      "yr_renovated        0\n",
      "zipcode          2169\n",
      "price               0\n",
      "dtype: int64\n"
     ]
    },
    {
     "data": {
      "text/html": [
       "<div>\n",
       "<style scoped>\n",
       "    .dataframe tbody tr th:only-of-type {\n",
       "        vertical-align: middle;\n",
       "    }\n",
       "\n",
       "    .dataframe tbody tr th {\n",
       "        vertical-align: top;\n",
       "    }\n",
       "\n",
       "    .dataframe thead th {\n",
       "        text-align: right;\n",
       "    }\n",
       "</style>\n",
       "<table border=\"1\" class=\"dataframe\">\n",
       "  <thead>\n",
       "    <tr style=\"text-align: right;\">\n",
       "      <th></th>\n",
       "      <th>bedrooms</th>\n",
       "      <th>bathrooms</th>\n",
       "      <th>sqft_living</th>\n",
       "      <th>sqft_lot</th>\n",
       "      <th>floors</th>\n",
       "      <th>waterfront</th>\n",
       "      <th>view</th>\n",
       "      <th>condition</th>\n",
       "      <th>grade</th>\n",
       "      <th>sqft_above</th>\n",
       "      <th>sqft_basement</th>\n",
       "      <th>yr_built</th>\n",
       "      <th>yr_renovated</th>\n",
       "      <th>zipcode</th>\n",
       "      <th>price</th>\n",
       "    </tr>\n",
       "  </thead>\n",
       "  <tbody>\n",
       "    <tr>\n",
       "      <th>0</th>\n",
       "      <td>3.0</td>\n",
       "      <td>1.00</td>\n",
       "      <td>1180.0</td>\n",
       "      <td>5650.0</td>\n",
       "      <td>NaN</td>\n",
       "      <td>0.0</td>\n",
       "      <td>0.0</td>\n",
       "      <td>3.0</td>\n",
       "      <td>7.0</td>\n",
       "      <td>1180.0</td>\n",
       "      <td>0.0</td>\n",
       "      <td>1955</td>\n",
       "      <td>1955</td>\n",
       "      <td>98178.0</td>\n",
       "      <td>221900.0</td>\n",
       "    </tr>\n",
       "    <tr>\n",
       "      <th>1</th>\n",
       "      <td>3.0</td>\n",
       "      <td>2.25</td>\n",
       "      <td>2570.0</td>\n",
       "      <td>7242.0</td>\n",
       "      <td>2.0</td>\n",
       "      <td>0.0</td>\n",
       "      <td>0.0</td>\n",
       "      <td>3.0</td>\n",
       "      <td>7.0</td>\n",
       "      <td>2170.0</td>\n",
       "      <td>400.0</td>\n",
       "      <td>1951</td>\n",
       "      <td>1991</td>\n",
       "      <td>98125.0</td>\n",
       "      <td>538000.0</td>\n",
       "    </tr>\n",
       "    <tr>\n",
       "      <th>2</th>\n",
       "      <td>2.0</td>\n",
       "      <td>1.00</td>\n",
       "      <td>770.0</td>\n",
       "      <td>10000.0</td>\n",
       "      <td>NaN</td>\n",
       "      <td>0.0</td>\n",
       "      <td>0.0</td>\n",
       "      <td>NaN</td>\n",
       "      <td>6.0</td>\n",
       "      <td>770.0</td>\n",
       "      <td>0.0</td>\n",
       "      <td>1933</td>\n",
       "      <td>1933</td>\n",
       "      <td>NaN</td>\n",
       "      <td>180000.0</td>\n",
       "    </tr>\n",
       "    <tr>\n",
       "      <th>3</th>\n",
       "      <td>4.0</td>\n",
       "      <td>3.00</td>\n",
       "      <td>1960.0</td>\n",
       "      <td>5000.0</td>\n",
       "      <td>1.0</td>\n",
       "      <td>0.0</td>\n",
       "      <td>0.0</td>\n",
       "      <td>5.0</td>\n",
       "      <td>7.0</td>\n",
       "      <td>1050.0</td>\n",
       "      <td>910.0</td>\n",
       "      <td>1965</td>\n",
       "      <td>1965</td>\n",
       "      <td>NaN</td>\n",
       "      <td>604000.0</td>\n",
       "    </tr>\n",
       "    <tr>\n",
       "      <th>4</th>\n",
       "      <td>3.0</td>\n",
       "      <td>2.00</td>\n",
       "      <td>1680.0</td>\n",
       "      <td>8080.0</td>\n",
       "      <td>1.0</td>\n",
       "      <td>0.0</td>\n",
       "      <td>0.0</td>\n",
       "      <td>3.0</td>\n",
       "      <td>8.0</td>\n",
       "      <td>1680.0</td>\n",
       "      <td>0.0</td>\n",
       "      <td>1987</td>\n",
       "      <td>1987</td>\n",
       "      <td>98074.0</td>\n",
       "      <td>510000.0</td>\n",
       "    </tr>\n",
       "  </tbody>\n",
       "</table>\n",
       "</div>"
      ],
      "text/plain": [
       "   bedrooms  bathrooms  sqft_living  ...  yr_renovated  zipcode     price\n",
       "0       3.0       1.00       1180.0  ...          1955  98178.0  221900.0\n",
       "1       3.0       2.25       2570.0  ...          1991  98125.0  538000.0\n",
       "2       2.0       1.00        770.0  ...          1933      NaN  180000.0\n",
       "3       4.0       3.00       1960.0  ...          1965      NaN  604000.0\n",
       "4       3.0       2.00       1680.0  ...          1987  98074.0  510000.0\n",
       "\n",
       "[5 rows x 15 columns]"
      ]
     },
     "execution_count": 4,
     "metadata": {
      "tags": []
     },
     "output_type": "execute_result"
    }
   ],
   "source": [
    "print(\"Number of NaN values in each column\")\n",
    "print(df.isna().sum())\n",
    "\n",
    "df.loc[df['yr_renovated'] == 0, 'yr_renovated'] = df['yr_built']\n",
    "df.head()"
   ]
  },
  {
   "cell_type": "markdown",
   "metadata": {
    "id": "nrX3izAg2Phw"
   },
   "source": [
    "### Question 4.2 (6 points)\n",
    "\n",
    "Create a copy of `df` named `df_dm` and create a new column in `df_dm` named `binned_yr_built` and apply binning to the column `yr_built`. Use [pandas.cut()](https://stackoverflow.com/a/31740881) and modify its paramter list as below:\n",
    "- `bins=[1900, 1920, 1940, 1960, 1980, 2000, 2020]`\n",
    "- `labels=['1900-1920', '1920-1940', '1940-1960', '1960-1980', '1980-2000', '2000-2020']`\n",
    "- `include_lowest=True`\n",
    "\n",
    "Next, perform one-hot encoding using this new column."
   ]
  },
  {
   "cell_type": "code",
   "execution_count": 5,
   "metadata": {
    "colab": {
     "base_uri": "https://localhost:8080/",
     "height": 234
    },
    "id": "_8Vgm5K02Phx",
    "outputId": "1511550e-6f9f-4265-8585-302ab4f9ada7"
   },
   "outputs": [
    {
     "data": {
      "text/html": [
       "<div>\n",
       "<style scoped>\n",
       "    .dataframe tbody tr th:only-of-type {\n",
       "        vertical-align: middle;\n",
       "    }\n",
       "\n",
       "    .dataframe tbody tr th {\n",
       "        vertical-align: top;\n",
       "    }\n",
       "\n",
       "    .dataframe thead th {\n",
       "        text-align: right;\n",
       "    }\n",
       "</style>\n",
       "<table border=\"1\" class=\"dataframe\">\n",
       "  <thead>\n",
       "    <tr style=\"text-align: right;\">\n",
       "      <th></th>\n",
       "      <th>bedrooms</th>\n",
       "      <th>bathrooms</th>\n",
       "      <th>sqft_living</th>\n",
       "      <th>sqft_lot</th>\n",
       "      <th>floors</th>\n",
       "      <th>waterfront</th>\n",
       "      <th>view</th>\n",
       "      <th>condition</th>\n",
       "      <th>grade</th>\n",
       "      <th>sqft_above</th>\n",
       "      <th>sqft_basement</th>\n",
       "      <th>yr_built</th>\n",
       "      <th>yr_renovated</th>\n",
       "      <th>zipcode</th>\n",
       "      <th>price</th>\n",
       "      <th>binned_yr_built</th>\n",
       "      <th>yr_built_1900-1920</th>\n",
       "      <th>yr_built_1920-1940</th>\n",
       "      <th>yr_built_1940-1960</th>\n",
       "      <th>yr_built_1960-1980</th>\n",
       "      <th>yr_built_1980-2000</th>\n",
       "      <th>yr_built_2000-2020</th>\n",
       "    </tr>\n",
       "  </thead>\n",
       "  <tbody>\n",
       "    <tr>\n",
       "      <th>0</th>\n",
       "      <td>3.0</td>\n",
       "      <td>1.00</td>\n",
       "      <td>1180.0</td>\n",
       "      <td>5650.0</td>\n",
       "      <td>NaN</td>\n",
       "      <td>0.0</td>\n",
       "      <td>0.0</td>\n",
       "      <td>3.0</td>\n",
       "      <td>7.0</td>\n",
       "      <td>1180.0</td>\n",
       "      <td>0.0</td>\n",
       "      <td>1955</td>\n",
       "      <td>1955</td>\n",
       "      <td>98178.0</td>\n",
       "      <td>221900.0</td>\n",
       "      <td>1940-1960</td>\n",
       "      <td>0</td>\n",
       "      <td>0</td>\n",
       "      <td>1</td>\n",
       "      <td>0</td>\n",
       "      <td>0</td>\n",
       "      <td>0</td>\n",
       "    </tr>\n",
       "    <tr>\n",
       "      <th>1</th>\n",
       "      <td>3.0</td>\n",
       "      <td>2.25</td>\n",
       "      <td>2570.0</td>\n",
       "      <td>7242.0</td>\n",
       "      <td>2.0</td>\n",
       "      <td>0.0</td>\n",
       "      <td>0.0</td>\n",
       "      <td>3.0</td>\n",
       "      <td>7.0</td>\n",
       "      <td>2170.0</td>\n",
       "      <td>400.0</td>\n",
       "      <td>1951</td>\n",
       "      <td>1991</td>\n",
       "      <td>98125.0</td>\n",
       "      <td>538000.0</td>\n",
       "      <td>1940-1960</td>\n",
       "      <td>0</td>\n",
       "      <td>0</td>\n",
       "      <td>1</td>\n",
       "      <td>0</td>\n",
       "      <td>0</td>\n",
       "      <td>0</td>\n",
       "    </tr>\n",
       "    <tr>\n",
       "      <th>2</th>\n",
       "      <td>2.0</td>\n",
       "      <td>1.00</td>\n",
       "      <td>770.0</td>\n",
       "      <td>10000.0</td>\n",
       "      <td>NaN</td>\n",
       "      <td>0.0</td>\n",
       "      <td>0.0</td>\n",
       "      <td>NaN</td>\n",
       "      <td>6.0</td>\n",
       "      <td>770.0</td>\n",
       "      <td>0.0</td>\n",
       "      <td>1933</td>\n",
       "      <td>1933</td>\n",
       "      <td>NaN</td>\n",
       "      <td>180000.0</td>\n",
       "      <td>1920-1940</td>\n",
       "      <td>0</td>\n",
       "      <td>1</td>\n",
       "      <td>0</td>\n",
       "      <td>0</td>\n",
       "      <td>0</td>\n",
       "      <td>0</td>\n",
       "    </tr>\n",
       "    <tr>\n",
       "      <th>3</th>\n",
       "      <td>4.0</td>\n",
       "      <td>3.00</td>\n",
       "      <td>1960.0</td>\n",
       "      <td>5000.0</td>\n",
       "      <td>1.0</td>\n",
       "      <td>0.0</td>\n",
       "      <td>0.0</td>\n",
       "      <td>5.0</td>\n",
       "      <td>7.0</td>\n",
       "      <td>1050.0</td>\n",
       "      <td>910.0</td>\n",
       "      <td>1965</td>\n",
       "      <td>1965</td>\n",
       "      <td>NaN</td>\n",
       "      <td>604000.0</td>\n",
       "      <td>1960-1980</td>\n",
       "      <td>0</td>\n",
       "      <td>0</td>\n",
       "      <td>0</td>\n",
       "      <td>1</td>\n",
       "      <td>0</td>\n",
       "      <td>0</td>\n",
       "    </tr>\n",
       "    <tr>\n",
       "      <th>4</th>\n",
       "      <td>3.0</td>\n",
       "      <td>2.00</td>\n",
       "      <td>1680.0</td>\n",
       "      <td>8080.0</td>\n",
       "      <td>1.0</td>\n",
       "      <td>0.0</td>\n",
       "      <td>0.0</td>\n",
       "      <td>3.0</td>\n",
       "      <td>8.0</td>\n",
       "      <td>1680.0</td>\n",
       "      <td>0.0</td>\n",
       "      <td>1987</td>\n",
       "      <td>1987</td>\n",
       "      <td>98074.0</td>\n",
       "      <td>510000.0</td>\n",
       "      <td>1980-2000</td>\n",
       "      <td>0</td>\n",
       "      <td>0</td>\n",
       "      <td>0</td>\n",
       "      <td>0</td>\n",
       "      <td>1</td>\n",
       "      <td>0</td>\n",
       "    </tr>\n",
       "  </tbody>\n",
       "</table>\n",
       "</div>"
      ],
      "text/plain": [
       "   bedrooms  bathrooms  ...  yr_built_1980-2000  yr_built_2000-2020\n",
       "0       3.0       1.00  ...                   0                   0\n",
       "1       3.0       2.25  ...                   0                   0\n",
       "2       2.0       1.00  ...                   0                   0\n",
       "3       4.0       3.00  ...                   0                   0\n",
       "4       3.0       2.00  ...                   1                   0\n",
       "\n",
       "[5 rows x 22 columns]"
      ]
     },
     "execution_count": 5,
     "metadata": {
      "tags": []
     },
     "output_type": "execute_result"
    }
   ],
   "source": [
    "df_dm = df.copy()\n",
    "\n",
    "bins=[1900, 1920, 1940, 1960, 1980, 2000, 2020]\n",
    "labels=['1900-1920', '1920-1940', '1940-1960', '1960-1980', '1980-2000', '2000-2020']\n",
    "\n",
    "df_dm['binned_yr_built'] = pd.cut(df['yr_built'],bins,labels=labels,include_lowest=True)\n",
    "\n",
    "binned_yr_dummy = pd.get_dummies(df_dm.binned_yr_built, prefix = 'yr_built')\n",
    "#print(binned_yr_dummy)\n",
    "\n",
    "df_dm = pd.merge(df_dm, binned_yr_dummy, left_index = True, right_index = True)\n",
    "\n",
    "df_dm.head()"
   ]
  },
  {
   "cell_type": "markdown",
   "metadata": {
    "id": "WWKhtgqs2Ph5"
   },
   "source": [
    "## Question 4.3 (4 points)\n",
    "Create a copy of `df` named `temp_df`. Drop all rows in `temp_df` that contain any null value and run a linear regression model using a train-test split with `test_size=0.3` and `random_state=42`."
   ]
  },
  {
   "cell_type": "code",
   "execution_count": 6,
   "metadata": {
    "colab": {
     "base_uri": "https://localhost:8080/",
     "height": 52
    },
    "id": "IRzv_Rk_2Ph6",
    "outputId": "f3d4d636-30a2-49b6-e5f3-d96a38c6fc55"
   },
   "outputs": [
    {
     "name": "stdout",
     "output_type": "stream",
     "text": [
      "Test R-squared score\n",
      "0.6683819021913644\n"
     ]
    }
   ],
   "source": [
    "from sklearn import linear_model\n",
    "from sklearn.linear_model import LinearRegression\n",
    "from sklearn.metrics import r2_score\n",
    "\n",
    "temp_df = df.copy()\n",
    "temp_df = temp_df.dropna()\n",
    "\n",
    "y = temp_df['price'].values\n",
    "X = temp_df.drop(['price'], axis = 1)\n",
    "\n",
    "X_train, X_test, y_train, y_test = train_test_split(X, y, test_size = 0.3, random_state = 42)\n",
    "\n",
    "linreg_4_3 = linear_model.LinearRegression().fit(X_train,y_train)\n",
    "\n",
    "print(\"Test R-squared score\")\n",
    "print(r2_score(y_test, linreg_4_3.predict(X_test)))"
   ]
  },
  {
   "cell_type": "markdown",
   "metadata": {
    "id": "-UvvUKCa2PiC"
   },
   "source": [
    "## Question 4.4 (8 points)\n",
    "\n",
    "Use `df` to create a train/test split with `test_size=0.30` and `random_state=42`. Use the following imputation methods to fill in all NaN values for the obtained training set.\n",
    "- mean (using [SimpleImputer](https://scikit-learn.org/stable/modules/generated/sklearn.impute.SimpleImputer.html#sklearn.impute.SimpleImputer))\n",
    "- median (using [SimpleImputer](https://scikit-learn.org/stable/modules/generated/sklearn.impute.SimpleImputer.html#sklearn.impute.SimpleImputer))\n",
    "- most_frequent (using [SimpleImputer](https://scikit-learn.org/stable/modules/generated/sklearn.impute.SimpleImputer.html#sklearn.impute.SimpleImputer))\n",
    "- k-Nearest Neighbors (using [KNNImputer](https://scikit-learn.org/stable/modules/generated/sklearn.impute.KNNImputer.html#sklearn.impute.KNNImputer)) - Run this four times with the value of `n_neighbors` = 2, 5, 10 and 20.\n",
    "\n",
    "For each method, impute the test set with the same imputer and print the test $R^2$ score obtained using a linear regression model. Which method gives the best result? What can you say from the result of a) SimpleImputer and b) KNNImputer?"
   ]
  },
  {
   "cell_type": "code",
   "execution_count": 8,
   "metadata": {
    "colab": {
     "base_uri": "https://localhost:8080/",
     "height": 372
    },
    "id": "hb4KYIWQ2PiD",
    "outputId": "ca5aa01a-9af0-4a95-d67d-1ea13b421ff6"
   },
   "outputs": [
    {
     "name": "stdout",
     "output_type": "stream",
     "text": [
      "Mean Transformed - Test R-squared score\n",
      "0.6285533082300866\n",
      "\n",
      "Median Transformed - Test R-squared score\n",
      "0.6229831308641864\n",
      "\n",
      "Most Frequent Transformed - Test R-squared score\n",
      "0.618042124658206\n",
      "\n",
      "KNN-2 Transformed - Test R-squared score\n",
      "0.6245555494882699\n",
      "\n",
      "KNN-5 Transformed - Test R-squared score\n",
      "0.6324863425241083\n",
      "\n",
      "KNN-10 Transformed - Test R-squared score\n",
      "0.6351647527597251\n",
      "\n",
      "KNN-20 Transformed - Test R-squared score\n",
      "0.6366366234932039\n"
     ]
    }
   ],
   "source": [
    "from sklearn.impute import SimpleImputer\n",
    "from sklearn.impute import KNNImputer\n",
    "\n",
    "y = df['price'].values\n",
    "X = df.drop(['price'], axis = 1)\n",
    "\n",
    "# mean\n",
    "X_train, X_test, y_train, y_test = train_test_split(X, y, test_size = 0.3, random_state = 42)\n",
    "\n",
    "imp_mean = SimpleImputer(missing_values=np.nan, strategy='mean')\n",
    "X_train = imp_mean.fit_transform(X_train)\n",
    "X_test = imp_mean.transform(X_test)\n",
    "\n",
    "linreg_4_4_a = linear_model.LinearRegression().fit(X_train,y_train)\n",
    "print(\"Mean Transformed - Test R-squared score\")\n",
    "print(r2_score(y_test, linreg_4_4_a.predict(X_test)))\n",
    "\n",
    "\n",
    "\n",
    "# median\n",
    "X_train, X_test, y_train, y_test = train_test_split(X, y, test_size = 0.3, random_state = 42)\n",
    "\n",
    "imp_median = SimpleImputer(missing_values=np.nan, strategy='median')\n",
    "X_train = imp_median.fit_transform(X_train)\n",
    "X_test = imp_median.transform(X_test)\n",
    "\n",
    "linreg_4_4_b = linear_model.LinearRegression().fit(X_train,y_train)\n",
    "print(\"\\nMedian Transformed - Test R-squared score\")\n",
    "print(r2_score(y_test, linreg_4_4_b.predict(X_test)))\n",
    "\n",
    "\n",
    "\n",
    "# most_frequent\n",
    "X_train, X_test, y_train, y_test = train_test_split(X, y, test_size = 0.3, random_state = 42)\n",
    "\n",
    "imp_most_freq = SimpleImputer(missing_values=np.nan, strategy='most_frequent')\n",
    "X_train = imp_most_freq.fit_transform(X_train)\n",
    "X_test = imp_most_freq.transform(X_test)\n",
    "\n",
    "linreg_4_4_c = linear_model.LinearRegression().fit(X_train,y_train)\n",
    "print(\"\\nMost Frequent Transformed - Test R-squared score\")\n",
    "print(r2_score(y_test, linreg_4_4_c.predict(X_test)))\n",
    "\n",
    "\n",
    "\n",
    "# k-Nearest Neighbors\n",
    "X_train, X_test, y_train, y_test = train_test_split(X, y, test_size = 0.3, random_state = 42)\n",
    "\n",
    "imp_2 = KNNImputer(n_neighbors = 2)\n",
    "X_train = imp_2.fit_transform(X_train)\n",
    "X_test = imp_2.transform(X_test)\n",
    "\n",
    "linreg_4_4_d = linear_model.LinearRegression().fit(X_train,y_train)\n",
    "print(\"\\nKNN-2 Transformed - Test R-squared score\")\n",
    "print(r2_score(y_test, linreg_4_4_d.predict(X_test)))\n",
    "\n",
    "\n",
    "\n",
    "X_train, X_test, y_train, y_test = train_test_split(X, y, test_size = 0.3, random_state = 42)\n",
    "\n",
    "imp_5 = KNNImputer(n_neighbors = 5)\n",
    "X_train = imp_5.fit_transform(X_train)\n",
    "X_test = imp_5.transform(X_test)\n",
    "\n",
    "linreg_4_4_e = linear_model.LinearRegression().fit(X_train,y_train)\n",
    "print(\"\\nKNN-5 Transformed - Test R-squared score\")\n",
    "print(r2_score(y_test, linreg_4_4_e.predict(X_test)))\n",
    "\n",
    "\n",
    "\n",
    "X_train, X_test, y_train, y_test = train_test_split(X, y, test_size = 0.3, random_state = 42)\n",
    "\n",
    "imp_10 = KNNImputer(n_neighbors = 10)\n",
    "X_train = imp_10.fit_transform(X_train)\n",
    "X_test = imp_10.transform(X_test)\n",
    "\n",
    "linreg_4_4_f = linear_model.LinearRegression().fit(X_train,y_train)\n",
    "print(\"\\nKNN-10 Transformed - Test R-squared score\")\n",
    "print(r2_score(y_test, linreg_4_4_f.predict(X_test)))\n",
    "\n",
    "\n",
    "\n",
    "X_train, X_test, y_train, y_test = train_test_split(X, y, test_size = 0.3, random_state = 42)\n",
    "\n",
    "imp_20 = KNNImputer(n_neighbors = 20)\n",
    "X_train = imp_20.fit_transform(X_train)\n",
    "X_test = imp_20.transform(X_test)\n",
    "\n",
    "linreg_4_4_g = linear_model.LinearRegression().fit(X_train,y_train)\n",
    "print(\"\\nKNN-20 Transformed - Test R-squared score\")\n",
    "print(r2_score(y_test, linreg_4_4_g.predict(X_test)))"
   ]
  },
  {
   "cell_type": "markdown",
   "metadata": {
    "id": "vJu7LUQG2PiK"
   },
   "source": [
    "## Question 4.5 (2 points)\n",
    "In Questions 4.3 and 4.4, when you dropped all rows containing any null value, you obtained better $R^2$ score than when you imputed the missing values. What can be some possible reasons behind this?"
   ]
  },
  {
   "cell_type": "markdown",
   "metadata": {
    "id": "ir0iQfAF34h9"
   },
   "source": [
    "Some possible reasons behind having a better $R^2$ score when we dropped the rows with the missing values are:\n",
    "\n",
    "* The rows represent Y outliers in the data. Thus, when we remove these Y outliers, we get a better $R^2$ score because they do not skew the linear transformation. These Y outliers may have had NA values in their row for systematic reasons, for example, unavailability of information for very low priced homes.\n",
    "\n",
    "* The rows with NAs should not actually be replaced with the mean/median/most frequent/KNN values. This builds off the first idea that they are outliers, but also explains why we see a worse $R^2$ score. For example, if a row with a very low price has a NA value for condition, it should probably NOT be replaced with the mean value for condition. This results in a lower $R^2$ because the mean/median/mode misrepresent the picture. This also helps explain why the KNN performs slightly better than the median and mode transformation. It fills the NAs with slightly more representative values."
   ]
  },
  {
   "cell_type": "markdown",
   "metadata": {
    "id": "07VBe1vv2PiT"
   },
   "source": [
    "# Question 5: Supplementary Notes (10 points)\n",
    "Visit the [Supplementary Notes website](https://ideal-ut.github.io/APM-2020/). Read the notes written by your peers from both sections (first 6 topics/lectures only, i.e. up to \"gradient descent\"). Select the note that you liked the most and write the following:\n",
    "- Identify the note. (e.g., If you liked the note from Section A for topic 1, write 1A).\n",
    "- Write one-two paragraphs on why you liked your selection the most and what you learnt from it.\n",
    "- Also write a short paragraph on how you think this note can be further improved."
   ]
  },
  {
   "cell_type": "markdown",
   "metadata": {
    "id": "NpJVZqWA2PiU"
   },
   "source": [
    "* **Note we liked most:** 5A - Bias and Variance Dilemma & Shrinkage Methods - Jing, Andrew, Hao\n",
    "\n",
    "* **Why we liked it and what we learned:**\n",
    "\n",
    "    1. **Clearly explaining model performance improvement using three steps.** We liked the description using accessible language of the tradeoff between bias and viariance. As we increase the bundle of values in Random Forest, we decrease bias, but we increase variance. This tradeoff was easy to understand the varying levels of model complexity. The note also demonstrated a deeper understanding off model complexity and model performance. It really put the trade-off into a real-world context where it's important to understand which is more important for you to minimize. The note tied in more complex concepts like bagging and other resampling techniques to help reduce variance when that is our goal.\n",
    "    \n",
    "    2. **Ensuring mathematical understanding.** Not only did the note use accessible language, it also included the bias and variance terms in the expected squared loss function with a clear explanation of the meaning of these terms. It really helped us break down the concepts and clearly see the links to the mathematical formulas.\n",
    "    \n",
    "    3. **Building off the foundation by diving into Lasso and Ridge concepts.** This note then linked the bias/variance tradeoffs to regularization by introducting Lasso and Ridge as options to reach a more optimal squared loss value. This allowed us to see the connection between these two concepts.\n",
    "    \n",
    "    Overall, this note did a wonderful job of moving from foundational understanding to more complex understanding with a good mix of mathematical and verbal exaplanations.\n",
    "    \n",
    "\n",
    "* **How this note may be further improved:**\n",
    "\n",
    "    1. **More clearly defining formulas in a readable manner.** A lot of the formulas, especially at the beginning of the note, go onto the second line. Ensuring these fit on a single line would increase readability. I think the note's readability declines in the last section on Shrinkage Method: Lasso v Ridge. A connection to a real-world scenario where we might use Lasso or Ridge Regularization might help improve the understanding. \n",
    "    \n",
    "    2. **Inclusion of video supplements for bias, variance, and regularization.** The note linked to some helpful articles. We especially appreciated the graphics in the last linked article. However, to include visual and auditory learners, we think that a video may be useful. Here is one [link to Andrew Ng's Regularization Introduction](https://www.youtube.com/watch?v=u73PU6Qwl1I) that we found particularly helpful."
   ]
  }
 ],
 "metadata": {
  "colab": {
   "collapsed_sections": [],
   "name": "HW3-F20-MIS382N_Q-updated-2.ipynb",
   "provenance": []
  },
  "kernelspec": {
   "display_name": "Python 3",
   "language": "python",
   "name": "python3"
  },
  "language_info": {
   "codemirror_mode": {
    "name": "ipython",
    "version": 3
   },
   "file_extension": ".py",
   "mimetype": "text/x-python",
   "name": "python",
   "nbconvert_exporter": "python",
   "pygments_lexer": "ipython3",
   "version": "3.7.6"
  }
 },
 "nbformat": 4,
 "nbformat_minor": 1
}
